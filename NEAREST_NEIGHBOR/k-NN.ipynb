{
 "cells": [
  {
   "cell_type": "markdown",
   "id": "2d23c148-a6aa-4751-adad-6296bef274e9",
   "metadata": {},
   "source": [
    "# Nearest Neighbor Classifier (Modelo de Aprendizaje Automatico)\n",
    "\n",
    "## Introduction\n",
    "El metodo clasificador de K-NN es un modelo del aprendizaje automatico muy sencillo. Es un clasificador de aprendizaje automatico supervisado no parametrico, que utiliza la proximidad para hacer predicciones o clasificaciones. Partiendo de esto se puede decir que este metodo funciona para problemas de regresion o clasificacion pero es mayoritariamente utilizado para clasificaciones sabiendo que compara la distancia de un punto a otro.\n",
    "\n",
    "Es esencialmente un algoritmo de aprendizaje automatico que toma un set de datos y es entrenado para poder realizar predicciones o tamar decisiones en base a nuevos datos. Estas son las razones por las cuales k-NN es considerado un algoritmo de aprendizaje automatico:\n",
    "\n",
    "### Definicion y Parametro\n",
    "* Tiene una representacion explicita de los datos de entrada y las etiquetas\n",
    "* No tiene parametros ajustables como otros modelos, por ejemplo los pesos en una red neuronal, pero toma decisiones basadas en metricas de distancia definidas L1, L2 etc.\n",
    "\n",
    "### Fase de entrenamiento\n",
    "* Esta fase en si solo es el almacenamiento de los datos con sus respectivas clasificaciones para una posterior comparacion con nuevas intancias\n",
    "\n",
    "### Fase de Prediccion\n",
    "* El modelo cuenta con el metodo de predict o predecir usando metricas de distancia para realizar la prediccion o suposicion de donde entras categorizados los nuevos datos\n",
    "* Realiza comparaciones usando los datos del ¨entrenamiento¨.\n",
    "  \n",
    "### Uso de datos para tomar decisiones\n",
    "* La metodologia que utiliza el k-NN para predecir datos y tomar decisiones en base a patrones o caracteristicas ya conocidas es lo que lo hace un modelo de aprendizaje automatico.\n",
    "\n",
    "<img src=\"data/image/k-NN.png\" alt=\"A Series\" style=\"width: 600px;\"/>\n",
    "Diagrama de k-NN"
   ]
  }
 ],
 "metadata": {
  "kernelspec": {
   "display_name": "Python 3 (ipykernel)",
   "language": "python",
   "name": "python3"
  },
  "language_info": {
   "codemirror_mode": {
    "name": "ipython",
    "version": 3
   },
   "file_extension": ".py",
   "mimetype": "text/x-python",
   "name": "python",
   "nbconvert_exporter": "python",
   "pygments_lexer": "ipython3",
   "version": "3.11.7"
  }
 },
 "nbformat": 4,
 "nbformat_minor": 5
}
