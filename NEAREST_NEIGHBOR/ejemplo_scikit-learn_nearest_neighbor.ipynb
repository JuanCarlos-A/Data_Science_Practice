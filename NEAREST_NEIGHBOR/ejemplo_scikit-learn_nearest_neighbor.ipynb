{
 "cells": [
  {
   "cell_type": "markdown",
   "id": "38d2fd6e-9176-4bf7-8095-d5ac3e42778d",
   "metadata": {},
   "source": [
    "# Nearest Neighbor Classifier\n",
    "\n",
    "## Introduccion\n",
    "\n",
    "Este es un metodo de clasificacion simple pero muy poderoso usado en el machine learning para poder separar lo datos de entrada en las distintas clases obtenidas desde el entrenamiento. Tambien es conocida como `k-NN` donde \"**K**\" es el numero de vecinos con caracteristictas, con base en esto se dice que los puntos o K con caracteristicas similares, son de la misma clase.\n",
    "\n",
    "Para poder medir la distancia que tienen los puntos respecto a los puntos de las clases obtenidas del entrenamiento se hace uso de las metricas **L1 Distance** y **L2 Distance**.\n",
    "\n",
    "Este metodo es muy efectivo y poderoso, contando con varias ventajas y desventajas:\n",
    "\n",
    "## Ventajas\n",
    "    * Simplicidad\n",
    "    * Eficacia\n",
    "    * No parametrizacion\n",
    "\n",
    "\n",
    "##  Desventajas\n",
    "    * Costoso en la computacion\n",
    "    * Sensibilidad o Noisy Data\n",
    "    * Imbalance de Clases\n",
    "\n",
    "### Pasos para realizar esta clasificacion del algoritmo k-NN:\n",
    "\n",
    "* Eleccion de K\n",
    "* Calculo de distancia\n",
    "* Seleccion de vecinos\n",
    "* Asignacion de clases\n",
    "\n"
   ]
  },
  {
   "cell_type": "code",
   "execution_count": 1,
   "id": "2baf95cf-7fe9-44da-ad21-e4d14fdf6ea0",
   "metadata": {},
   "outputs": [
    {
     "name": "stdout",
     "output_type": "stream",
     "text": [
      "Precisión del clasificador 1-NN con L1 Distance: 1.00\n"
     ]
    }
   ],
   "source": [
    "import numpy as np\n",
    "from sklearn.model_selection import train_test_split\n",
    "from sklearn import datasets\n",
    "from sklearn.neighbors import KNeighborsClassifier\n",
    "from sklearn.metrics import accuracy_score\n",
    "\n",
    "# Cargar un conjunto de datos de ejemplo\n",
    "iris = datasets.load_iris()\n",
    "X = iris.data\n",
    "y = iris.target\n",
    "\n",
    "# Dividir el conjunto de datos en entrenamiento y prueba\n",
    "X_train, X_test, y_train, y_test = train_test_split(X, y, test_size=0.3, random_state=42)\n",
    "\n",
    "# Crear el clasificador 1-NN con la métrica de distancia L1 (Manhattan Distance)\n",
    "knn = KNeighborsClassifier(n_neighbors=1, metric='minkowski', p=1)\n",
    "\n",
    "# Entrenar el clasificador\n",
    "knn.fit(X_train, y_train)\n",
    "\n",
    "# Hacer predicciones sobre el conjunto de prueba\n",
    "y_pred = knn.predict(X_test)\n",
    "\n",
    "# Evaluar la precisión del modelo\n",
    "accuracy = accuracy_score(y_test, y_pred)\n",
    "print(f\"Precisión del clasificador 1-NN con L1 Distance: {accuracy:.2f}\")"
   ]
  }
 ],
 "metadata": {
  "kernelspec": {
   "display_name": "Python 3 (ipykernel)",
   "language": "python",
   "name": "python3"
  },
  "language_info": {
   "codemirror_mode": {
    "name": "ipython",
    "version": 3
   },
   "file_extension": ".py",
   "mimetype": "text/x-python",
   "name": "python",
   "nbconvert_exporter": "python",
   "pygments_lexer": "ipython3",
   "version": "3.11.7"
  }
 },
 "nbformat": 4,
 "nbformat_minor": 5
}
