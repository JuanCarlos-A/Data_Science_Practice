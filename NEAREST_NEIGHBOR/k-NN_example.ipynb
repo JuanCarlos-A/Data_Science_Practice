{
 "cells": [
  {
   "cell_type": "code",
   "execution_count": 3,
   "id": "c16fa08f-e4fe-4176-adde-2bd8743b415c",
   "metadata": {},
   "outputs": [],
   "source": [
    "import numpy as np\n",
    "\n",
    "class NearestNeighbor:\n",
    "    def __init__(self):\n",
    "        pass\n",
    "\n",
    "    def train(self, X, y):\n",
    "        \"\"\" X is N x D where each row is an example. Y is l-dimension of size N\"\"\"\n",
    "        # the nearest neighbor classifier simply remenbers all the training data\n",
    "        self.Xtr = X\n",
    "        self.ytr = y\n",
    "        \n",
    "    def predict(self, X):\n",
    "        \"\"\" X is N x D where each row is an example we wish to predict label for \"\"\"\n",
    "        num_test = X.shape[0]\n",
    "        # lets make sure that the output type matches the input type\n",
    "        Ypred = np.zeros(num_test, dtype = self.ytr.dtype)\n",
    "\n",
    "        # loop over all test rows\n",
    "        for i in range(num_test):\n",
    "            # find the neares training image to the i`th test image\n",
    "            # using the L1 distance (sum of absolute value differences)\n",
    "            distances = np.sum(np.abs(self.Xtr - X[i,:]), axis = 1)\n",
    "            min_index = np.argim(distances) # get the index with smallest distance\n",
    "            Ypred[i] = self.ytr[min_index] # predict the label of the nearest example\n",
    "\n",
    "        return Ypred"
   ]
  },
  {
   "cell_type": "markdown",
   "id": "c9c80f08-7e87-46bf-98ef-3635441afd7f",
   "metadata": {},
   "source": [
    "# Explicacion del Codigo\n",
    "## Caso de ejemplo\n",
    "Imaginamos que tenemos una base de datos con las imagenes de animales. Ahora quieres crear un sistema al cual se le pueda entregar una foto y nos diga que tipo de animal esta en la foto. Para poder realizar esto vamos a usar el metodo de Nearest Neighbor o Vecino Cercano.\n",
    "\n",
    "### Clase **Nearest Neighbor**:\n",
    "Creamos una clase que contendra dos funciones:\n",
    "\n",
    "* **`train()`**\n",
    "    * Esta funcion entrenara al modelo, pero simplemente le mostramos todas las fotos de animales que conocemos y como estan divididas para ser identificadas\n",
    "* **`predict()`**\n",
    "    * Esta funcion recibira una nueva imagen y iterara en cada una de las imagenes conocidas hasta poder reconocer en que clasificacion entra la nueva instancia de imagen."
   ]
  },
  {
   "cell_type": "markdown",
   "id": "97c7f435-b73b-449e-be07-50f516b4b27b",
   "metadata": {},
   "source": [
    "### Importacion de librerias\n",
    "#### Numpy \n",
    "Una libreria de python que se relaciona al manejo de datos desde un punto de vista matematico. Es decir que nos ayuda en el calculo matematico y analisis de datos haciendo una inroduccion a una estructura de datos llamada array.\n",
    "\n",
    "### Metodos\n",
    "#### init():\n",
    "Este es un metodo magico o dunder method, dentro de una programacion mas transversal esto es un contructor que sera llamado al crear una instancia de una clase.\n",
    "\n",
    "En sí no realiza ninguna accion por eso tiene dentro la keyword de pass\n",
    "\n",
    "#### train(self, X, y):\n",
    "Este metodo sera entendido como el que va entrenar el modelo de NearestNeighbor con la matriz de entrada ya clasificada, en este contexto el parametro de X es un matriz de entrada N (Numero de filas o numero de imagenes) * D (Numero de columnas o caracteristicas por cada ejemplo o fila). Estos parametro que toma son almacenados en variables de entremnamiento.\n",
    "\n",
    "#### predict(self, X)\n",
    "Este metodo ya es el encargado de realizar la prediccion segun una matriz de entrada que solo tendra las filas/ejemplos y las columnas/caracteristicas.\n",
    "~~~ python\n",
    "num_test = X.shape[0]\n",
    "~~~\n",
    "Esta linea de codigo toma el primer inidice de la tupla del atributo `shape` de un objeto de tipo array, con el fin de tener la cantidad de datos de prueba.\n",
    "~~~ python\n",
    "Ypred = np.zeros(num_test, dtype = self.ytr.dtype)\n",
    "~~~\n",
    "Esta linea de codigo crea un array que estara lleno de numeros ceros segun la cantidad de filas de la variable de pruebas y nos aseguramos que los datos que sean del mismo tipo que las categorias o etiquetas de entrenamiento.\n",
    "\n",
    "~~~ python\n",
    "for i in range(num_test):\n",
    "            # find the neares training image to the i`th test image\n",
    "            # using the L1 distance (sum of absolute value differences)\n",
    "            distances = np.sum(np.abs(self.Xtr - X[i,:]), axis = 1)\n",
    "            min_index = np.argim(distances) # get the index with smallest distance\n",
    "            Ypred[i] = self.ytr[min_index] # predict the label of the nearest example\n",
    "~~~\n",
    "\n",
    "Este ciclo se encarga de comparar todas las imagenes de prueba con cada una de las imagenes de entrenamiento que el modelo ya conoce, luego se realiza el calculo de la distancia utilizando las formulas de las metricas L1, L2 o Minkowski segun el problema.\n",
    "\n",
    "Guardamos en la variable de distances sumando las direferencias absolutas de las distancias de cada imagen de prueba con las imagenes de entrenamiento, luego dentro de la variable de min_index obtenemos el indice de la menor distancia con la que coincidio la imagen de prueba.\n",
    "\n",
    "En la ultima linea guardamos dentro del array que preparamos antes, la categoria con la que mas coincidio la imagen de prueba respecto a las imagenes de entrenamiento."
   ]
  },
  {
   "cell_type": "markdown",
   "id": "1cd7d4e8-8f3c-412e-8c14-111f2c8bca8f",
   "metadata": {},
   "source": []
  }
 ],
 "metadata": {
  "kernelspec": {
   "display_name": "Python 3 (ipykernel)",
   "language": "python",
   "name": "python3"
  },
  "language_info": {
   "codemirror_mode": {
    "name": "ipython",
    "version": 3
   },
   "file_extension": ".py",
   "mimetype": "text/x-python",
   "name": "python",
   "nbconvert_exporter": "python",
   "pygments_lexer": "ipython3",
   "version": "3.11.7"
  }
 },
 "nbformat": 4,
 "nbformat_minor": 5
}
