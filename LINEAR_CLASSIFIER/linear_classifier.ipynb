{
 "cells": [
  {
   "cell_type": "markdown",
   "id": "8114ad5e-963f-4565-817e-af7d910ecf24",
   "metadata": {},
   "source": [
    "# Clasificacion Lineal\n",
    "## Introduction\n",
    "Un clasificador lineal es un modelo de aprendizaje supervisado que toma decisiones de clasificación basadas en una combinación lineal de las características de entrada. En términos simples, un clasificador lineal intenta separar los datos en diferentes categorías usando líneas rectas (o hiperplanos en dimensiones superiores).\n",
    "\n",
    "## Funcion de decisión lineal\n",
    "La idea principal detrás de un clasificador lineal es usar una función de decisión lineal para asignar una etiqueta a una muestra de entrada. La función de decisión se puede representar como:\r\n",
    "* [ f(x) = W \\cdot x + bCde aprendizaje."
   ]
  },
  {
   "cell_type": "code",
   "execution_count": null,
   "id": "ffa0a34e-50ab-4a5c-9dfc-a081cac3f6f0",
   "metadata": {},
   "outputs": [],
   "source": [
    "|"
   ]
  }
 ],
 "metadata": {
  "kernelspec": {
   "display_name": "Python 3 (ipykernel)",
   "language": "python",
   "name": "python3"
  },
  "language_info": {
   "codemirror_mode": {
    "name": "ipython",
    "version": 3
   },
   "file_extension": ".py",
   "mimetype": "text/x-python",
   "name": "python",
   "nbconvert_exporter": "python",
   "pygments_lexer": "ipython3",
   "version": "3.11.7"
  }
 },
 "nbformat": 4,
 "nbformat_minor": 5
}
