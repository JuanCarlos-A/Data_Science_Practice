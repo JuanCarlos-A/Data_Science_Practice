{
 "cells": [
  {
   "cell_type": "markdown",
   "id": "af732528-a0eb-431f-99e7-2e1dce2bcb62",
   "metadata": {},
   "source": [
    "# Introducción a **Neural Network**"
   ]
  },
  {
   "cell_type": "markdown",
   "id": "a86f09b7-d54b-4a7e-aaf7-142c303b6e52",
   "metadata": {},
   "source": [
    "## ¿Que es una *Neural Network*?\n",
    "Una **neural network** es un metodo que permite a las computadoras procesar datos inspirada en la red neuronal humana. Es un tipo de proceso de *Machine Learning* que usa **`nodos`** o **`neuronas`** en una estructura en capas que es parecida a un cerebro humano. Utiliza un sistema *adaptativo* que las computadoras usan para aprender de sus errores y mejorar continuamente, ademas que las redes neuronales artificiales intentan resolver problemas complejos de manera mas acertada."
   ]
  },
  {
   "cell_type": "markdown",
   "id": "58389a4c-132f-41a9-bb0b-e272c60f055f",
   "metadata": {},
   "source": [
    "## ¿Porque son importantes las *Neural Network*?\n",
    "Las redes neuronales permiten a las computadoras realizar tareas complejas casi sin la asistencia de las personas. Esto es a causa de que pueden aprender y realizar modelacion de las relaciones entre los input y los output que no son lineales y complejos. \n",
    "\n",
    "### Hacer generalizaciones y interfacez\n",
    "Las redes neuronales pueden comprender *datos no estructurados* y hacer observaciones generales sin la necesidad de entrenamiento. Por ejemplo ellos pueden reconocer dos sentencias distintas pero con el mimso significado:\n",
    "* ¿Puedes decirme como realizo el pago?\n",
    "* ¿Como transfiero el dinero?\n",
    "\n",
    "Una red neuronal puede reconocer la similitud entre el significado de las dos sentencias."
   ]
  },
  {
   "cell_type": "markdown",
   "id": "25e5f3c0-d109-4069-a53d-0d297c4673d2",
   "metadata": {},
   "source": [
    "## ¿Para que son utilizadas las redes neuronales?\n",
    "\n",
    "Las *redes neuronales* tienen distintos usos a travez de las muchas industrias:\n",
    "* Diagnosticos medicos por medio de clasificacion de imagenes\n",
    "* Predicciones en el mercado a travez del analisis de datos financieros\n",
    "* Identificacion de quimicos\n",
    "* Proceso y control de calidad de productos\n",
    "\n",
    "Aplicaciones importantes de las redes neuronales:\n",
    "\n",
    "### *Computer Vision*\n",
    "\n",
    "Es la capacidad de las computadoras de obtener informacion y ideas o percepciones de imagenes o videos que analizan. Con ayuda de las redes neuronales las computadoras pueden `identificar imagenes` similares a humanos. Computer vision tiene las siguientes aplicaciones en la industria:\n",
    "* Reconocimiento visual en sistemas de conduccion para identificar señales del camino y usuarios de las carreteras\n",
    "* Moderacion de contenido automatico con el objetivo de remover imagenes inseguras o contenido inapropiado\n",
    "* Reconocimiento facial para identificar atributos como el color de los ojos, la boca, etc\n",
    "* Etiquetacion en imagenes para identificar logos, ropa y elementos de seguridad\n",
    "\n",
    "### *Speech Recognition*\n",
    "\n",
    "Es la capacidad de las computadoras de `reconocer elementos en una charla` o peticion hablada, diferenciando elementos como el acento, tono, el lenguaje. Estas computadoras son conocidas como asistenes como alexa de Amazon y software que se utiliaza con este proposito:\n",
    "* Convertir conversaciones clinicas en documentos en tiempo real\n",
    "* Subtitular videos y reuniones con precision\n",
    "* Asistentes de llamadas y clasiicacion de estas automaticamente\n",
    "\n",
    "### *Natural Language Processing*\n",
    "\n",
    "Es la capacidad de las maquinas de procesar el lenguaje natural producido por los humanos en formato de texto. Las redes neuronales permiten obtener ideas y significados de los datos en los textos. NLP tiene multiples usos en la industria:\n",
    "* Agentes automaticos virtuales como chatbots\n",
    "* Clasificacion y organizacion automatica en textos de datos\n",
    "* Inteligencia de Negocio para formatos extensos como correos y formularios\n",
    "* Resumen de documentos especificos y articulos\n",
    "\n",
    "### Recommendation Engines\n",
    "\n",
    "Las redes neuronales permiten rastrear las actividades del usuario para realizar recomendaciones personalizadas ya sea de productos. Por ejemplo algunas empresas pueden usar las redes neuronales para recomendar productos segun las busquedas de los usuarios o sus publicaciones"
   ]
  },
  {
   "cell_type": "markdown",
   "id": "704eda10-bb77-42c8-b6ca-7861015c0fb3",
   "metadata": {},
   "source": [
    "## ¿Como funcionan las redes neuronales?\n",
    "Las redes neuronales artificiales son inspiraciones del funcionamiento del cerebro humano y su arquitectura. Dentro de las estructuras del cerebro humano se encuentran las neuronas que son una cadena de celulas que por medio de pequeños impulsos electromagneticos ayudan a los seres humanos a entender y procesar la informacion que reciben. \n",
    "\n",
    "De manera similar una red neuronal artificial esta hecha de neuronas artificiales que trabajaran juntas para resilver un poblema. Las neuronas artificiales son modulo de software llamados nodos y las redes de neuronales artificales son algoritmos que en su nucleo usan sistemas computarizados para resolver calculos matematicos."
   ]
  },
  {
   "cell_type": "markdown",
   "id": "9c02d836-8716-4c8f-9f51-fd770962fd47",
   "metadata": {},
   "source": [
    "### Arquitectura de de una red neuronal simple\n",
    "Una red neuronal artificial simple tiene una arquitectura de tres layers o capas:\n",
    "* Input layer\n",
    "    * La informacion del exterior ingresa por la capa de entrada o **input layer** a la red neuronal. Desde ahi los nodos de la **input layer** se encargan de procesar, analizar y categorizar los datos para ser pasados a la siguiente capa.\n",
    "\n",
    "* Hidden player\n",
    "    * Las capaz ocultas o **hidden layer** toman los datos de las capaz de entrada u otras capaz ocultas. Las Neural networks pueden tener una gran cantidad de **hidden layers** y cada una analiza a mas detalle los inputs recibidos y los pasa a las siguientes capaz.\n",
    "\n",
    "* Output layer\n",
    "    * La capa de salida o **output layer** se encarga de dar los resultados finales procesados por la red neuronal. Dependiendo del problema que abarque la red neuronal puede tener cierta cantidad de nodos en la capa de salida, por ejemplo si es un problema de clasificacion binaria (si o no), entonces la cantidad de nodos dentro de esta capa sera uno, este nos dara 0 o 1. Pero si tenemos un problema de clasificacion multiple la **output layer** puede consistir de uno o mas nodos."
   ]
  },
  {
   "cell_type": "markdown",
   "id": "c5e4324d-8a34-4046-b542-1a32b0356a9a",
   "metadata": {},
   "source": [
    "## Arquitectura Deep Neural Network\n",
    "\n",
    "Las redes neuronales pueden contener cientos de capaz ocultas con millones de nodos o neuronas artificiales que estan unidas juntas.\n",
    "Existe una unidad de medida que mide la cantidad de nodos que un solo nodo puede influenciar, los nodos con un **`weight`** o peso positivo indica que exitan a otro nodo y los nodos con pesos negativos suprimen a otros nodos. La cantidad de **`weight`** que un nodo tiene indica la cantidad de nodos que puede influenciar."
   ]
  },
  {
   "cell_type": "markdown",
   "id": "f276fb1b-2188-4410-9203-1801ca3f4aac",
   "metadata": {},
   "source": [
    "## ¿Que tipo de redes neuronales existen?\n",
    "Las redes neuronales pueden ser categorizadas dependiendo del flujo de los datos en los nodos de entrada y los nodos de salida. Estos son algunos ejemplos:\n",
    "\n",
    "### Feedforward neural networks\n",
    "Estas redes neuronales procesan datos o informacion de manera lineal en una direccion. Todo nodo en una capa esta conectado a todos los nodos en la siguente capa. Un `feedforward network` usa una retroalimentacion para mejorar las predicciones.\n",
    "\n",
    "### Backpropagation algorithm\n",
    "Las redes neuronales artificiales aprenden continuamente usando ciclos de retroalimentacion correctiva para poder mejorar su analisis predictivo. En terminos simples, tu puedes pensar en la informacion o datos flotando del nodo de entrada al nodo de salida a travez de muchos caminos diferentes en la red neuronal. Solo un camino es el correcto que emparejara el nodo de entrada a el correcto nodo de salida, para llegar a esta conclucion la red neuronal utiliza ciclos de retroalimentacion que funcionan de la siguiente manera:\n",
    "* Cada nodo hace una aproximacion del siguiente nodo en el camino\n",
    "* Revisa si la aproximacion es la correcta. Los nodos asignan un peso mayor a los caminos con los nodos que pueden llegar a una solucion correcta y un menor peso a los nodos que pueden llevar a una solucion incorrecta.\n",
    "* Para el siguiente paso los nodos hacen una prediccion usando los caminos con el paso mas alto y luego repiten el paso 1.\n",
    "\n",
    "### Convolutional Networks\n",
    "Las capas ocultas en las convolutional Networks realizan funciones matematicas especificas, como el resumen de los filtros. Son muy utiles para categorizacion y clasificacion de imagenes porque pueden extraer caracteristicas relevantes de las imagenes que pueden servir para el reconocimiento de imagenes. Cada capa oculta sirve para poder extraer diferentes caractisticas como el color, bordes y profudidad."
   ]
  },
  {
   "cell_type": "markdown",
   "id": "ca531359-dbaa-479c-9267-f3f90a7f4cf5",
   "metadata": {},
   "source": [
    "## ¿Como entrenar redes neuronales?\n",
    "El entrenamiento de redes neuronales es el proceso mediante el cual se le instruye a una red neuronal como debe realizar cierta tarea. Inicialmete las redes neuronales aprenden al *procesar* una gran cantidad de *datos etiquetados o no etiquetados*. Mediante este proceso le permite luego procesar *datos de entrada desconocidos*.\n",
    "\n",
    "### Supervised Learning\n",
    "El entrenamiento supervisado es un metodo de entrenamiento de las redes neuronales. El procedimiento empieza con los cientifios de datos entregando una gran cantida de *sets* o arreglos de datos que ya estan clasificados por etiquetas en columnas que proveen la solucion correcta mas tarde a estos datos. Por ejemplo una red neuronal de aprendizaje profundo entrenando en el *reconocimiento facial* procesa una gran cantidad de imagenes de rostros humanos con varianzas en cada imagen como lo puede ser la etnia, la exprecion facial.\n",
    "\n",
    "Las redes neuronales construyen lentamenre el conocimiento de estos *datasets* u arreglos de datos que proveen la respuesta mas adelante. Despues de que la red neuronal haya sido entrenada, esta comienza a hacer acertaciones o conclusiones sobre las imagenes desconocidas."
   ]
  },
  {
   "cell_type": "markdown",
   "id": "97b8f272-99a7-4f84-8e7d-b6c4bbd7573c",
   "metadata": {},
   "source": [
    "## ¿Que es el aprendizaje profundo en el contexto de las redes neuronales?\n",
    "La **inteligencia artificial** es el campo de la ciencia de la computacion que busca los metodos para poder dar la capacidad de que las maquinas puedan resolver problemas que requieran inteligencia humana. **Machine Learning** o aprendizaje de maquina es una tecnica de la inteligencia artificial que le provee de una gran cantidad de datos a las computadoras con el objetivo de ser aprender de estos datos y poder realizar predicciones. El **Deep Learning** es un subconjunto del Machine Learning que utiliza las redes neuronales artificiales para poder procesar los datos.\n",
    "\n",
    "### Machine Learning VS Deep Learning\n",
    "El *Machine Learning Tradicional* es un metodo que requiere la intervension de los humanos para que el software de ML puede trabajar de manera suficiente. Un cientifico de datos de manera manual determina las caracteristicas relevantes que el software debe analizar. Esto limita la habilidad de ML ademas de ser muy tedioso de crear y manejar.\n",
    "\n",
    "Por otra parte el Deep Learning, el cientifico de datos solo tiene que dar una fila de datos al software. Las redes neuronales de aprendizaje profundo obtenga las caracteristicas y aprenda de manera independiente. Tiene la capacidad de analizar datos no estructurados como textos, documentos identificando cuales atributos priorizar y resolver problemas mas complejos.\n",
    "\n",
    "Por ejemplo si quisieras entrenar un software de ML para reconocer mascotas a partir de imagenes:\n",
    "\n",
    "* Encuentra un monton de imagenes y etiquetalas segun el animal que represente manualmente.\n",
    "* Explicarle al software que caracteristicas debe buscar para poder identificar las imagenes usando eliminacion. Por ejemplo que busque la cantidad de patas, la forma de los ojos y etc.\n",
    "* Manualmente evalua y cambia los datos categorizados para mejorar la precision del software.\n",
    "* En **Deep Learning**, las redes neuronales automaticamente analizaran todas las imagenes y separaran las caracteristicas a resaltar para identificar a las mascotas."
   ]
  },
  {
   "cell_type": "code",
   "execution_count": null,
   "id": "2186e19f-8d6c-4a78-825a-f61e5ef7add3",
   "metadata": {},
   "outputs": [],
   "source": []
  }
 ],
 "metadata": {
  "kernelspec": {
   "display_name": "Python 3 (ipykernel)",
   "language": "python",
   "name": "python3"
  },
  "language_info": {
   "codemirror_mode": {
    "name": "ipython",
    "version": 3
   },
   "file_extension": ".py",
   "mimetype": "text/x-python",
   "name": "python",
   "nbconvert_exporter": "python",
   "pygments_lexer": "ipython3",
   "version": "3.11.7"
  }
 },
 "nbformat": 4,
 "nbformat_minor": 5
}
