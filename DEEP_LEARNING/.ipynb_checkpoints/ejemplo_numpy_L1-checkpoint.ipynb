{
 "cells": [
  {
   "cell_type": "markdown",
   "id": "b983392b-9c8c-4263-8754-7f7360a0a7cc",
   "metadata": {},
   "source": [
    "# L1 Distance o *Manhatan Distance*\n",
    "\n",
    "## Introduccion\n",
    "\n",
    "La L1 Distance es una `metrica` que nos permite conocer la *similitud* o *desimilitud* entre dos caracteristicas. En el campo de **Computer Vision** es utilizado para comparar dos puntos en un *espacio multidimensional*.\n",
    "\n",
    "## Usos de L1 Distance en Deep Learning para Computer Vision\n",
    "\n",
    "Estos son los distintos usos que tiene el L1 Distance en el campo de Deep Learning para Computer Vision:\n",
    "* Reconocimiento de Imagenes y Deteccion de Objetos\n",
    "* Supervisión de Redes Generativas (GANS)\n",
    "* Segmentacion de Imagenes\n",
    "* Redes Siameses\n",
    "\n",
    "\n",
    "### Ejemplo usando Numpy"
   ]
  },
  {
   "cell_type": "code",
   "execution_count": 2,
   "id": "c79b14e7-ea04-4b35-a4e8-d0016e417d4d",
   "metadata": {},
   "outputs": [
    {
     "name": "stdout",
     "output_type": "stream",
     "text": [
      "L1 Distance : 6\n"
     ]
    }
   ],
   "source": [
    "import numpy as np\n",
    "\n",
    "# Presentamos dos puntos como los vectores\n",
    "p = np.array([1, 2, 3])\n",
    "q = np.array([4, 0, 2])\n",
    "\n",
    "# Calculamos la distancia L1 sumando las diferencias absolutas\n",
    "l1_distance = np.sum(np.abs(p - q))\n",
    "\n",
    "# Mostramos la similitud o desimilitud\n",
    "print(f'L1 Distance : {l1_distance}')"
   ]
  },
  {
   "cell_type": "markdown",
   "id": "4fa982b6-341e-40fe-95ca-68350bd32269",
   "metadata": {},
   "source": [
    "En este ejemplo usando la libreria de `Numpy` nosotros podemos usar las distintas herramientas ya creadas y poder obtener la metrica de *L1 Distance*."
   ]
  },
  {
   "cell_type": "code",
   "execution_count": null,
   "id": "ee396bd7-e1f3-4918-ba9b-51d73b60c03c",
   "metadata": {},
   "outputs": [],
   "source": []
  }
 ],
 "metadata": {
  "kernelspec": {
   "display_name": "Python 3 (ipykernel)",
   "language": "python",
   "name": "python3"
  },
  "language_info": {
   "codemirror_mode": {
    "name": "ipython",
    "version": 3
   },
   "file_extension": ".py",
   "mimetype": "text/x-python",
   "name": "python",
   "nbconvert_exporter": "python",
   "pygments_lexer": "ipython3",
   "version": "3.11.7"
  }
 },
 "nbformat": 4,
 "nbformat_minor": 5
}
