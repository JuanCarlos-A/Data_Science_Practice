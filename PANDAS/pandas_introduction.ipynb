{
 "cells": [
  {
   "cell_type": "markdown",
   "id": "7a060d49-cb1c-4c0b-9b7c-f50c13765dd3",
   "metadata": {},
   "source": [
    "# Apuntes de la Libreria de `Pandas`"
   ]
  },
  {
   "cell_type": "markdown",
   "id": "1838a4b2-08d7-49df-bbc8-f30bad443028",
   "metadata": {},
   "source": [
    "## Introduccion \n",
    "\n",
    "Pandas proviene del nombre de panel de datos. Es una libreria de Python que extiende una gran cantidad de recursos o metodos \n",
    "disponibles para el analisis de datos y su manipulacion. \n",
    "\n",
    "Primeramente observamos estructuras de datos basicas como listas y diccionarios. A primera vista podemos crear tablas sencillas con listas anidadas pero el metodo y la eficacia de este metodo es poco efectiva, en su lugar la libreria de python conocida como Pandas nos brinda una estructura de datos en forma de tabla conocida como DataFrames; tambien podemos encontrar los objetos de tipo Series, estas estructuras nos facilita el manejo de datos pensando en filas y columnas."
   ]
  },
  {
   "cell_type": "markdown",
   "id": "759493e3-4330-41d8-8dc8-7a7cd39c4a46",
   "metadata": {},
   "source": [
    "## DataFrames y Series\n",
    "\n",
    "Pandas trae funcionalidades de SQL, R a python permitiendo una manipulacion y filtracion de datos mas eficiente que si se hiciera de una forma con Python puro. La eficiencia es vista desde dos angulos:\n",
    "\n",
    "* Los Scipts escritos con python puro sueln tener mas lineas de codigo que escribirlos con Pandas.\n",
    "* Los Scripts escritos en Pandas tiene una menor complejidad temporal, es decir que el tiempo de ejecucion es menor.\n",
    "\n",
    "Dentro de los objetos de estructuras tabulares de datos estan los **DataFrames** y **Series**:\n",
    "\n",
    "* **`Series`** son objetos de una dimension que solo almacenan una columna con unico indice para identificar\n",
    "* **`DataFrames`** son objetos multi-dimensionales tabulares, en otras palabras son estructuras de datos que cuentan con dos indices, uno para las filas y otro para las columnas. Tambien podemos pensar que un **DataFrame** es un objeto con multiples objetos **Serie** dentro.\n",
    "\n",
    "Esta es una representacion grafica de los **DataFrames** y las **Serie**:\n",
    "\n",
    "### DataFrame\n",
    "<img src=\"data/images/dataframe.jpg\" alt=\"A Dataframe\" style=\"width: 500px;\"/>\n",
    "\n",
    "Como puedes ver esta representacion tiene el indice de las columnas y tiene un indice de filas, cuando extraes una columna de un **DataFrame** extraes un objeto **Serie**. A continuacion las series:\n",
    "\n",
    "### Serie\n",
    "<img src=\"data/images/series.jpg\" alt=\"A Series\" style=\"width: 600px;\"/>\n",
    "\n",
    "Las **Serie** son objetos de una representacion de una sola columna, es decir que solo cuenta con un indice."
   ]
  },
  {
   "cell_type": "markdown",
   "id": "290e70e7-8db7-4bf5-a8ed-724bd85ad019",
   "metadata": {},
   "source": [
    "## Cargar datos dentro de Pandas\n",
    "\n",
    "Uno de los formatos mas usadosy populares para manejar datos es usando el formato de **CSV (Command-Separated Values)**, luego podemos manipular esos datos mediante pandas. Esta es una representacion grafica de una tabla:\n",
    "\n",
    "<img src=\"data/images/csv.jpg\" alt=\"A CSV file\" style=\"width: 500px;\"/>\n",
    "\n",
    "\n",
    "La forma de importar dentro de un script de python la libreria de pandas es la siguiente:\n",
    "\n",
    "~~~ python\n",
    "import pandas as pd ## pd es un alias de convencion\n",
    "pd.read_csv(\"path/to/file.csv\")\n",
    "~~~\n",
    "\n",
    "Vamos a usar el motor de IPython para trabajar con codigo python:"
   ]
  },
  {
   "cell_type": "code",
   "execution_count": 19,
   "id": "68d4f731-c4a0-4efc-825b-0e1b0fb14e75",
   "metadata": {},
   "outputs": [],
   "source": [
    "import pandas as pd\n",
    "\n",
    "df = pd.read_csv(\"data/watches.csv\")"
   ]
  },
  {
   "cell_type": "markdown",
   "id": "c9db1617-b79b-414b-a72e-efc59ea0dc5a",
   "metadata": {},
   "source": [
    "Con ayuda de un metodo llamado **`.head()`** podemos visualizar los primeros 5 colecciones de filas y columnas. El metodo de **`.tail()`** nos muestra los ultimos datos."
   ]
  },
  {
   "cell_type": "code",
   "execution_count": 20,
   "id": "86a43b02-2979-4b48-af2b-15869aee132d",
   "metadata": {},
   "outputs": [
    {
     "data": {
      "text/html": [
       "<div>\n",
       "<style scoped>\n",
       "    .dataframe tbody tr th:only-of-type {\n",
       "        vertical-align: middle;\n",
       "    }\n",
       "\n",
       "    .dataframe tbody tr th {\n",
       "        vertical-align: top;\n",
       "    }\n",
       "\n",
       "    .dataframe thead th {\n",
       "        text-align: right;\n",
       "    }\n",
       "</style>\n",
       "<table border=\"1\" class=\"dataframe\">\n",
       "  <thead>\n",
       "    <tr style=\"text-align: right;\">\n",
       "      <th></th>\n",
       "      <th>model</th>\n",
       "      <th>store</th>\n",
       "      <th>condition</th>\n",
       "      <th>engagement</th>\n",
       "      <th>price</th>\n",
       "    </tr>\n",
       "  </thead>\n",
       "  <tbody>\n",
       "    <tr>\n",
       "      <th>0</th>\n",
       "      <td>Caracal</td>\n",
       "      <td>Watches unlimited</td>\n",
       "      <td>New</td>\n",
       "      <td>77.848101</td>\n",
       "      <td>489.0</td>\n",
       "    </tr>\n",
       "    <tr>\n",
       "      <th>1</th>\n",
       "      <td>Caracal</td>\n",
       "      <td>National traders</td>\n",
       "      <td>Like new</td>\n",
       "      <td>75.696203</td>\n",
       "      <td>489.0</td>\n",
       "    </tr>\n",
       "    <tr>\n",
       "      <th>2</th>\n",
       "      <td>Caracal</td>\n",
       "      <td>National traders</td>\n",
       "      <td>Good</td>\n",
       "      <td>72.025316</td>\n",
       "      <td>490.5</td>\n",
       "    </tr>\n",
       "    <tr>\n",
       "      <th>3</th>\n",
       "      <td>Lightning bolt</td>\n",
       "      <td>Super deals</td>\n",
       "      <td>Like new</td>\n",
       "      <td>78.987342</td>\n",
       "      <td>501.0</td>\n",
       "    </tr>\n",
       "    <tr>\n",
       "      <th>4</th>\n",
       "      <td>Sand</td>\n",
       "      <td>Super deals</td>\n",
       "      <td>Good</td>\n",
       "      <td>80.126582</td>\n",
       "      <td>502.5</td>\n",
       "    </tr>\n",
       "  </tbody>\n",
       "</table>\n",
       "</div>"
      ],
      "text/plain": [
       "            model              store condition  engagement  price\n",
       "0         Caracal  Watches unlimited       New   77.848101  489.0\n",
       "1         Caracal   National traders  Like new   75.696203  489.0\n",
       "2         Caracal   National traders      Good   72.025316  490.5\n",
       "3  Lightning bolt        Super deals  Like new   78.987342  501.0\n",
       "4            Sand        Super deals      Good   80.126582  502.5"
      ]
     },
     "execution_count": 20,
     "metadata": {},
     "output_type": "execute_result"
    }
   ],
   "source": [
    "df.head()"
   ]
  },
  {
   "cell_type": "code",
   "execution_count": 3,
   "id": "4ef3d4c5-9ba5-4cf6-a953-2282791fbd0a",
   "metadata": {},
   "outputs": [
    {
     "data": {
      "text/html": [
       "<div>\n",
       "<style scoped>\n",
       "    .dataframe tbody tr th:only-of-type {\n",
       "        vertical-align: middle;\n",
       "    }\n",
       "\n",
       "    .dataframe tbody tr th {\n",
       "        vertical-align: top;\n",
       "    }\n",
       "\n",
       "    .dataframe thead th {\n",
       "        text-align: right;\n",
       "    }\n",
       "</style>\n",
       "<table border=\"1\" class=\"dataframe\">\n",
       "  <thead>\n",
       "    <tr style=\"text-align: right;\">\n",
       "      <th></th>\n",
       "      <th>model</th>\n",
       "      <th>store</th>\n",
       "      <th>condition</th>\n",
       "      <th>engagement</th>\n",
       "      <th>price</th>\n",
       "    </tr>\n",
       "  </thead>\n",
       "  <tbody>\n",
       "    <tr>\n",
       "      <th>70</th>\n",
       "      <td>Lightning bolt</td>\n",
       "      <td>National traders</td>\n",
       "      <td>Very Good</td>\n",
       "      <td>80.379747</td>\n",
       "      <td>4239.0</td>\n",
       "    </tr>\n",
       "    <tr>\n",
       "      <th>71</th>\n",
       "      <td>Sand</td>\n",
       "      <td>National traders</td>\n",
       "      <td>Good</td>\n",
       "      <td>80.506329</td>\n",
       "      <td>4282.5</td>\n",
       "    </tr>\n",
       "    <tr>\n",
       "      <th>72</th>\n",
       "      <td>Lightning bolt</td>\n",
       "      <td>Watches unlimited</td>\n",
       "      <td>Fair</td>\n",
       "      <td>67.088608</td>\n",
       "      <td>4284.0</td>\n",
       "    </tr>\n",
       "    <tr>\n",
       "      <th>73</th>\n",
       "      <td>Sand</td>\n",
       "      <td>Super deals</td>\n",
       "      <td>Like new</td>\n",
       "      <td>79.493671</td>\n",
       "      <td>835.5</td>\n",
       "    </tr>\n",
       "    <tr>\n",
       "      <th>74</th>\n",
       "      <td>Tempo</td>\n",
       "      <td>Watches unlimited</td>\n",
       "      <td>Good</td>\n",
       "      <td>82.405063</td>\n",
       "      <td>4308.0</td>\n",
       "    </tr>\n",
       "  </tbody>\n",
       "</table>\n",
       "</div>"
      ],
      "text/plain": [
       "             model              store  condition  engagement   price\n",
       "70  Lightning bolt   National traders  Very Good   80.379747  4239.0\n",
       "71            Sand   National traders       Good   80.506329  4282.5\n",
       "72  Lightning bolt  Watches unlimited       Fair   67.088608  4284.0\n",
       "73            Sand        Super deals   Like new   79.493671   835.5\n",
       "74           Tempo  Watches unlimited       Good   82.405063  4308.0"
      ]
     },
     "execution_count": 3,
     "metadata": {},
     "output_type": "execute_result"
    }
   ],
   "source": [
    "df.tail()"
   ]
  },
  {
   "cell_type": "markdown",
   "id": "e9e42bfd-8cca-47cd-8a81-7c0eb3837781",
   "metadata": {},
   "source": [
    "\n",
    "Podemos acceder a las distintas columnas mediante el indice del objeto como si trabajaramos con matricez\n",
    "\n",
    "~~~python\n",
    "df[\"price\"]\n",
    "~~~\n"
   ]
  },
  {
   "cell_type": "code",
   "execution_count": 12,
   "id": "23ebdb8a-be1c-4a96-84ff-430e4c01d432",
   "metadata": {},
   "outputs": [
    {
     "data": {
      "text/plain": [
       "0      489.0\n",
       "1      489.0\n",
       "2      490.5\n",
       "3      501.0\n",
       "4      502.5\n",
       "       ...  \n",
       "70    4239.0\n",
       "71    4282.5\n",
       "72    4284.0\n",
       "73     835.5\n",
       "74    4308.0\n",
       "Name: price, Length: 75, dtype: float64"
      ]
     },
     "execution_count": 12,
     "metadata": {},
     "output_type": "execute_result"
    }
   ],
   "source": [
    "df[\"price\"] # Accedemos sin traer el indice de la columna"
   ]
  },
  {
   "cell_type": "markdown",
   "id": "e5fdfc2c-c8ef-4657-8dc0-736c77fa63c4",
   "metadata": {},
   "source": [
    "Tambien podemos configurar el indice del dataframe usando el metodo de **`.set_index([\"name\", \"name\", \"name\"])`**, con esto podemos devolver el dataframe pero con los indices que nosotros queramos."
   ]
  },
  {
   "cell_type": "code",
   "execution_count": 21,
   "id": "d17c0ce7-fdd8-4181-8185-53045c7199fb",
   "metadata": {},
   "outputs": [
    {
     "data": {
      "text/html": [
       "<div>\n",
       "<style scoped>\n",
       "    .dataframe tbody tr th:only-of-type {\n",
       "        vertical-align: middle;\n",
       "    }\n",
       "\n",
       "    .dataframe tbody tr th {\n",
       "        vertical-align: top;\n",
       "    }\n",
       "\n",
       "    .dataframe thead th {\n",
       "        text-align: right;\n",
       "    }\n",
       "</style>\n",
       "<table border=\"1\" class=\"dataframe\">\n",
       "  <thead>\n",
       "    <tr style=\"text-align: right;\">\n",
       "      <th></th>\n",
       "      <th></th>\n",
       "      <th></th>\n",
       "      <th>engagement</th>\n",
       "      <th>price</th>\n",
       "    </tr>\n",
       "    <tr>\n",
       "      <th>model</th>\n",
       "      <th>store</th>\n",
       "      <th>condition</th>\n",
       "      <th></th>\n",
       "      <th></th>\n",
       "    </tr>\n",
       "  </thead>\n",
       "  <tbody>\n",
       "    <tr>\n",
       "      <th rowspan=\"3\" valign=\"top\">Caracal</th>\n",
       "      <th>Watches unlimited</th>\n",
       "      <th>New</th>\n",
       "      <td>77.848101</td>\n",
       "      <td>489.0</td>\n",
       "    </tr>\n",
       "    <tr>\n",
       "      <th rowspan=\"2\" valign=\"top\">National traders</th>\n",
       "      <th>Like new</th>\n",
       "      <td>75.696203</td>\n",
       "      <td>489.0</td>\n",
       "    </tr>\n",
       "    <tr>\n",
       "      <th>Good</th>\n",
       "      <td>72.025316</td>\n",
       "      <td>490.5</td>\n",
       "    </tr>\n",
       "    <tr>\n",
       "      <th>Lightning bolt</th>\n",
       "      <th>Super deals</th>\n",
       "      <th>Like new</th>\n",
       "      <td>78.987342</td>\n",
       "      <td>501.0</td>\n",
       "    </tr>\n",
       "    <tr>\n",
       "      <th>Sand</th>\n",
       "      <th>Super deals</th>\n",
       "      <th>Good</th>\n",
       "      <td>80.126582</td>\n",
       "      <td>502.5</td>\n",
       "    </tr>\n",
       "  </tbody>\n",
       "</table>\n",
       "</div>"
      ],
      "text/plain": [
       "                                            engagement  price\n",
       "model          store             condition                   \n",
       "Caracal        Watches unlimited New         77.848101  489.0\n",
       "               National traders  Like new    75.696203  489.0\n",
       "                                 Good        72.025316  490.5\n",
       "Lightning bolt Super deals       Like new    78.987342  501.0\n",
       "Sand           Super deals       Good        80.126582  502.5"
      ]
     },
     "execution_count": 21,
     "metadata": {},
     "output_type": "execute_result"
    }
   ],
   "source": [
    "df = df.set_index([\"model\", \"store\", \"condition\"])\n",
    "df.head()"
   ]
  },
  {
   "cell_type": "markdown",
   "id": "7ec65048-c50e-44fa-a985-6f44ea873caf",
   "metadata": {},
   "source": [
    "## Grouping your Data\n",
    "\n",
    "Dentro de la manipulacion de Pandas se puede utilizar la agrupacion segun algunos valores de una columna, por ejemplo podemos separar nuestro DataFrame segun como esten distribuidos los datos de unas columnas. Podemos pensar en este metodo como un ciclo for en el cual itera en los valores de una columna y agrupa las filas segun esos datos. Podemos ver una represnetacion grafica como la siguiente grafica.\n",
    "\n",
    "\n",
    "<img src=\"data/images/groupby.jpg\" alt=\"Groupby\" style=\"width: 500px;\"/>\n",
    "\n",
    "Source: Modified from [`pandas` docs](https://pandas.pydata.org/pandas-docs/stable/user_guide/reshaping.html).\n",
    "\n",
    "El objeto que devuelve este metodo es un `DataFrameGroupBy`, este objeto es mas legible y cada item del objeto es una tupla,`.groupby()` funciona mejor cuando lo utilizamos con **funciones de agregacion** (funciones que juntan nuestros datos y los suman) como los metodos de `.mean()` y `.sum()`."
   ]
  },
  {
   "cell_type": "code",
   "execution_count": 22,
   "id": "d14680aa-2c17-4e8d-80d2-44fd2332f9e4",
   "metadata": {},
   "outputs": [
    {
     "data": {
      "text/plain": [
       "model           condition\n",
       "Caracal         Fair         2949.5\n",
       "                Good         1744.0\n",
       "                Like new      508.0\n",
       "                New          1818.5\n",
       "                Very Good    1832.5\n",
       "Clepsydra       Fair         4151.5\n",
       "                Good          604.0\n",
       "                Like new     1934.0\n",
       "                New          4162.5\n",
       "                Very Good    1737.0\n",
       "Lightning bolt  Fair         4235.5\n",
       "                Good          655.0\n",
       "                Like new     1739.5\n",
       "                New           652.5\n",
       "                Very Good    1783.5\n",
       "Sand            Fair         4207.5\n",
       "                Good         3006.0\n",
       "                Like new     1884.5\n",
       "                New           543.5\n",
       "                Very Good     520.0\n",
       "Tempo           Fair         4189.5\n",
       "                Good         4225.5\n",
       "                Like new     3039.5\n",
       "                New          2965.0\n",
       "                Very Good    1854.5\n",
       "Name: price, dtype: float64"
      ]
     },
     "execution_count": 22,
     "metadata": {},
     "output_type": "execute_result"
    }
   ],
   "source": [
    "groups = df.groupby([\"model\", \"condition\"])\n",
    "groups[\"price\"].mean()"
   ]
  },
  {
   "cell_type": "code",
   "execution_count": 17,
   "id": "95cc3dce-290d-4ae5-9b13-4a11064899d6",
   "metadata": {},
   "outputs": [
    {
     "name": "stdout",
     "output_type": "stream",
     "text": [
      "(('Caracal', 'Fair'),                                      engagement   price\n",
      "model   store             condition                    \n",
      "Caracal Super deals       Fair        82.405063   505.5\n",
      "        National traders  Fair        69.746835  4135.5\n",
      "        Watches unlimited Fair        74.303797  4207.5)\n",
      "(('Caracal', 'Good'),                                      engagement   price\n",
      "model   store             condition                    \n",
      "Caracal National traders  Good        72.025316   490.5\n",
      "        Super deals       Good        81.139241   603.0\n",
      "        Watches unlimited Good        72.784810  4138.5)\n",
      "(('Caracal', 'Like new'),                                      engagement  price\n",
      "model   store             condition                   \n",
      "Caracal National traders  Like new    75.696203  489.0\n",
      "        Super deals       Like new    76.202532  517.5\n",
      "        Watches unlimited Like new    77.088608  517.5)\n",
      "(('Caracal', 'New'),                                      engagement   price\n",
      "model   store             condition                    \n",
      "Caracal Watches unlimited New         77.848101   489.0\n",
      "        Super deals       New         79.620253   831.0\n",
      "        National traders  New         79.113924  4135.5)\n",
      "(('Caracal', 'Very Good'),                                      engagement   price\n",
      "model   store             condition                    \n",
      "Caracal Super deals       Very Good   80.759494   528.0\n",
      "        National traders  Very Good   79.240506   831.0\n",
      "        Watches unlimited Very Good   78.987342  4138.5)\n",
      "(('Clepsydra', 'Fair'),                                        engagement   price\n",
      "model     store             condition                    \n",
      "Clepsydra Super deals       Fair        81.518987  4144.5\n",
      "          National traders  Fair        83.164557  4144.5\n",
      "          Watches unlimited Fair        85.949367  4165.5)\n",
      "(('Clepsydra', 'Good'),                                        engagement  price\n",
      "model     store             condition                   \n",
      "Clepsydra Super deals       Good        81.012658  603.0\n",
      "          Watches unlimited Good        79.873418  604.5\n",
      "          National traders  Good        80.759494  604.5)\n",
      "(('Clepsydra', 'Like new'),                                        engagement   price\n",
      "model     store             condition                    \n",
      "Clepsydra Watches unlimited Like new    79.620253   831.0\n",
      "          Super deals       Like new    77.468354   831.0\n",
      "          National traders  Like new    77.848101  4140.0)\n",
      "(('Clepsydra', 'New'),                                        engagement   price\n",
      "model     store             condition                    \n",
      "Clepsydra Super deals       New         78.481013  4144.5\n",
      "          National traders  New         77.468354  4147.5\n",
      "          Watches unlimited New         77.974684  4195.5)\n",
      "(('Clepsydra', 'Very Good'),                                        engagement   price\n",
      "model     store             condition                    \n",
      "Clepsydra National traders  Very Good   78.354430   505.5\n",
      "          Super deals       Very Good   77.215190   529.5\n",
      "          Watches unlimited Very Good   80.632911  4176.0)\n",
      "(('Lightning bolt', 'Fair'),                                             engagement   price\n",
      "model          store             condition                    \n",
      "Lightning bolt Super deals       Fair        85.189873  4206.0\n",
      "               National traders  Fair        86.202532  4216.5\n",
      "               Watches unlimited Fair        67.088608  4284.0)\n",
      "(('Lightning bolt', 'Good'),                                             engagement  price\n",
      "model          store             condition                   \n",
      "Lightning bolt Super deals       Good        80.126582  526.5\n",
      "               National traders  Good        80.000000  607.5\n",
      "               Watches unlimited Good        80.886076  831.0)\n",
      "(('Lightning bolt', 'Like new'),                                             engagement   price\n",
      "model          store             condition                    \n",
      "Lightning bolt Super deals       Like new    78.987342   501.0\n",
      "               National traders  Like new    79.113924   532.5\n",
      "               Watches unlimited Like new    74.430380  4185.0)\n",
      "(('Lightning bolt', 'New'),                                             engagement  price\n",
      "model          store             condition                   \n",
      "Lightning bolt Super deals       New         78.481013  522.0\n",
      "               Watches unlimited New         77.468354  604.5\n",
      "               National traders  New         77.974684  831.0)\n",
      "(('Lightning bolt', 'Very Good'),                                             engagement   price\n",
      "model          store             condition                    \n",
      "Lightning bolt Watches unlimited Very Good   78.860759   504.0\n",
      "               Super deals       Very Good   79.240506   607.5\n",
      "               National traders  Very Good   80.379747  4239.0)\n",
      "(('Sand', 'Fair'),                                    engagement   price\n",
      "model store             condition                    \n",
      "Sand  National traders  Fair        83.291139  4183.5\n",
      "      Watches unlimited Fair        83.164557  4216.5\n",
      "      Super deals       Fair        82.278481  4222.5)\n",
      "(('Sand', 'Good'),                                    engagement   price\n",
      "model store             condition                    \n",
      "Sand  Super deals       Good        80.126582   502.5\n",
      "      Watches unlimited Good        81.012658  4233.0\n",
      "      National traders  Good        80.506329  4282.5)\n",
      "(('Sand', 'Like new'),                                    engagement   price\n",
      "model store             condition                    \n",
      "Sand  National traders  Like new    75.063291   607.5\n",
      "      Watches unlimited Like new    78.354430  4210.5\n",
      "      Super deals       Like new    79.493671   835.5)\n",
      "(('Sand', 'New'),                                    engagement  price\n",
      "model store             condition                   \n",
      "Sand  Watches unlimited New         79.493671  510.0\n",
      "      National traders  New         78.734177  516.0\n",
      "      Super deals       New         77.341772  604.5)\n",
      "(('Sand', 'Very Good'),                                    engagement  price\n",
      "model store             condition                   \n",
      "Sand  National traders  Very Good   79.493671  504.0\n",
      "      Super deals       Very Good   79.367089  526.5\n",
      "      Watches unlimited Very Good   75.189873  529.5)\n",
      "(('Tempo', 'Fair'),                                    engagement   price\n",
      "model store             condition                    \n",
      "Tempo Watches unlimited Fair        69.746835  4173.0\n",
      "      National traders  Fair        74.430380  4195.5\n",
      "      Super deals       Fair        74.683544  4200.0)\n",
      "(('Tempo', 'Good'),                                    engagement   price\n",
      "model store             condition                    \n",
      "Tempo Super deals       Good        75.569620  4164.0\n",
      "      National traders  Good        82.405063  4204.5\n",
      "      Watches unlimited Good        82.405063  4308.0)\n",
      "(('Tempo', 'Like new'),                                    engagement   price\n",
      "model store             condition                    \n",
      "Tempo National traders  Like new    78.227848   829.5\n",
      "      Super deals       Like new    78.101266  4140.0\n",
      "      Watches unlimited Like new    77.088608  4149.0)\n",
      "(('Tempo', 'New'),                                    engagement   price\n",
      "model store             condition                    \n",
      "Tempo Super deals       New         78.354430   606.0\n",
      "      National traders  New         77.974684  4140.0\n",
      "      Watches unlimited New         78.354430  4149.0)\n",
      "(('Tempo', 'Very Good'),                                    engagement   price\n",
      "model store             condition                    \n",
      "Tempo National traders  Very Good   76.455696   531.0\n",
      "      Watches unlimited Very Good   80.126582   829.5\n",
      "      Super deals       Very Good   75.822785  4203.0)\n"
     ]
    }
   ],
   "source": [
    "for group in groups: # De esta forma podemos visualizar las tuplas es las que estan guardados los items\n",
    "    print(group)"
   ]
  },
  {
   "cell_type": "markdown",
   "id": "3595a6d3-e96e-4c53-a3e8-cfc084104ab6",
   "metadata": {},
   "source": [
    "### Exercise 1\n",
    "\n",
    "Repeat the group by + aggregation above, only this time group by `model` alone instead of `model` and `condition`."
   ]
  },
  {
   "cell_type": "markdown",
   "id": "708dd2b3-1c09-4cc1-bc5c-8f49145674f5",
   "metadata": {},
   "source": [
    "**Answer** : Shown Belown"
   ]
  },
  {
   "cell_type": "code",
   "execution_count": 23,
   "id": "c8526245-1710-4a05-a31c-ecbc2fea2746",
   "metadata": {},
   "outputs": [
    {
     "data": {
      "text/plain": [
       "model\n",
       "Caracal           1770.5\n",
       "Clepsydra         2517.8\n",
       "Lightning bolt    1813.2\n",
       "Sand              2032.3\n",
       "Tempo             3254.8\n",
       "Name: price, dtype: float64"
      ]
     },
     "execution_count": 23,
     "metadata": {},
     "output_type": "execute_result"
    }
   ],
   "source": [
    "groups2 = df.groupby([\"model\"])\n",
    "groups2[\"price\"].mean()"
   ]
  },
  {
   "cell_type": "code",
   "execution_count": null,
   "id": "455130ea-bed1-4f3f-9078-0129bb2e267a",
   "metadata": {},
   "outputs": [],
   "source": []
  }
 ],
 "metadata": {
  "kernelspec": {
   "display_name": "Python 3 (ipykernel)",
   "language": "python",
   "name": "python3"
  },
  "language_info": {
   "codemirror_mode": {
    "name": "ipython",
    "version": 3
   },
   "file_extension": ".py",
   "mimetype": "text/x-python",
   "name": "python",
   "nbconvert_exporter": "python",
   "pygments_lexer": "ipython3",
   "version": "3.11.7"
  }
 },
 "nbformat": 4,
 "nbformat_minor": 5
}
