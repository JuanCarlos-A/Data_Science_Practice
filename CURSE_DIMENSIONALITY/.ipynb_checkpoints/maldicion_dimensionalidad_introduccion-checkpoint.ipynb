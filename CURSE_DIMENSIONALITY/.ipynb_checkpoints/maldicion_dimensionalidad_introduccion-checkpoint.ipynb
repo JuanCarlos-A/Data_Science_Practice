{
 "cells": [
  {
   "cell_type": "markdown",
   "id": "be0df0b5-5bb8-4c26-98d2-8ba17ab160f2",
   "metadata": {},
   "source": [
    "# La maldicion de la dimensionalidad **(Curse of Dimensionality)**.\r\n",
    "\r\n",
    "\n"
   ]
  },
  {
   "cell_type": "markdown",
   "id": "68c8c6ac-6bf6-4115-958f-460508bd5d8c",
   "metadata": {},
   "source": [
    "## Introduccion\n",
    "\n",
    "La maldicion de la dimensionalidad es un reto o problema que surge cuando la dimensionalida de los datos crece de manera gigantesta y afecta cualquier proceso que se tuviera relacionado con estos datos. Desde el ambito de la estadistica matematica se refiere cuando los datos obtienen mas caracteristicas por lo cual las graficas crecen en espacios y las acertaciones pueden tener mas variables que afectan las predicciones. \n",
    "\n",
    "Algo similiar le sucede desde el ambito del Machine Learning, ya que cuando los datos crecen de manera dimensionalidad **(en caracteristicas)** las metricas de medicion que permiten realizar predicciones segun los datos se quedan obsoletas y no pueden escalar haciendo inviable continuar con el modelo.\n",
    "\n",
    "Es escencial conocer este concepto dentro del machine learning porque cuando los datos crecen en *features* es necesario que la cantidad de datos generalizados crezcan de manera exponencial.\n",
    "\n",
    "## ¿Que son las dimensiones?\n",
    "En el ambito del analisis y manipulacion de datos, asi como el machine learning la dimensionalidad de los datos hace referencia a las *features* o caracteristicas de los datos. Por ejemplo si tenemos datos de unas casas, las caracteristicas son el tamaño de la casa, el color de las casas, el numero de pisos, etc.\n",
    "\n",
    "## ¿Como ocurre la maldicion de la dimensionalidad?\n",
    "La maldicion de la dimensionalidad ocurre cuando tenenmos nuestro arreglo de datos pero estos obtienen o tienen mas caracteristicas, esto involucra un crecimiento exponensial del espacio graficado. En palablas mas sencillas, a mayor caracteristicas mayor cantidad de espacio que *separa*a los datos. \n",
    "\n",
    "Tomemos esto con un ejemplo donde en un espacio 1D es facil ubicar unos puntos para llenar el espacio, pero si agregamos una dimension mas, 2D por ejemplo vamos a necesitar mas puntos para poder llenar el espacio, que tal si agregamos mas dimensionalidades, esto va agregar dificultad de agrupacion y clasificacion  al tener **datos dispersos**."
   ]
  },
  {
   "cell_type": "markdown",
   "id": "3f30841c-9c68-4f2e-9485-d6d52f32900b",
   "metadata": {},
   "source": [
    "## ¿Que problemas ocaciona?\n",
    "1. Dispersion de los datos\n",
    "2. Mayor computacion, esto quiere decir que a nivel de recursos el poder llegar a generalizar va a ser mas complicado\n",
    "3. Overfitting\n",
    "4. Las distancias entre datos pierden significado\n",
    "5. Degradacion en la ejecucion\n",
    "6. Cambios de la Visualizacion"
   ]
  },
  {
   "cell_type": "markdown",
   "id": "dfc7e0c8-1b5a-4e39-9bd4-b45a50bbb842",
   "metadata": {},
   "source": [
    "## ¿Efectos en los datos?\n",
    "\n",
    "Cuando tienes una gran dimensionalidad lo que tienes es una gran cantidad de datos con distintas caracteristicas pero que pueden aumentar la dificultad de un modelo para predecir pero no aporta informacion siginicativa.\n",
    "\n",
    "## Soluciones a esta maldicion de dimensionalidad\n",
    "\n",
    "La resolucion de este problema puede ser mediante el proceso de **reduccion de dimensionalidad**. Es un proceso que reduce el nivel de variables dentro de un set de datos, generando una lista de las caractersticas importantes para la resolucion del problema. Esto nos va dar una menor cantidad de informacion redundante.\n",
    "\n",
    "### Metodos de Reduccion de Dimensionalidad\n",
    "1. Principal Component Analysis (PCA)\n",
    "2. Linear Discriminant Analysis (LDA)\n",
    "3. Distributed Stochastic Neighbor Embedding (t-SNE)\n",
    "4. Autoencoders"
   ]
  }
 ],
 "metadata": {
  "kernelspec": {
   "display_name": "Python 3 (ipykernel)",
   "language": "python",
   "name": "python3"
  },
  "language_info": {
   "codemirror_mode": {
    "name": "ipython",
    "version": 3
   },
   "file_extension": ".py",
   "mimetype": "text/x-python",
   "name": "python",
   "nbconvert_exporter": "python",
   "pygments_lexer": "ipython3",
   "version": "3.11.7"
  }
 },
 "nbformat": 4,
 "nbformat_minor": 5
}
