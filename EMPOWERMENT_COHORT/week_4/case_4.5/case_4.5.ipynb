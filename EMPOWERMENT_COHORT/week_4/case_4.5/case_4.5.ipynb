{
 "cells": [
  {
   "cell_type": "markdown",
   "metadata": {},
   "source": [
    "# How can we clearly communicate GDP trends using visualizations?"
   ]
  },
  {
   "cell_type": "markdown",
   "metadata": {
    "tags": [
     "2_min"
    ]
   },
   "source": [
    "## Goals\n",
    "\n"
   ]
  },
  {
   "cell_type": "markdown",
   "metadata": {},
   "source": [
    "By the end of this case, you should have:\n",
    "\n",
    "* Gained more hands-on experience with creating Python plots\n",
    "* Learned how to select an appropriate plot type or other way to visualize specific kinds of data\n",
    "* Learned how to make professional visualizations"
   ]
  },
  {
   "cell_type": "markdown",
   "metadata": {
    "tags": [
     "10_min"
    ]
   },
   "source": [
    "## Case Introduction"
   ]
  },
  {
   "cell_type": "markdown",
   "metadata": {},
   "source": [
    "**Business Context.** You are an employee for GoodEconomists, an NGO that campaigns for raising living standards globally. With limited financial resources, GoodEconomists does not have a large budget for outreach and marketing. Instead, they rely on publishing content with compelling stories and excellent visuals to have their voice heard. You have been asked to work on data presentation and graphs for their upcoming report on [GDP](https://en.wikipedia.org/wiki/Gross_domestic_product) and its implications. \n",
    "\n",
    "**Business Problem.** Your manager has asked you to answer the following question: **\"How can we clearly communicate the strong correlations that GDP has to other factors?\"**\n",
    "\n",
    "**Analytical Context.** The relevant data is a pair of public CSV files containing information on GDP for different countries. The first one is on GDP and life expectancy and is called `data/gdp_data.csv`. It only has five columns, but we can extract quite a lot of information from these:\n",
    "\n",
    "* **Country:** The name of the country (`str`)\n",
    "* **Continent:** The name of the continent (`str`)\n",
    "* **lifeExp:** The average life span of a person in that country in years (`float`)\n",
    "* **pop**: The population of the country (`int`)\n",
    "* **gdpPercap:** The GDP per capita, or the average economic output of each person in the country (`float`)\n",
    "\n",
    "We also have a dataset `data/gdp_data_years.csv`. It is similar, but formatted differently. Each column is a year so we can see GDP trends over time. It does not include population size and life expectancy data:\n",
    "\n",
    "* **Country Name:** The name of the country (`str`)\n",
    "* **Country Code:** The three-letter code for the country (`str`)\n",
    "* **1960:** The GDP value in 1960 in USD (`float`)\n",
    "* **`<all other columns>`:** the same as 1960 but for the respective year\n",
    "\n",
    "We will use what we know about Python, `pandas`, `matplotlib`, and `seaborn` and focus on finding the best way to visualize the relevant data."
   ]
  },
  {
   "cell_type": "markdown",
   "metadata": {
    "tags": [
     "5_min"
    ]
   },
   "source": [
    "## Loading the datasets and setting up\n",
    "\n"
   ]
  },
  {
   "cell_type": "markdown",
   "metadata": {},
   "source": [
    "Let's set up the plotting libraries and load the datasets:"
   ]
  },
  {
   "cell_type": "code",
   "execution_count": null,
   "metadata": {},
   "outputs": [],
   "source": [
    "%matplotlib inline\n",
    "\n",
    "import pandas as pd\n",
    "from matplotlib import pyplot as plt\n",
    "\n",
    "# increase the size and quality of any plots we produce\n",
    "import matplotlib as mpl\n",
    "\n",
    "mpl.rcParams[\"figure.dpi\"] = 300"
   ]
  },
  {
   "cell_type": "code",
   "execution_count": null,
   "metadata": {},
   "outputs": [],
   "source": [
    "# read the first dataset with pandas\n",
    "df = pd.read_csv(\"data/gdp_data.csv\")\n",
    "df.head()"
   ]
  },
  {
   "cell_type": "code",
   "execution_count": null,
   "metadata": {},
   "outputs": [],
   "source": [
    "df_years = pd.read_csv(\"data/gdp_data_years.csv\")\n",
    "df_years.head()"
   ]
  },
  {
   "cell_type": "markdown",
   "metadata": {
    "tags": [
     "10_min"
    ]
   },
   "source": [
    "## Data & chart types"
   ]
  },
  {
   "cell_type": "markdown",
   "metadata": {},
   "source": [
    "Nearly any dataset that you want to present or visualize will consist of variables that can be thought of in different ways. Recall from previous cases that we have both **categorical** and **numerical** variables. For example, in our dataset the variable `continent` is a **categorical** variable, because we can categorize countries by which continent they belong to, yet this categorization isn't inherently comparable - we don't know which order the continents go in (though we could invent a way, such as by total population or surface area).\n",
    "\n",
    "We also have the variable `population`, which is **numerical**. We can clearly order countries by population.\n",
    "\n",
    "While there are hundreds of different charts and variations of charts, the main charts we will focus on are:\n",
    "\n",
    "* Table\n",
    "* Bar chart\n",
    "* Pie chart\n",
    "* Scatterplot\n",
    "* Line chart\n",
    "* Box plot\n",
    "\n",
    "You should already be familiar with these from previous cases. Choosing which of these is most appropriate usually comes down to both what kind of data you have (categorical or numerical or both) and what kind of message you are trying to communicate. For example, you might want to show how your data changes over time, how it is distributed, or how two groups compare to each other. It's very common to see others misuse chart types, or present data badly even within a properly chosen chart."
   ]
  },
  {
   "cell_type": "markdown",
   "metadata": {
    "tags": [
     "45_min"
    ]
   },
   "source": [
    "## GDP, population, and life expectancy"
   ]
  },
  {
   "cell_type": "markdown",
   "metadata": {
    "tags": [
     "20_min"
    ]
   },
   "source": [
    "### Exercise 1:\n",
    "\n",
    "Look at the population of each continent (by summing the population of each country in that continent). Which continents are the most and least populous? Let's try visualizing the relative total population of each continent using:\n",
    "\n",
    "* A table\n",
    "* A bar chart\n",
    "* A pie chart\n",
    "\n",
    "Use `pandas` and the `.plot()` method on DataFrames for this. Make the images as meaningful as possible for your readers, so ensure that you add titles, descriptions, and any other important information to each visualization. Here are some guidelines to keep in mind:\n",
    "\n",
    "* The title of each plot should explain the *message* of the visualization, not just a description of the data. So instead of \"Population by Continent\", try to find the story behind the data and use that as the title of each graphic.\n",
    "* Use labels and legends as appropriate\n",
    "\n",
    "Explain the advantages and disadvantages of each approach."
   ]
  },
  {
   "cell_type": "markdown",
   "metadata": {
    "tags": [
     "ans_st"
    ]
   },
   "source": [
    "**Solution:** One possible answer is shown below:"
   ]
  },
  {
   "cell_type": "code",
   "execution_count": null,
   "metadata": {
    "tags": [
     "ans_cell"
    ]
   },
   "outputs": [],
   "source": [
    "print(\"The population of each continent\")\n",
    "df.groupby([\"continent\"])[\"pop\"].sum().reset_index(name=\"Total Population\").sort_values(\n",
    "    by=\"Total Population\", ascending=False\n",
    ")"
   ]
  },
  {
   "cell_type": "code",
   "execution_count": null,
   "metadata": {
    "tags": [
     "ans_cell"
    ]
   },
   "outputs": [],
   "source": [
    "ax = (\n",
    "    df.groupby([\"continent\"])[\"pop\"]\n",
    "    .sum()\n",
    "    .reset_index(name=\"Total Population\")\n",
    "    .sort_values(by=\"Total Population\", ascending=False)\n",
    "    .plot.bar(x=\"continent\", y=\"Total Population\")\n",
    ")\n",
    "\n",
    "ax.set_xlabel(\"Continent\")\n",
    "ax.set_ylabel(\"Total Population (billion)\")\n",
    "_ = ax.set_title(\"Asia is the most populous continent\")"
   ]
  },
  {
   "cell_type": "code",
   "execution_count": null,
   "metadata": {
    "tags": [
     "ans_cell"
    ]
   },
   "outputs": [],
   "source": [
    "df_pie = (\n",
    "    df.groupby([\"continent\"])[\"pop\"]\n",
    "    .sum()\n",
    "    .reset_index(name=\"Total Population\")\n",
    "    .sort_values(by=\"Total Population\", ascending=False)\n",
    ")\n",
    "ax = df_pie.plot.pie(y=\"Total Population\", labels=df_pie.continent, autopct=\"%1.2f%%\")\n",
    "_ = ax.set_title(\"Asia is the most populous continent\")"
   ]
  },
  {
   "cell_type": "markdown",
   "metadata": {
    "tags": [
     "ans_cell"
    ]
   },
   "source": [
    "Advantages and disadvantages:\n",
    "\n",
    "* The table is the most precise format: we can see the exact numbers for each continent, but it's difficult to quickly see what the data means\n",
    "* The bar chart makes it easy to compare countries in pairs; for example, \"Africa\" and \"Americas\" are very close, but in the bar chart we can see that the Africa bar is a bit higher. It's harder to make non-pairwise comparisons though, like how Asia compares to all of the other continents combined though\n",
    "* The pie chart makes it easy to see that Asia has more than half of the world's population, and easier to see that we are comparing parts (continents) of a whole (the world), but it's harder to judge the relative difference between Africa and America or Africa and Europe (though the percentage labels help with this). Also, thin slices like \"Oceania\" look messy and might disappear completely. In the example shown, we lose the information on total numbers and only have percent values instead.\n",
    "\n",
    "Overall, the bar chart is the most appropriate visualization for this data. Most people reach for pie charts, but pie charts are overused and often not a great way to present data. If the only message that we wanted to convey was that Asia has more than half the world's population, then the pie chart is acceptable, but in that case we should go for a much simpler version showing only Asia vs. the rest of the world, as shown below. But here, we want to know which continents are the most and least populous, not whether or not Asia has more than half of the world's population, and this is much more difficult to do with the pie chart without the percentages written there.\n",
    "\n",
    "In general, displaying extra data that doesn't add to your core message is distracting and makes the visualization worse, so it's important to be very sure about what message you want to convey, and then choose exactly what you want to show."
   ]
  },
  {
   "cell_type": "code",
   "execution_count": null,
   "metadata": {
    "tags": [
     "ans_cell"
    ]
   },
   "outputs": [],
   "source": [
    "asia_df = df.copy()\n",
    "asia_df[\"is_asia\"] = [\n",
    "    \"Asia\" if x == \"Asia\" else \"Rest of World\" for x in df[\"continent\"]\n",
    "]\n",
    "\n",
    "\n",
    "_ = (\n",
    "    asia_df.groupby([\"is_asia\"])[\"pop\"]\n",
    "    .sum()\n",
    "    .reset_index(name=\"Population\")\n",
    "    .plot.pie(y=\"Population\", labels=asia_df.is_asia, autopct=\"%1.f%%\")\n",
    ")"
   ]
  },
  {
   "cell_type": "markdown",
   "metadata": {
    "tags": [
     "25_min"
    ]
   },
   "source": [
    "### Exercise 2\n",
    "\n",
    "Now that we've taken a quick look at the dataset and population by continent, let's start looking at the data we actually came for: the GDP of each country. We want to know how GDP affects life expectancy. You have a hypothesis that people in richer countries live longer.\n",
    "\n",
    "Create a scatterplot of GDP per capita vs. life expectancy. Then, create another one where points have been *colored* according to which continent they are on. Explain if your hypothesis is correct or not and any other interesting trends that you notice. Make additional plots to explain further aspects of the data as necessary.\n",
    "\n",
    "Once again, pay close attention to your labels and titles as you try to convey a lot of information in a relatively small space.\n",
    "\n",
    "Why is a scatterplot appropriate for this task?"
   ]
  },
  {
   "cell_type": "markdown",
   "metadata": {
    "tags": [
     "ans_st"
    ]
   },
   "source": [
    "**Solution.** One possible answer is shown below:"
   ]
  },
  {
   "cell_type": "code",
   "execution_count": null,
   "metadata": {
    "tags": [
     "ans_cell"
    ]
   },
   "outputs": [],
   "source": [
    "ax = df.plot.scatter(x=\"gdpPercap\", y=\"lifeExp\")\n",
    "ax.set_xlabel(\"GDP per capita (USD)\")\n",
    "ax.set_ylabel(\"Life expectancy (years)\")\n",
    "_ = ax.set_title(\"Countries with a higher GDP have a higher life expectancy\")"
   ]
  },
  {
   "cell_type": "code",
   "execution_count": null,
   "metadata": {
    "tags": [
     "ans_cell"
    ]
   },
   "outputs": [],
   "source": [
    "from matplotlib import pyplot as plt\n",
    "\n",
    "colors = {\n",
    "    \"Africa\": \"green\",\n",
    "    \"Asia\": \"orange\",\n",
    "    \"Americas\": \"red\",\n",
    "    \"Europe\": \"purple\",\n",
    "    \"Oceania\": \"blue\",\n",
    "}\n",
    "\n",
    "_, ax = plt.subplots()\n",
    "for key, group in df.groupby(\"continent\"):\n",
    "    group.plot.scatter(ax=ax, x=\"gdpPercap\", y=\"lifeExp\", label=key, color=colors[key])\n",
    "\n",
    "ax.set_xlabel(\"GDP per capita (USD)\")\n",
    "ax.set_ylabel(\"Life expectancy (years)\")\n",
    "_ = ax.set_title(\n",
    "    \"Africa's countries are almost all low GDP compared to Europe and America\"\n",
    ")"
   ]
  },
  {
   "cell_type": "markdown",
   "metadata": {
    "tags": [
     "ans_cell"
    ]
   },
   "source": [
    "The cluster of green (Africa) in the bottom left is interesting. It also doesn't look like the African countries with higher GDP (more to the right) necessarily have a higher life expectancy (more to the top). Let's take a closer look just at Africa:"
   ]
  },
  {
   "cell_type": "code",
   "execution_count": null,
   "metadata": {
    "tags": [
     "ans_cell"
    ]
   },
   "outputs": [],
   "source": [
    "df_africa = df[df.continent == \"Africa\"]\n",
    "ax = df_africa.plot.scatter(x=\"gdpPercap\", y=\"lifeExp\")\n",
    "\n",
    "ax.set_xlabel(\"GDP per capita (USD)\")\n",
    "ax.set_ylabel(\"Life expectancy (years)\")\n",
    "_ = ax.set_title(\n",
    "    \"In Africa the GDP/Life expectancy correlation is very different from globally\"\n",
    ")"
   ]
  },
  {
   "cell_type": "markdown",
   "metadata": {
    "tags": [
     "ans_cell"
    ]
   },
   "source": [
    "We can check the actual correlations of these for three groups:\n",
    "    \n",
    "* Globally\n",
    "* Africa\n",
    "* Everywhere except Africa"
   ]
  },
  {
   "cell_type": "code",
   "execution_count": null,
   "metadata": {
    "tags": [
     "ans_cell"
    ]
   },
   "outputs": [],
   "source": [
    "df_notafrica = df[df.continent != \"Africa\"]\n",
    "\n",
    "print(df[\"gdpPercap\"].corr(df[\"lifeExp\"]))\n",
    "print(df_africa[\"gdpPercap\"].corr(df_africa[\"lifeExp\"]))\n",
    "print(df_notafrica[\"gdpPercap\"].corr(df_notafrica[\"lifeExp\"]))"
   ]
  },
  {
   "cell_type": "markdown",
   "metadata": {
    "tags": [
     "ans_cell"
    ]
   },
   "source": [
    "We can see that the correlation is much weaker in Africa, and gets stronger globally if we remove Africa. Let's now look at the correlations for each continent:"
   ]
  },
  {
   "cell_type": "code",
   "execution_count": null,
   "metadata": {
    "tags": [
     "ans_cell"
    ]
   },
   "outputs": [],
   "source": [
    "continents = list(set(df.continent))\n",
    "gdp_lifeexp_corr = []\n",
    "\n",
    "for continent in continents:\n",
    "    continent_df = df[df.continent == continent]\n",
    "    corr = continent_df[\"gdpPercap\"].corr(continent_df[\"lifeExp\"])\n",
    "    gdp_lifeexp_corr.append(corr)\n",
    "\n",
    "continent_df = pd.DataFrame(\n",
    "    list(zip(continents, gdp_lifeexp_corr)), columns=[\"Continent\", \"GDP_LifeExp\"]\n",
    ")\n",
    "\n",
    "continent_df"
   ]
  },
  {
   "cell_type": "markdown",
   "metadata": {
    "tags": [
     "ans_cell"
    ]
   },
   "source": [
    "Oceania only has two countries in it (Australia and New Zealand) so the correlation isn't very meaningful. Let's drop it and create a bar plot showing the different correlation strengths of the other continents:"
   ]
  },
  {
   "cell_type": "code",
   "execution_count": null,
   "metadata": {
    "tags": [
     "ans_cell"
    ]
   },
   "outputs": [],
   "source": [
    "continent_df_no_oceania = continent_df.drop(continent_df.index[[3]])\n",
    "\n",
    "ax = continent_df_no_oceania.sort_values(by=\"GDP_LifeExp\").plot.bar(\n",
    "    x=\"Continent\", y=\"GDP_LifeExp\"\n",
    ")\n",
    "\n",
    "ax.set_xlabel(\"The strength of the correlation between GDP and life expectancy\")\n",
    "ax.set_ylabel(\"Correlation\")\n",
    "_ = ax.set_title(\"Africa has the weakest correlation and Europe has the strongest\")"
   ]
  },
  {
   "cell_type": "markdown",
   "metadata": {
    "tags": [
     "ans_cell"
    ]
   },
   "source": [
    "A scatterplot is appropriate for this task because a scatterplot allows you to look at the relationship between two numerical variables, which is what we have here."
   ]
  },
  {
   "cell_type": "markdown",
   "metadata": {
    "tags": [
     "60_min"
    ]
   },
   "source": [
    "## GDP trends over time\n",
    "\n",
    "So far, we've looked at data for a single point in time, so we have used bar charts and scatterplots to present it. Our second dataset includes data collected from the 1960s to the 2010s, so we will naturally turn towards line graphs.\n",
    "\n",
    "Note that the format of one column per year is a bit tricky to work with. You will probably need to use the **['transpose()'](https://pandas.pydata.org/pandas-docs/stable/reference/api/pandas.DataFrame.transpose.html)** function in `pandas` which also can be called by using the shortcut `df.T` (on a dataframe called `df`)."
   ]
  },
  {
   "cell_type": "markdown",
   "metadata": {
    "tags": [
     "10_min"
    ]
   },
   "source": [
    "### Exercise 3\n",
    "\n",
    "You remember that GDP has been growing over time, but you wonder by how much. Ignoring the country-level GDP breakdown for now, compute the total world GDP we have on record for each year. Explain why the plot you chose is appropriate. As always, take care to use good labels. What is one problem you might encounter with just summing up all the country-level GDPs to get the world GDP?"
   ]
  },
  {
   "cell_type": "markdown",
   "metadata": {
    "tags": [
     "ans_st"
    ]
   },
   "source": [
    "**Answer.** One possible solution is shown below:"
   ]
  },
  {
   "cell_type": "code",
   "execution_count": null,
   "metadata": {
    "tags": [
     "ans_cell"
    ]
   },
   "outputs": [],
   "source": [
    "df_gdponly = df_years.drop([\"Country Name\", \"Country Code\"], axis=1).sum()\n",
    "ax = df_gdponly.plot.line()\n",
    "ax.set_title(\"GDP has increased over time\")\n",
    "\n",
    "ax.set_xlabel(\"Year\")\n",
    "_ = ax.set_ylabel(\"GDP - ten trillions (USD)\")"
   ]
  },
  {
   "cell_type": "markdown",
   "metadata": {
    "tags": [
     "ans_cell"
    ]
   },
   "source": [
    "Note that this analysis is somewhat flawed as it will count missing country-level GDP data as zero, which is not true and most likely due to problems with data collection. Furthermore, it is likely that data collection has improved over time, so our plot will likely overestimate the true rate of world GDP growth. Nonetheless, it should still show the general trend."
   ]
  },
  {
   "cell_type": "markdown",
   "metadata": {
    "tags": [
     "ans_cell"
    ]
   },
   "source": [
    "A line plot is appropriate as we are showing change over time for a variable that constantly changes. We have the years plotted on the x-axis from left to right, and the GDP value on the y-axis as this is what people are used to. We clearly labeled our axes with descriptions of what they show, including units and currency, and our title summarizes the overall message of the data, as opposed to just leaving people to draw our intended conclusion from the chart only."
   ]
  },
  {
   "cell_type": "markdown",
   "metadata": {
    "tags": [
     "15_min"
    ]
   },
   "source": [
    "### Exercise 4\n",
    "People are often more interested in specific countries than in the world as a whole. Pick any five countries that you think might be interesting from the list and create a graph to compare how their GDPs have evolved over time. Explain any trends that you see."
   ]
  },
  {
   "cell_type": "markdown",
   "metadata": {
    "tags": [
     "ans_st"
    ]
   },
   "source": [
    "**Answer.** One possible solution is given below:"
   ]
  },
  {
   "cell_type": "code",
   "execution_count": null,
   "metadata": {
    "tags": [
     "ans_cell"
    ]
   },
   "outputs": [],
   "source": [
    "countries = [\"USA\", \"CHN\", \"JPN\", \"IND\", \"BRA\"]\n",
    "\n",
    "df_country = df_years[df_years[\"Country Code\"].isin(countries)].drop([\"Country Code\"], axis=1).T.reset_index()\n",
    "df_country.columns = [\"Year\"] + list(df_country.iloc[0][1:])\n",
    "df_country = df_country[1:]\n",
    "ax = df_country.plot.line(x=\"Year\")\n",
    "ax.set_title(\"The US and China lead GDP Growth\")\n",
    "ax.set_xlabel(\"Year\")\n",
    "_ = ax.set_ylabel(\"GDP - ten trillions (USD)\")\n"
   ]
  },
  {
   "cell_type": "markdown",
   "metadata": {
    "tags": [
     "ans_cell"
    ]
   },
   "source": [
    "The increase in GDP of China and the USA dwarf the other countries that we looked at. Japan's GDP looked like it would match the US until the mid-1990s at which point it flattened out. China's GDP growth started later, but has quickly overtaken other countries.\n",
    "\n",
    "One thing that is very important to note is that this graph only shows absolute changes in GDP over time, not percentage changes. Because the United States was starting from a much higher base in 1960, any future changes are magnified, even if the percentage growth per year were the same as other countries. If we wanted to show percentage changes over time, we would need to modify our plot."
   ]
  },
  {
   "cell_type": "markdown",
   "metadata": {
    "tags": [
     "30_min"
    ]
   },
   "source": [
    "### Exercise 5\n",
    "\n",
    "Line charts are a good way to show movement over time, but we \"lost\" a lot of data in the above exercises looking only at total GDP growth across all countries. We did not really look at the individual GDPs of various countries. Of course, this came be quite cumbersome as there are a lot of countries!\n",
    "\n",
    "A good tradeoff between looking at the full distribution of a dataset and looking only at an aggregate is to use a [box plot](https://en.wikipedia.org/wiki/Box_plot). Create two box plots for all the years from 2005 onwards that summarize the distribution of GDPs for the 20 countries with the highest GDP.\n",
    "\n",
    "1. First, find the countries with the highest GDP, based on the 2019 data, and create a box plot for those\n",
    "2. Next, create a box plot which excludes the top 3 countries (USA, China, Japan) to make the data for the countries with a lower GDP easier to visualize.\n",
    "\n",
    "Explain any trends in the data and why the visualization choices you made are appropriate."
   ]
  },
  {
   "cell_type": "markdown",
   "metadata": {
    "tags": [
     "ans_st"
    ]
   },
   "source": [
    "**Answer.** One possible solution is shown below:"
   ]
  },
  {
   "cell_type": "code",
   "execution_count": null,
   "metadata": {
    "tags": [
     "ans_cell"
    ]
   },
   "outputs": [],
   "source": [
    "df_years_top = df_years.sort_values(by=\"2019\", ascending=False).head(20)\n",
    "years = [\"2005\", \"2006\", \"2007\", \"2008\", \"2009\", \"2010\", \"2011\", \"2012\", \"2013\", \"2014\", \"2015\", \"2016\", \"2017\", \"2018\", \"2019\"]\n",
    "df_years_top = df_years_top.drop([\"Country Code\", \"Country Name\"], axis=1)[years]\n",
    "\n",
    "ax = df_years_top.boxplot()\n",
    "ax.set_title(\"The top 3 GDP countries are obvious outliers from the rest of the top 20\\n\\n\")\n",
    "ax.set_xlabel(\"Year\")\n",
    "ax.set_ylabel(\"GDP - tens of trillions (USD)\")\n",
    "\n",
    "_ = ax.set_xticklabels(years, rotation=90)"
   ]
  },
  {
   "cell_type": "code",
   "execution_count": null,
   "metadata": {
    "tags": [
     "ans_cell"
    ]
   },
   "outputs": [],
   "source": [
    "df_years_top = df_years.sort_values(by=\"2019\", ascending=False).head(20).tail(17)\n",
    "years = [\"2005\", \"2006\", \"2007\", \"2008\", \"2009\", \"2010\", \"2011\", \"2012\", \"2013\", \"2014\", \"2015\", \"2016\", \"2017\", \"2018\", \"2019\"]\n",
    "df_years_top = df_years_top.drop([\"Country Code\", \"Country Name\"], axis=1)[years]\n",
    "\n",
    "ax = df_years_top.boxplot()\n",
    "ax.set_title(\"Slow and steady? Are lower GDP countries in the top 20 are more stable?\\n\\n\")\n",
    "ax.set_xlabel(\"Year\")\n",
    "ax.set_ylabel(\"GDP - Trillions (USD)\")\n",
    "\n",
    "_ = ax.set_xticklabels(years, rotation=90)"
   ]
  },
  {
   "cell_type": "markdown",
   "metadata": {
    "tags": [
     "ans_cell"
    ]
   },
   "source": [
    "After removing the top 3, it's easier to see that the lower quartile of the top countries is more stable than the top quartile, showing smaller growth or remaining constant, while the top quartile moves up and down more year-to-year.\n",
    "\n",
    "We clearly labeled the units in our axis labels, including the change in scale from 10 trillion to 1 trillion after removing the top countries."
   ]
  },
  {
   "cell_type": "markdown",
   "metadata": {
    "tags": [
     "3_min"
    ]
   },
   "source": [
    "## Conclusions\n",
    "\n",
    "GDP is a metric that has become controversial because it is a very crude way of measuring economic activity. However, it can provide an interesting lens to look at specific countries and how they relate to each other. After looking at correlations like \"people in richer countries live longer\" it's tempting to make a causation link (e.g. \"if poorer countries raise their GDP, their citizens will live longer\"), but correlation is not the same as causation.\n",
    "\n",
    "We saw that the USA and China dwarf most other countries in terms of GDP, and that Japan's once strong GDP growth has leveled off in the last few decades."
   ]
  },
  {
   "cell_type": "markdown",
   "metadata": {
    "tags": [
     "7_min"
    ]
   },
   "source": [
    "## Takeaways\n",
    "\n",
    "To presenting data well, you need to constantly keep two things in mind:\n",
    "\n",
    "1. Choose the correct way to visualize the data\n",
    "2. Make the story easy to understand by being careful with the presentation details such as titles and labels\n",
    "\n",
    "In this case, you saw that:\n",
    "\n",
    "* Bar charts are good for basic analysis, showing how categorical variables relate to numerical variables. In very specific circumstances, pie charts can also be used for this when you are interested in relative vs. absolute sizes\n",
    "* Scatterplots are used to show how to numerical variables relate to each other, and are good for looking at correlations\n",
    "* Line charts are almost always appropriate to show how continuous data changes over time\n",
    "* Box plots are a great tool if you need to show more than a basic summary (such as an average), but you don't want to plot the full distribution of each variable (which can be cumbersome and overly detailed)\n",
    "\n",
    "You also saw how important it is to get all of the details right when presenting data. It's very common for people to use wrong or misleading labels, or to use titles that don't add anything to the visualization. Always be careful that you are using the correct units, and clearly labeling what these are, while using the title to summarize the message behind the data."
   ]
  }
 ],
 "metadata": {
  "c1_recart": "6.3.0-57c20131aabc1dc2a8c675852d80a7da"
 },
 "nbformat": 4,
 "nbformat_minor": 4
}
