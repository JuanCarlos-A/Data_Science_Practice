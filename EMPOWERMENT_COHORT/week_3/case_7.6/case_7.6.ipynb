{
 "cells": [
  {
   "cell_type": "markdown",
   "metadata": {},
   "source": [
    "# What generalizable patterns can we find about health care costs for smokers?"
   ]
  },
  {
   "cell_type": "markdown",
   "metadata": {
    "tags": [
     "5_min"
    ]
   },
   "source": [
    "## Goals\n",
    "\n",
    "This case will be focused on building the core mathematical foundations necessary for further study of data science. Up until this point, we have been focused on analyzing data from an *empirical* perspective - that is, working with tangible data points in Python. However, more advanced study of the data science arena (such as with hypothesis testing & inference, predictive modeling, and machine learning) often requires some *theoretical* background as well, where we work with abstractions of the truth that aren't completely bound by the data we have. This case will address both."
   ]
  },
  {
   "cell_type": "markdown",
   "metadata": {
    "tags": [
     "5_min"
    ]
   },
   "source": [
    "## Introduction\n",
    "\n",
    "**Business Context.** You are an employee at a health insurance company. Your employer wants to better understand how their competition adjusts charges for smokers. You have been asked to investigate some historical data from this company to clarify the characteristics of smokers as part of this project.\n",
    "\n",
    "**Business Problem.** Your manager has asked you to answer the following question: **\"What is the payment, personal, and regional profile of a smoker?\"**\n",
    "\n",
    "**Analytical Context.** The relevant data is a public CSV file called `insurance.csv`, which contains information on various features which may affect health insurance charges.\n",
    "\n",
    "In this case, you will use what you know about basic statistics, along with Python and relevant plotting libraries. You will focus on ensuring that you have chosen appropriate metrics and plots to convey your observations."
   ]
  },
  {
   "cell_type": "markdown",
   "metadata": {
    "tags": [
     "5_min"
    ]
   },
   "source": [
    "## Loading up the data\n",
    "\n",
    "Let's load in the health insurance dataset in `data/insurance.csv`. The dataset consists of the following features:\n",
    "\n",
    "* **age:** the person's age, in years\n",
    "* **sex:** male or female\n",
    "* **bmi:** the person's Body Mass Index (MBI)\n",
    "* **children:** the number of children the person has\n",
    "* **smoker:** whether the person is a smoker or not\n",
    "* **region:** Northeast, Northwest, Southeast, Southwest\n",
    "* **charges:** the total insurance charges for that person"
   ]
  },
  {
   "cell_type": "code",
   "execution_count": null,
   "metadata": {},
   "outputs": [],
   "source": [
    "import pandas as pd"
   ]
  },
  {
   "cell_type": "code",
   "execution_count": null,
   "metadata": {},
   "outputs": [],
   "source": [
    "df = pd.read_csv(\"data/insurance.csv\")\n",
    "df.head()"
   ]
  },
  {
   "cell_type": "markdown",
   "metadata": {},
   "source": [
    "Let's use the ``info()`` method to identify the types of the variables in the dataset."
   ]
  },
  {
   "cell_type": "code",
   "execution_count": null,
   "metadata": {},
   "outputs": [],
   "source": [
    "df.info()"
   ]
  },
  {
   "cell_type": "markdown",
   "metadata": {},
   "source": [
    "We can summarize the variables above as follows:\n",
    "\n",
    "| **Type**       | **Columns**         |\n",
    "|----------------|---------------------|\n",
    "| **Continuous** | bmi, charges        |\n",
    "| **Discrete**   | age, children       |\n",
    "| **Nominal**    | sex, smoker, region |\n",
    "| **Ordinal**    |                     |"
   ]
  },
  {
   "cell_type": "markdown",
   "metadata": {
    "tags": [
     "50_min"
    ]
   },
   "source": [
    "## Summary statistics for each variable\n",
    "\n",
    "Recall our original business problem - we want to ascertain the payment, personal, and regional profile of smokers in the US. As you learned in an earlier case, a good place to start is by looking at **summary statistics** of data on smokers - examples being the mean, median, and mode of a dataset. All three are central tendency measures, that is, they give us an idea of what the typical (most central) element looks like in a dataset for a given variable. Recall that:\n",
    "\n",
    "* **Mean** is the sum of all observations for a particular variable over the number of observations for that variable\n",
    "* **Median** is another measure of the data's \"center\" and gives the middlemost value when data is listed in ascending order (i.e. the 50th percentile)\n",
    "* **Mode** gives us the most common value that appears in the data. It is most often used for categorical data"
   ]
  },
  {
   "cell_type": "markdown",
   "metadata": {
    "tags": [
     "15_min"
    ]
   },
   "source": [
    "### Exercise 1:\n",
    "\n",
    "Use the `mean()`, `mode()`, `median()` and `groupby()` methods to answer the following questions:\n",
    "\n",
    "1. What is the mean charge of all cases?\n",
    "2. Is the mean charge for people who smoke greater than that for non-smokers? What is the percentage difference?\n",
    "3. Is smoking more prevalent in males or females within the dataset?\n",
    "4. What is the median charge for male smokers as opposed to female smokers? What is the percentage difference?"
   ]
  },
  {
   "cell_type": "markdown",
   "metadata": {
    "tags": [
     "ans_st"
    ]
   },
   "source": [
    "**Answer.** One possible answer is shown below:"
   ]
  },
  {
   "cell_type": "code",
   "execution_count": null,
   "metadata": {
    "tags": [
     "ans_cell"
    ]
   },
   "outputs": [],
   "source": [
    "df[\"charges\"].mean()"
   ]
  },
  {
   "cell_type": "code",
   "execution_count": null,
   "metadata": {
    "tags": [
     "ans_cell"
    ]
   },
   "outputs": [],
   "source": [
    "df[[\"smoker\",\"charges\"]].groupby(\"smoker\").mean()"
   ]
  },
  {
   "cell_type": "code",
   "execution_count": null,
   "metadata": {
    "tags": [
     "ans_cell"
    ]
   },
   "outputs": [],
   "source": [
    "smoker_means = df[[\"smoker\",\"charges\"]].groupby(\"smoker\").mean()\n",
    "smoker = (smoker_means.loc[\"yes\"])[0]\n",
    "non_smoker = (smoker_means.loc[\"no\"])[0]\n",
    "percent = (smoker-non_smoker)/non_smoker \n",
    "print(\"Smokers pay {:.2f}% more than non-smokers on average\".format(percent*100))"
   ]
  },
  {
   "cell_type": "code",
   "execution_count": null,
   "metadata": {
    "tags": [
     "ans_cell"
    ]
   },
   "outputs": [],
   "source": [
    "df[df[\"smoker\"]==\"yes\"][\"sex\"].mode()"
   ]
  },
  {
   "cell_type": "code",
   "execution_count": null,
   "metadata": {
    "tags": [
     "ans_cell"
    ]
   },
   "outputs": [],
   "source": [
    "df[df[\"smoker\"]==\"yes\"][[\"charges\",\"sex\"]].groupby(\"sex\").median()"
   ]
  },
  {
   "cell_type": "code",
   "execution_count": null,
   "metadata": {
    "tags": [
     "ans_cell"
    ]
   },
   "outputs": [],
   "source": [
    "sex_charges = df[df[\"smoker\"]==\"yes\"][[\"charges\",\"sex\"]].groupby(\"sex\").mean()\n",
    "female = (sex_charges.loc[\"female\"])[0]\n",
    "male = (sex_charges.loc[\"male\"])[0]\n",
    "percent = (male-female)/female \n",
    "print(\"Male smokers pay {:.2f}% more than female smokers on average\".format(percent*100))"
   ]
  },
  {
   "cell_type": "markdown",
   "metadata": {
    "tags": [
     "ans_cell"
    ]
   },
   "source": [
    "Within this dataset: (1) there is a mean charge of \\\\$13270.42 levied across all cases (both smokers and non-smokers); (2) the mean charge for smokers is \\$32050.23, which is 280% higher than for non-smokers; (3) there are more male smokers than female smokers, as indicated by the mode; (4) the median charge for male smokers, \\\\$36085.22, is 7.70% higher than for female smokers, \\\\$28950.47."
   ]
  },
  {
   "cell_type": "markdown",
   "metadata": {},
   "source": [
    "Of course, as we already know from previous cases, these measures of central tendency only tell us part of the story. The actual individual data points are not all located at the mean, median, or mode, but *distributed around them*, that is, they show **variability**."
   ]
  },
  {
   "cell_type": "markdown",
   "metadata": {
    "tags": [
     "15_min"
    ]
   },
   "source": [
    "### Exercise 2:\n",
    "\n",
    "Let's look at some aspects of the variability of insurance charges that smokers pay:\n",
    "\n",
    "1. What is the difference between the largest and smallest charges that smokers pay?\n",
    "2. What range of charges do the middle 50% of smokers pay? (that is, the charges between the 25th and 75th percentiles, also called the **interquartile range**)\n",
    "\n",
    "\n",
    "**Hint:** You can filter the DataFrame to get only smokers and get the maximum value of the `charges` variable as follows:\n",
    "\n",
    "```python\n",
    "mn = df[df[\"smoker\"] == \"yes\"][\"charges\"].min()\n",
    "```\n",
    "\n",
    "You can get the inter quartile range by using:\n",
    "\n",
    "```python\n",
    "iqr = charges.quantile(q=0.75) - charges.quantile(q=0.25)\n",
    "```"
   ]
  },
  {
   "cell_type": "markdown",
   "metadata": {
    "tags": [
     "ans_st"
    ]
   },
   "source": [
    "**Answer.** One possible answer is shown below:"
   ]
  },
  {
   "cell_type": "code",
   "execution_count": null,
   "metadata": {
    "tags": [
     "ans_cell"
    ]
   },
   "outputs": [],
   "source": [
    "# Range - difference of extreme values\n",
    "mn = df[df[\"smoker\"] == \"yes\"][\"charges\"].min()\n",
    "mx = df[df[\"smoker\"] == \"yes\"][\"charges\"].max()\n",
    "rnge = mx - mn\n",
    "print(\"Range: [${:.2f} , ${:.2f}]\".format(mn, mx))"
   ]
  },
  {
   "cell_type": "code",
   "execution_count": null,
   "metadata": {
    "tags": [
     "ans_cell"
    ]
   },
   "outputs": [],
   "source": [
    "# Interquartile range\n",
    "charges = df[df[\"smoker\"] == \"yes\"][\"charges\"]\n",
    "iqr = charges.quantile(q=0.75) - charges.quantile(q=0.25)\n",
    "print(\n",
    "    \"The charges for the middle 50% of smokers range from ${:.2f} to ${:.2f}.\\n\\nThis is an interquartile range of ${:.2f}.\".format(\n",
    "        charges.quantile(q=0.25), charges.quantile(q=0.75), iqr\n",
    "    )\n",
    ")"
   ]
  },
  {
   "cell_type": "markdown",
   "metadata": {
    "tags": [
     "ans_cell"
    ]
   },
   "source": [
    "We see that the charges range from \\\\$12,829.46 - \\\\$63,770.43. The charges for the middle 50% of smokers range from \\\\$20,826.24 to \\\\$41,019.21. This is an interquartile range of \\\\$20,192.96."
   ]
  },
  {
   "cell_type": "markdown",
   "metadata": {},
   "source": [
    "There is a measure of variability that is very similar to the interquartile range, but possesses some additional important mathematical properties that make it useful for tasks beyond simple descriptive statistics - the **standard deviation**. The formula for the standard deviation is as follows:\n",
    "\n",
    "$$\n",
    "\\sigma = \\sqrt{\\frac{\\sum(x_i-\\mu)^2}{N}}\n",
    "$$\n",
    "\n",
    "Let's break this down. First, the Greek letter $\\sigma$ (lowercase *sigma*) is the conventional way to represent the standard deviation in mathematical formulas. It is equal to the square root of this term:\n",
    "\n",
    "$$\\frac{\\sum(x_i-\\mu)^2}{N}$$\n",
    "\n",
    "What this term is doing might seem complicated, but it's not so bad. You first take each value in your dataset (that's $x_i$) and subtract the mean $\\mu$ from it. For instance, if the mean is 5 and $x_i$ is 11, then you have to subtract 5 from 11. You then raise the resulting number to the second power and repeat the process for all the numbers in your dataset. Then, you sum up all these values (that's what the Greek letter $\\Sigma$, uppercase *sigma*, means) and divide the sum by $N$, which is the number of elements in the dataset (we do this to make this quantity into an average).\n",
    "\n",
    "The reason why $(x_i-\\mu)$ is raised to the second power is because for values of $x_i$ that are less than the mean, this value is negative, so when you sum across all of these values, the negative values would cancel out the positive ones and give us zero! You can therefore think of the standard deviation as the average deviation from the mean to any point in the dataset, either to the left or to the right.\n",
    "\n",
    "We take the square root of the whole thing to bring it back to the same units that our dataset uses. For instance, if you have a dataset of people's heights, it makes little sense to have an average deviation in square feet or square meters, so you need to take the square root to have it in feet or meters."
   ]
  },
  {
   "cell_type": "markdown",
   "metadata": {
    "tags": [
     "15_min"
    ]
   },
   "source": [
    "### Analysis of regional charges\n",
    "\n",
    "Histograms can be used to compare different categorical variables against a common scale. This allows for a visual understanding of the spread of the data across these categories.\n",
    "\n",
    "We can have a histogram for each region:\n",
    "\n",
    "![Histograms region](data/images/histograms_region.png)"
   ]
  },
  {
   "cell_type": "code",
   "execution_count": null,
   "metadata": {},
   "outputs": [],
   "source": [
    "regional_charges = df[[\"charges\", \"region\"]].groupby(\"region\")\n",
    "regional_charges.describe()"
   ]
  },
  {
   "cell_type": "markdown",
   "metadata": {},
   "source": [
    "The Southeast region appears to have the highest charges. It has the highest mean and its third quartile spreads to higher values than those for the other regions. "
   ]
  },
  {
   "cell_type": "markdown",
   "metadata": {
    "tags": [
     "5_min"
    ]
   },
   "source": [
    "### Exercise 3:\n",
    "\n",
    "This is a table of the count of smokers per region as a proportion of the total number of smokers in the dataset. Why does the Southeast have higher charges than the other regions?\n",
    "\n",
    "| Region \t| Percentage of smokers \t|\n",
    "|-\t|-\t|\n",
    "| Northwest \t| 21% \t|\n",
    "| Northeast \t| 24% \t|\n",
    "| Southeast \t| 33% \t|\n",
    "| Southwest \t| 21% \t|\n",
    "\n"
   ]
  },
  {
   "cell_type": "markdown",
   "metadata": {
    "tags": [
     "ans_st"
    ]
   },
   "source": [
    "**Answer.** One possible answer is this:\n",
    "\n",
    "From the table, we see that the Southeast has the highest smoker prevalence at 33%. This means that smokers are not evenly distributed across the regions. As this is also the region with the highest charges, and we know that smokers pay higher charges than non-smokers, it is likely that the higher prevalence of smokers in this region is the reason that the charges in this region are higher. Notice however that we can't directly assert that there is a *causal* relationship between being a smoker and higher charges; based on the data we have, we can only say that these variables are at most correlated (see [here](https://www.nature.com/articles/nmeth.3587) for an in-depth discussion of the difference between causation and correlation)."
   ]
  },
  {
   "cell_type": "markdown",
   "metadata": {},
   "source": [
    "It is often necessary or useful to calculate the **probability** of some event $A$ occurring, which takes on a value from 0 to 1 and is denoted $P(A)$. A probability of 0 means that an event is certain to not occur, and a probability of 1 means that it is certain to occur. To calculate the probability of events occurring, we can use the following rules (here, $A$ and $B$ are two events): \n",
    "\n",
    "1. $\\displaystyle P(A) = \\frac {\\textrm{# of outcomes when } A \\textrm{ occurs}} {\\textrm{# of total outcomes}}$\n",
    "2. $P(A \\textrm{ AND } B) = P(A) * P(B)$ (only applies to [independent events](https://www.statisticshowto.com/probability-and-statistics/dependent-events-independent/))\n",
    "3. $P(A \\textrm{ OR } B) = P(A) + P(B)$ (only applies to [mutually exclusive events](https://en.wikipedia.org/wiki/Mutual_exclusivity))"
   ]
  },
  {
   "cell_type": "markdown",
   "metadata": {
    "tags": [
     "5_min"
    ]
   },
   "source": [
    "### Exercise 4:\n",
    "\n",
    "The company is considering offering a lucky draw to give one client zero charges for the next month. They want to know how likely it is that a smoker is selected. Specifically:\n",
    "\n",
    "1. If the company did one lucky draw for each region individually, what is the probability that the selected person in the region that smokes the most is a smoker?\n",
    "2. If the company did one lucky draw for all regions together, what is the probability of a smoker from the region that smokes the most being selected?"
   ]
  },
  {
   "cell_type": "markdown",
   "metadata": {
    "tags": [
     "ans_st"
    ]
   },
   "source": [
    "**Answer.** One possible solution is given below:"
   ]
  },
  {
   "cell_type": "code",
   "execution_count": null,
   "metadata": {
    "tags": [
     "ans_cell"
    ]
   },
   "outputs": [],
   "source": [
    "# Probability of a person in the Southeast being a smoker\n",
    "se_smokers = df[df[\"region\"] == \"southeast\"][\"smoker\"].value_counts()\n",
    "p = se_smokers[\"yes\"] / (se_smokers.sum())\n",
    "print(p * 100)"
   ]
  },
  {
   "cell_type": "code",
   "execution_count": null,
   "metadata": {
    "tags": [
     "ans_cell"
    ]
   },
   "outputs": [],
   "source": [
    "# Probability of a smoker from the Southeast being selected\n",
    "p = se_smokers[\"yes\"]/df.shape[0]\n",
    "print(\"{:.2f}\".format(p * 100))"
   ]
  },
  {
   "cell_type": "markdown",
   "metadata": {
    "tags": [
     "ans_cell"
    ]
   },
   "source": [
    "The probability of a person in the Southeast being a smoker is the number of smokers divided by the total population in that region. Hence, a randomly selected person in that region would have a 25% chance of being a smoker.\n",
    "\n",
    "To compute the probability of a smoker from the Southeast being selected, we need to divide the number of smokers in the Southeast by the total population across all regions. This yields that in this dataset there is a 6.8% chance that a randomly selected case would be a smoker from the Southeast."
   ]
  },
  {
   "cell_type": "markdown",
   "metadata": {
    "tags": [
     "20_min"
    ]
   },
   "source": [
    "## Relationships between variables\n",
    "\n",
    "As we have seen in previous cases, properties of individual variables are important, but they are not the only important thing. Rather, data science often consists of the study of relationships between multiple variables. One way to give a quick numerical summary of a relationship between two variables is via the concept of **correlation**.\n",
    "\n",
    "The **Pearson correlation coefficient** (also called Pearson's $R$) is commonly used for this purpose and has values in the range \\[-1:1\\]. A positive correlation ($R > 0$) means that as one variable increases in value, the common trend is that the other variable increases in value, while a negative correlation ($R < 0$) means that as one variable increases, the other decreases. If $R = 1$, then that means there is a perfect positive linear relationship between the two variables; if $R = -1$, there is a perfect negative linear relationship."
   ]
  },
  {
   "cell_type": "markdown",
   "metadata": {
    "tags": [
     "15_min"
    ]
   },
   "source": [
    "### Exercise 5:\n",
    "\n",
    "Use `pandas` and the `.corr()` method to compute a correlation matrix to compare correlations between variables for smokers. Use this matrix to identify which variables are positively correlated, negatively correlated, and uncorrelated with the charges."
   ]
  },
  {
   "cell_type": "markdown",
   "metadata": {
    "tags": [
     "ans_st"
    ]
   },
   "source": [
    "**Answer.** One possible solution is shown below:"
   ]
  },
  {
   "cell_type": "code",
   "execution_count": null,
   "metadata": {
    "tags": [
     "ans_cell"
    ]
   },
   "outputs": [],
   "source": [
    "smokers = df[df[\"smoker\"] == \"yes\"]\n",
    "central = smokers[\n",
    "    (smokers[\"charges\"] >= charges.quantile(q=0.25))\n",
    "    & (smokers[\"charges\"] <= charges.quantile(q=0.75))\n",
    "]\n",
    "corr = central.corr()\n",
    "corr.style.background_gradient(cmap=\"coolwarm\").set_precision(2)"
   ]
  },
  {
   "cell_type": "markdown",
   "metadata": {},
   "source": [
    "We can see that there is virtually no correlation between the number of children and charges, which indicates that there is no linear relationship between these two variables."
   ]
  },
  {
   "cell_type": "markdown",
   "metadata": {},
   "source": [
    "### Exercise 6:\n",
    "\n",
    "These are scatterplots of the continuous variables present in the dataset. Explain what each of these means.\n",
    "\n",
    "![Scatterplot of BMI and charges](data/images/scatter_bmi_charges.png)\n",
    "![Scatterplot of age and charges](data/images/scatter_age_charges.png)\n"
   ]
  },
  {
   "cell_type": "markdown",
   "metadata": {
    "tags": [
     "ans_st"
    ]
   },
   "source": [
    "**Answer.** One possible answer is the following:\n",
    "\n",
    "* The charges are fairly strongly positively correlated for BMI ($R=0.78$). This agrees with what we see on the scatter plot. We can also immediately see that there is some spread away from the central trend, which is why the $R$ value is not perfect.\n",
    "* There is a small negative correlation between age and charges. This indicates that as age increases, charges decrease. The scatter plot clearly shows two different groups within the data. We see that after the age of 40, charges are generally lower. However, within each of these groups, `charge` seems to increase with `age`. This indicates that the correlation between these variables is not particularly indicative of a linear trend [if we don't account for the presence of these clusters](https://en.wikipedia.org/wiki/Simpson%27s_paradox)."
   ]
  },
  {
   "cell_type": "markdown",
   "metadata": {
    "tags": [
     "30_min"
    ]
   },
   "source": [
    "## Probability theory and distributions\n",
    "\n",
    "Thus far, we have been concerned with calculating statistical values which give insight into the data we already have; i.e. we have been taking a more *empirical* approach. However, we often have to be forward-looking and also predict the likelihood of future events, which is more *theoretical* in nature. We had a sampling of this in Exercise 4, but here we will talk more in detail about distributions and some of the basic theory around them.\n",
    "\n",
    "Suppose we were to plot the distribution of BMIs for the smokers in our dataset — that would give us a histogram. But a histogram is entirely based on a limited sample of past data, and doesn't allow us to directly make predictions about the general smoker population, *independent of our specific dataset*. To do this, we need a **probability density function (PDF)**, which is a theoretical construct that helps us compute the probability of where any randomly chosen smoker's BMI would fall, and which is not strictly beholden to the limits of our dataset (caveat: In order to use a PDF as an aid for inference, ie., to make general claims about a population using data from a sample, we need to pair it with some other techniques that make sure that the sample is representative of the whole).\n",
    "\n",
    "Notice that we didn't say that the PDF can directly tell us the probability that a randomly chosen smoker's BMI would be exactly some given value; say, 30. The reason for this is because BMI is a *continuous* value rather than a *discrete* value; it can take on any decimal value, so the probability that a person's BMI is *exactly* 30 is pretty much zero. It's virtually guaranteed that what we think is a 30 BMI is actually a 29.99 BMI, or a 30.01 BMI, or even a 30.001 BMI. Either way, finding a person with a BMI of exactly 30 is like trying to find a unicorn."
   ]
  },
  {
   "cell_type": "markdown",
   "metadata": {
    "tags": [
     "25_min"
    ]
   },
   "source": [
    "### Area under the curve\n",
    "\n",
    "Because of this, it makes more sense to compute the probability that a smoker's BMI lies within some range; say, between 29 and 31. The PDF is perfectly made for this - specifically, if we plot the PDF on a standard 2-dimensional coordinate plane (with an $x$-axis and $y$-axis), this probability is the area of the region that lies under the PDF and above 0 (the $x$-axis), with $x$ values between 29 and 31. For those of you familiar with calculus, this is called the **area under the curve**.\n",
    "\n",
    "One interesting consequence of this property of the PDF is that the total area under the PDF and above the $x$-axis, with no limits on what the $x$ values can be, has to be 1 (because the probability of an event has to lie between 0 and 1).\n",
    "\n",
    "One of the most famous distributions is the **normal distribution**, for which the mean, median, and mode are all equal and which is symmetric around the median. This distribution has a high peak in the center and tapers off as we move towards the left and right ends."
   ]
  },
  {
   "cell_type": "markdown",
   "metadata": {
    "tags": [
     "10_min"
    ]
   },
   "source": [
    "### Exercise 7:\n",
    "\n",
    "Here is a probability density function of the BMI of all smokers:\n",
    "\n",
    "![PDF of BMI of smokers](data/images/PDF_bmi_smokers.png)\n",
    "\n",
    "From this plot and the mean, median, and mode values, explain if this distribution is a good candidate for being perfectly normal."
   ]
  },
  {
   "cell_type": "markdown",
   "metadata": {
    "tags": [
     "ans_st"
    ]
   },
   "source": [
    "**Answer.** One possible answer is shown below:"
   ]
  },
  {
   "cell_type": "code",
   "execution_count": null,
   "metadata": {
    "tags": [
     "ans_cell"
    ]
   },
   "outputs": [],
   "source": [
    "mean = df[df[\"smoker\"] == \"yes\"][\"bmi\"].mean()\n",
    "median = df[df[\"smoker\"] == \"yes\"][\"bmi\"].median()\n",
    "mode = df[df[\"smoker\"] == \"yes\"][\"bmi\"].mode()\n",
    "mode = mode.values[0]\n",
    "\n",
    "print(\n",
    "    \"The mean, median and mode are very similar: {:.2f}, {:.2f}, {}.\".format(\n",
    "        mean, median, mode\n",
    "    )\n",
    ")"
   ]
  },
  {
   "cell_type": "markdown",
   "metadata": {
    "tags": [
     "ans_cell"
    ]
   },
   "source": [
    "The distribution is bell-shaped and is fairly symmetric around the mean, with a central peak and a \"tail\" on both sides. However, the right tail is longer than the left tail, and there is a slight dent to the right of the peak. The mean and median are very close, although the mode is slightly lower. Thus, this distribution is fairly close to normal, but not quite."
   ]
  },
  {
   "cell_type": "markdown",
   "metadata": {},
   "source": [
    "An ideal normal distribution looks like this:\n",
    "\n",
    "![\"A normal curve\"](data/images/normal.png)\n",
    "\n",
    "As you can see, there are some vertical lines overlaid on the curve. These represent rules of thumb which are *very* helpful to remember:\n",
    "\n",
    "* Approximately 68% of samples in a normal distribution fall within one standard deviation of the mean\n",
    "* Approximately 95% of samples fall within two standard deviations of the mean\n",
    "* Approximately 99.7% of samples fall within three standard deviations of the mean\n",
    "\n",
    "It is common practice to refer to a data point's number of standard deviations from the mean as its **$z$-score**.\n",
    "\n",
    "Relating this back to our discussion about area under the curve, the above rules of thumb can be interpreted as:\n",
    "\n",
    "* The area under the normal distribution PDF and above the $x$-axis, with a $z$-score between -1 and 1 is approximately 0.68.\n",
    "* The area under the normal distribution PDF and above the $x$-axis, with a $z$-score between -2 and 2 is approximately 0.95.\n",
    "* The area under the normal distribution PDF and above the $x$-axis, with a $z$-score between -3 and 3 is approximately 0.997."
   ]
  },
  {
   "cell_type": "markdown",
   "metadata": {
    "tags": [
     "10_min"
    ]
   },
   "source": [
    "### Exercise 8:\n",
    "\n",
    "Assume for now that the distribution of BMIs is perfectly normal. Compute the following:\n",
    "\n",
    "1. What is the probability that a smoker has a BMI of more than 30 (the threshold for obesity)?\n",
    "2. What is the probability that a smoker has a BMI of more than 37?\n",
    "3. What range of values have a 5% or lower probability of being observed if you randomly sample one person from this distribution?"
   ]
  },
  {
   "cell_type": "markdown",
   "metadata": {
    "tags": [
     "ans_st"
    ]
   },
   "source": [
    "**Answer.** One possible answer is shown below:"
   ]
  },
  {
   "cell_type": "code",
   "execution_count": null,
   "metadata": {
    "tags": [
     "ans_cell"
    ]
   },
   "outputs": [],
   "source": [
    "# mean and std\n",
    "smoker_bmi = df[df[\"smoker\"] == \"yes\"][\"bmi\"]\n",
    "mean_bmi = smoker_bmi.mean()\n",
    "std_bmi = smoker_bmi.std()\n",
    "\n",
    "print(\"Mean: {:.2f}\\nStd: {:.2f}\\n\".format(mean_bmi, std_bmi))"
   ]
  },
  {
   "cell_type": "code",
   "execution_count": null,
   "metadata": {
    "tags": [
     "ans_cell"
    ]
   },
   "outputs": [],
   "source": [
    "print(\n",
    "    \"50 % of observations lie to either side of the mean, thus 50 % probability that BMI > 30\"\n",
    ")"
   ]
  },
  {
   "cell_type": "code",
   "execution_count": null,
   "metadata": {
    "tags": [
     "ans_cell"
    ]
   },
   "outputs": [],
   "source": [
    "# Probability of BMI more than 37 - properties of a normal dist\n",
    "print(\"One std above the mean: {:.1f}\".format(mean_bmi + std_bmi))\n",
    "\n",
    "P = 0.68 / 2 + 0.5\n",
    "print(\"{:.2f}\".format(P))\n",
    "print(\"P > 37 = {:.2f} \".format((1 - P) * 100))"
   ]
  },
  {
   "cell_type": "code",
   "execution_count": null,
   "metadata": {
    "tags": [
     "ans_cell"
    ]
   },
   "outputs": [],
   "source": [
    "# 2 std of mean - 95% of observations in 2 std of mean.\n",
    "lower_lim = mean_bmi - 2 * std_bmi\n",
    "upper_lim = mean_bmi + 2 * std_bmi\n",
    "\n",
    "print(\"BMI < {:.2f} and BMI > {:.2f}\".format(lower_lim, upper_lim))"
   ]
  },
  {
   "cell_type": "markdown",
   "metadata": {
    "tags": [
     "ans_cell"
    ]
   },
   "source": [
    "The mean is 30.71, which is fairly close to 30. We are looking for the probability of the BMI being above 30. 50% of the samples fall to either side of the mean in a normal distribution, which means that the probability of sampling a BMI greater than 30 is roughly 50%.\n",
    "\n",
    "One standard deviation from the mean is 30.71 + 6.32 = 37.03, which is very close to 37; thus, we are looking for the probability of sampling a BMI greater than 1 standard deviation above the mean. We know that 68% of observations fall within 1 standard deviation. Because the distribution is symmetric, we know that half of these are less than the mean and half are more than the mean. Thus, the probability is (1 - 0.68)/2, which is 16%.\n",
    "\n",
    "95% of observations fall within two standard deviations from the mean. This means that the remaining 5% of samples fall beyond 2 standard deviations, which gives the ranges of BMI < 18.07 ~ 18 and BMI > 43.35. "
   ]
  },
  {
   "cell_type": "markdown",
   "metadata": {
    "tags": [
     "3_min"
    ]
   },
   "source": [
    "## Conclusions\n",
    "\n",
    "From our analysis, we have seen that smokers pay substantially higher fees than non-smokers. Fees for smokers are also strongly correlated with BMI, particularly above the threshold for obesity. It seems that smoking is more common in males than females and that it is particularly prevalent in the Southeast region, which could account for the higher median charge in that region."
   ]
  },
  {
   "cell_type": "markdown",
   "metadata": {
    "tags": [
     "7_min"
    ]
   },
   "source": [
    "## Takeaways\n",
    "\n",
    "In this case, you saw that we can analyze historical data to understand the trends within it, and use those trends and some theoretical understanding of probability and statistics to predict the likelihood of future events. Key points include:\n",
    "\n",
    "1. Summary statistics can be used to quickly indicate where the \"center\" of a dataset is, or how spread out the dataset is.\n",
    "3. We can investigate correlations between variables. This is especially useful during exploratory data analysis, and when (as you will see in future cases) building models that predict the value of one variable of interest based on several others.\n",
    "3. The probability density function is what allows us to move from the fully empirical world of histograms, which are an imperfect and limited representation of the entire population, to modeling and inferring characteristics of that population. The area under the PDF and above 0 between two specific $x$-values $a$ and $b$ gives the probability that a randomly chosen sample from that population will have an $x$-value for that variable between $a$ and $b$.\n",
    "4. The normal distribution is a particularly special PDF which is perfectly symmetric and with its mean, median, and mode all equal, and is a pretty good fit to many natural phenomena."
   ]
  },
  {
   "cell_type": "markdown",
   "metadata": {},
   "source": [
    "## Attribution\n",
    "\n",
    "\"Standard deviation diagram\", M.W. Toews, 7 April 2007, Creative Commons Attribution 2.5 Generic license, https://commons.wikimedia.org/wiki/File:Standard_deviation_diagram.svg"
   ]
  }
 ],
 "metadata": {
  "c1_recart": "6.1.0-57c20131aabc1dc2a8c675852d80a7da"
 },
 "nbformat": 4,
 "nbformat_minor": 4
}
