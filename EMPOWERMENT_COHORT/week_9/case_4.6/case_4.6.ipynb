{
 "cells": [
  {
   "cell_type": "markdown",
   "metadata": {},
   "source": [
    "# Creating a sales dashboard in Google Data Studio"
   ]
  },
  {
   "cell_type": "markdown",
   "metadata": {
    "tags": [
     "1_min"
    ]
   },
   "source": [
    "## Goals\n",
    "\n",
    "In this case, you will learn how to plan and build a visual dashboard in Google Data Studio. You will expand upon the skills you learned about choosing visualizations and presenting them in a compelling and clear way."
   ]
  },
  {
   "cell_type": "markdown",
   "metadata": {
    "tags": [
     "5_min"
    ]
   },
   "source": [
    "## Introduction\n",
    "\n",
    "**Business Context.** You are a member of the business analytics team of *Simply Music*, a Florida-based musical instrument store that has been growing at a fast pace over the last few years. Management is keen to find out what the most popular items are and which locations are the most profitable, in order to adjust their marketing strategies and their stock logistics to increase sales and revenue. They also want to learn about the number of deliveries made outside Florida, since they are contemplating opening a new branch in another state.\n",
    "\n",
    "**Business Problem.** You are tasked with creating a sales dashboard for management to use. This dashboard must display sales, revenue, and profit over time, and allow for queries across product, location, and customer age. From your previous meetings with the management, you know that they are interested in having these three broad questions answered:\n",
    "\n",
    "1. How have our sales, revenue and profits evolved over time?\n",
    "1. What are the locations with the highest numbers of sales and profit?\n",
    "1. What are the items with the highest numbers of sales, profit and revenue across: product description, product type, product line, location, customer age group and state of delivery?\n",
    "\n",
    "**Analytical Context.** We have been given a sample dataset of 5000 sales records from Simply Music, corresponding to the years 2018 and 2019. They ask you to create the dashboard with this sample data, and after this is done and your dashboard receives the management's approval, your team will have to connect it to an online database to feed it the real time data that comes from the company's sales tracking software. The sample table and the database share the same structure, so you don't have to worry about database management or creation. You will plan your dashboard and deploy it using the free tool [Google Data Studio](https://datastudio.google.com/).\n",
    "\n",
    "The case is structured as follows. You will:\n",
    "\n",
    "1. Understand the business process that the dashboard has to represent.\n",
    "1. Plan the dashboard layout and visualizations.\n",
    "1. Lastly, you will create your dashboard using Google Data Studio.\n",
    "\n",
    "\n"
   ]
  },
  {
   "cell_type": "code",
   "execution_count": null,
   "metadata": {},
   "outputs": [],
   "source": [
    "# We will use pandas to explore our data before uploading it to Google Data Studio (we won't modify the data)\n",
    "import pandas as pd"
   ]
  },
  {
   "cell_type": "markdown",
   "metadata": {
    "tags": [
     "10_min"
    ]
   },
   "source": [
    "## Understanding the business process\n",
    "\n",
    "Data scientists are often required to extract valuable information from datasets without being given specific questions to answer. We usually address these cases with exploratory data analysis combined with domain knowledge. Other times, we can get the clients to articulate a limited set of questions. There is a third scenario, where the clients want to explore the data themselves in such a way that they can easily answer *ad hoc* queries that can't possibly be known in advance. This is much more open-ended and requires us to intimately understand the natural structure of the data and likely queries.\n",
    "\n",
    "One way to address this need is to create dashboards that organize and display all relevant business information, as well as various filters that users might want to have, while being fully extendable if required in the future. When you create dashboards, you define a set of relevant variables and feed them into interactive visualizations that the users can then filter at will to explore the different relationships between the variables.\n",
    "\n",
    "Dashboards work best when they mirror the business process that underlie the data. It is always advised that you study the greater business context so that you can put yourself in the shoes of your end users (in this case, management) and deliver a product that is user-friendly and pertinent."
   ]
  },
  {
   "cell_type": "markdown",
   "metadata": {
    "tags": [
     "5_min"
    ]
   },
   "source": [
    "### Specifics of <i>Simply Music</i>\n",
    "\n",
    "Simply Music is a retailer, so it sells mostly to individual buyers who buy in small quantities. The customers are not restricted to a single state, and in fact many of them buy online from all over the country. There are three physical shops as well though, and they are all in the state of Florida.\n",
    "\n",
    "These are the product lines that the store serves:\n",
    "\n",
    "1. Musical instruments\n",
    "    1. Acoustic pianos\n",
    "    2. Digital pianos and keyboards\n",
    "    3. Guitars (electric and acoustic)\n",
    "    4. Woodwinds (flutes, oboes, bassoons, saxophones, etc.)\n",
    "    5. Brass (trumpets, horns)\n",
    "    6. Synthetics\n",
    "    7. Strings (everything bowed: violins, celli, etc.)\n",
    "    8. Percussion (mostly drumkits)\n",
    "2. Accessories\n",
    "    1. Strings (for guitars, violins, etc.)\n",
    "    2. Pedals and amps (for electric guitars)\n",
    "    3. Sheet music\n",
    "\n",
    "Furthermore, these are the four selling channels that the company uses:\n",
    "\n",
    "1. Physical store in Fort Lauderdale\n",
    "2. Physical store in Tampa\n",
    "3. Physical store in West Palm Beach\n",
    "4. Online store\n",
    "\n",
    "Each transaction is recorded at the time of purchasing, whether the purchase happens online or at a physical location. Accepted means of payment include cash and credit card. If the customer is not happy with their product, they can file a complaint within 10 days of the purchase."
   ]
  },
  {
   "cell_type": "markdown",
   "metadata": {
    "tags": [
     "5_min"
    ]
   },
   "source": [
    "## Looking at the data\n",
    "\n",
    "The database team has given us access to a sample of 5,000 transactions and some other relevant data.\n",
    "\n",
    "The first table is called `transactions`. Let's look at it using `pandas` and the `.head()` method:"
   ]
  },
  {
   "cell_type": "code",
   "execution_count": null,
   "metadata": {},
   "outputs": [],
   "source": [
    "transactions = pd.read_csv('data/transactions.csv')\n",
    "transactions.head()"
   ]
  },
  {
   "cell_type": "markdown",
   "metadata": {},
   "source": [
    "There are several attributes in this table, namely:\n",
    "\n",
    "* **TIME_KEY**: A key that refers to the year, month and day of the purchase. It's in YYMMDD format (e.g. `180122` links to January 22, 2018)\n",
    "* **PRODUCT_KEY**: A number that uniquely identifies the product\n",
    "* **UNITS_SOLD**: The units sold\n",
    "* **DOLLARS_SOLD**: The total amount of dollars sold of this product. This variable is equal to the units sold times the unit price\n",
    "* **CHANNEL**: Either `Fort Lauderdale`, `Tampa`, `West Palm Beach` or `Website`\n",
    "* **CUSTOMER_KEY**: A number that uniquely identifies the customer\n",
    "* **DESTINATION_STATE**: The state to which the customer wants their products delivered. Available only for online transactions\n",
    "\n",
    "Additionally, we also have the `products` table:"
   ]
  },
  {
   "cell_type": "code",
   "execution_count": null,
   "metadata": {},
   "outputs": [],
   "source": [
    "products = pd.read_csv('data/products.csv')\n",
    "products.head()"
   ]
  },
  {
   "cell_type": "markdown",
   "metadata": {},
   "source": [
    "The attributes are:\n",
    "\n",
    "* **PRODUCT_KEY**: The unique identifier of the product\n",
    "* **PRODUCT_LINE**: The product line (either \"Musical instruments\" or \"Accessories\")\n",
    "* **PRODUCT_TYPE**: The type of the product (e.g. \"Accoustic pianos\", \"Brass\")\n",
    "* **DESCRIPTION**: The name of the product (e.g. \"Casio Digital Piano AP650\")\n",
    "* **COST**: How much the company estimates the item cost them (includes fixed and variable costs). This is unit cost\n",
    "* **UNIT_PRICE**: The unit price"
   ]
  },
  {
   "cell_type": "markdown",
   "metadata": {},
   "source": [
    "Let's also load in the `time` and `customers` tables:"
   ]
  },
  {
   "cell_type": "code",
   "execution_count": null,
   "metadata": {},
   "outputs": [],
   "source": [
    "time = pd.read_csv('data/time.csv')\n",
    "time.head()"
   ]
  },
  {
   "cell_type": "markdown",
   "metadata": {},
   "source": [
    "The attributes of the `time` table are:\n",
    "\n",
    "* **TIME_KEY**: The time key. It's in YYYYMMDD format (e.g. `20180122` links to January 22, 2018)\n",
    "* **YEAR**: The year\n",
    "* **MONTH**: The month (in MM format, so February becomes `02`)\n",
    "* **DAY**: The day (in DD format, so the first becomes `01`)\n",
    "* **WEEK_OF_YEAR**: The week of the year (the week of Jan 01 counts as week 1)\n",
    "* **QUARTER**: The quarter to which the month belongs\n",
    "\n",
    "Notice that we don't have data for hours or minutes."
   ]
  },
  {
   "cell_type": "code",
   "execution_count": null,
   "metadata": {},
   "outputs": [],
   "source": [
    "customers = pd.read_csv('data/customers.csv')\n",
    "customers.head()"
   ]
  },
  {
   "cell_type": "markdown",
   "metadata": {},
   "source": [
    "The fields of the `customers` table are:\n",
    "\n",
    "* **CUSTOMER_KEY**: The unique identifier of the customer (can be a social security number or any other number)\n",
    "* **CUSTOMER_NAME**: The customer's full name\n",
    "* **CUSTOMER_AGE**: The age of your customer\n",
    "* **CUSTOMER_AGE_GROUP**: The customer's age group"
   ]
  },
  {
   "cell_type": "markdown",
   "metadata": {},
   "source": [
    "You might be wondering how we're going to pool all this data in order to create our dashboard. The good news is that Google Data Studio offers a really easy way to merge tables, so in many scenarios you don't have to worry too much about that. And the other good news is that we've pre-merged the data for you (the `simply_music.csv` dataset, that you can explore using `pd.read_csv('data/simply_music.csv)` if you like)."
   ]
  },
  {
   "cell_type": "markdown",
   "metadata": {
    "tags": [
     "30_min"
    ]
   },
   "source": [
    "## Choosing the right visualizations\n",
    "\n",
    "Let's keep in mind our problem statement: \"The dashboard must display sales, revenue and profit across product type, location and customer age.\" What visualizations are most appropriate given this?\n",
    "\n",
    "Google Data Studio offers a variety of visualizations, ranging from tables and plots to simple geographical maps. Besides most of the usual visualizations that you'll find in [Google Spreadsheets](https://support.google.com/docs/answer/190718?hl=en), there are some others that you can check [here](https://datastudio.google.com/visualization). We'll review several options to help us decide which ones suit our needs best.\n",
    "\n",
    "You might recall that data can be *categorical* or *numerical*. In turn, numerical data can be of type *integer* or *float*. Data types are probably the key criterion to consider when it comes to choosing a visualization. Secondary criteria include ease of interpretation and the familiarity of your end user with a specific kind of plot."
   ]
  },
  {
   "cell_type": "markdown",
   "metadata": {
    "tags": [
     "3_min"
    ]
   },
   "source": [
    "### Categorical vs. numerical\n",
    "\n",
    "When you need to plot a categorical variable against a numerical variable, your most likely choices are **bar charts** and **pie charts**, which we have already discussed in previous cases. A third option is using **gauges**. If you have variables whose values happen to lie inside the same given range, then you can plot them as gauge meters:\n",
    "\n",
    "<img src=\"data/img/gauge.jpg\" width=\"500\"/>\n",
    "\n",
    "Finally, if your categorical variable is geographical (states, countries), you can create **choropleth maps** (the numerical variable is represented as a hue):\n",
    "\n",
    "<img src=\"data/img/choropleth.jpg\" width=\"500\"/>\n",
    "\n",
    "A useful variant is using bubbles instead of tiles, where the size of the bubble (not the color) represents the magnitude of the value."
   ]
  },
  {
   "cell_type": "markdown",
   "metadata": {
    "tags": [
     "2_min"
    ]
   },
   "source": [
    "### Numerical vs. numerical\n",
    "\n",
    "Here you can't go wrong with **scatterplots**. You can even add a third numerical variable or even a categorical variable into the mix, and create a **bubble chart**, in which the third numerical variable is represented as the size of the bubble and the categorical variable maps to a color code."
   ]
  },
  {
   "cell_type": "markdown",
   "metadata": {
    "tags": [
     "2_min"
    ]
   },
   "source": [
    "### Numerical over time\n",
    "\n",
    "Here you might find **line plots** handy. You can add more **series** to the plot (i.e. more lines) to compare across different categorical variables over time. When we add more series, we tend to differentiate them using a different color for each one. Here's an example:\n",
    "\n",
    "<img src=\"data/img/line_chart.jpg\" width=\"500\"/>"
   ]
  },
  {
   "cell_type": "markdown",
   "metadata": {
    "tags": [
     "5_min"
    ]
   },
   "source": [
    "### Tables and scorecards\n",
    "\n",
    "The last visualizations we'll cover aren't actually plots. You can always represent your data in tabular form, and that's sometimes more appropriate than a visual chart. The general principle is that you should keep tables simple and uncluttered. If that's not possible, then try some of the other visualizations explained above.\n",
    "\n",
    "A common use case of tables is when you need to do a cross-tabulation (crosstab) of two categorical variables. Crosstabs, or **contingency tables**, as they are also called, count the number of elements of category A that also belong to category B, and present the results in a matrix. Like this, for instance:\n",
    "\n",
    "| Type | Physical | Online |\n",
    "| --- | --- | --- |\n",
    "| Guitars | 40 | 60 |\n",
    "| Acc. Pianos | 30 | 50 |\n",
    "\n",
    "This table shows, for example, that the sold items belonging to \"guitars\" and \"physical\" (sold in a physical location) amount to 40. To learn more about contingency tables, check out [this article](https://en.wikipedia.org/wiki/Contingency_table).\n",
    "\n",
    "You can display a contingency table as is in your dashboard if you like, but you can also slice it with a filter and then plot the relevant slice as a bar chart or a pie chart. Let's say you use a filter to slice out \"online\" (i.e. you only want to see sales from physical locations), so the resulting plot can be:\n",
    "\n",
    "<img src=\"data/img/physical_crosstab_plot.jpg\" width=\"500\"/>\n",
    "\n",
    "You can alternatively use a grouped bar chart (if you don't want to do the slicing), but grouped bar charts get difficult to read very quickly with more and more groupings, so they are really only recommended if the number of bars isn't too large.\n",
    "\n",
    "In addition to these alternatives, you can also display single values using **scorecards**, like this:\n",
    "\n",
    "<img src=\"data/img/scorecard.jpg\" width=\"100\"/>"
   ]
  },
  {
   "cell_type": "markdown",
   "metadata": {
    "tags": [
     "15_min"
    ]
   },
   "source": [
    "### Applying our knowledge\n",
    "\n",
    "Now that you know what visualizations go well with what kinds of data, it's time to choose which ones we'll use. Here's a table showing the variables that management requested to have in the dashboard, along with their data types:\n",
    "\n",
    "| Variable | Type |\n",
    "|-|-|\n",
    "| Location | Categorical |\n",
    "| State of delivery | Categorical |\n",
    "| Time | Date |\n",
    "| Customer age | Categorical (we'll use age group instead of simple ages) |\n",
    "| Product type | Categorical |\n",
    "| Product description | Categorical |\n",
    "| Product line | Categorical |\n",
    "\n",
    "These are the **dimensions** of our dashboards. Dimensions are the variables that we'll use to filter the data.\n",
    "\n",
    "The numerical variables that our report will calculate and display are:\n",
    "\n",
    "| Variable | Type |\n",
    "|-|-|\n",
    "| Revenue | Numeric (float) |\n",
    "| Profit | Numeric (float) |\n",
    "| Items sold | Numeric (integer) |\n",
    "| Number of customers | Numeric (integer) |\n",
    "\n",
    "These are called the **metrics** of our dashboard. You can say that metrics are numbers that are calculated and dimensions are filters that we use to determine which subsets of the data are used to compute those metrics.\n",
    "\n",
    "<img src=\"data/img/metrics_and_dimensions.jpg\" width=\"500\"/>\n",
    "\n",
    "The mathematical operations dashboards typically (but not exclusively) perform to create the metrics are these:\n",
    "\n",
    "1. **Sum**: sums all the values of the rows of that column\n",
    "2. **Count**: counts how many rows there are in the selected column\n",
    "3. **Count distinct**: ounts how many non-duplicate rows there are in the selected column\n",
    "4. **Average**: finds the arithmetic mean of all the values of the rows of that column\n",
    "5. **Minimum**: finds the minumum of all the values of the rows of that column\n",
    "6. **Maximum**: finds the maximum of all the values of the rows of that column"
   ]
  },
  {
   "cell_type": "markdown",
   "metadata": {
    "tags": [
     "3_min"
    ]
   },
   "source": [
    "### Exercise 1\n",
    "\n",
    "What mathematical operations are most appropriate to:\n",
    "\n",
    "1. Calculate the total number of items sold\n",
    "2. Calculate the total number of customers\n",
    "3. Calculate total profit\n",
    "4. Calculate total revenue"
   ]
  },
  {
   "cell_type": "markdown",
   "metadata": {
    "tags": [
     "ans_st"
    ]
   },
   "source": [
    "**Answer**. Shown below:\n",
    "\n",
    "1. Calculate the total number of items sold: **Count**. You would count the number of rows in the `transactions` table\n",
    "2. Calculate the total number of customers: **Count distinct**. You would count the number of unique customer identifiers in the `transactions` table. Since one single customer can make more than one purchase, you have to use count distinct to avoid counting them more than once\n",
    "3. Calculate total profit: **Sum**. You would sum the profit earned from each transaction\n",
    "4. Calculate total revenue: **Sum**. You would sum the revenue earned from each transaction in the `transactions` table"
   ]
  },
  {
   "cell_type": "markdown",
   "metadata": {
    "tags": [
     "7_min"
    ]
   },
   "source": [
    "### Exercise 2\n",
    "\n",
    "This is a table with all the possible pairwise combinations of dimensions. For each combination, it is possible to compute one or more metrics.  For instance, with \"Location\" and \"Customer age group\" we can report how many items were sold by location and age group, or how much profit each age bracket produces in each location, or even how many customers from each age group buy in that location.\n",
    "\n",
    "Please fill in this table with suitable visualization options (just filling the upper half is enough, as the bottom half is functionally equivalent).\n",
    "\n",
    "| var/var | Location | State of delivery | Customer age group | Product type | Product description | Product line |\n",
    "|-|-|-|-|-|-|-|\n",
    "| Location | * | <> | <> | <> | <> | <> |\n",
    "| State of delivery | <> | * | <> | <> | <> | <> |\n",
    "| Customer age group | <> | <> | * | <> | <> | <> |\n",
    "| Product type | <> | <> | <> | * | <> | <> |\n",
    "| Product description | <> | <> | <> | <> | * | <> |\n",
    "| Product line | <> | <> | <> | <> | <> | * |"
   ]
  },
  {
   "cell_type": "markdown",
   "metadata": {
    "tags": [
     "ans_st"
    ]
   },
   "source": [
    "**Answer**. One possible solution is shown below:\n",
    "\n",
    "| var/var | Location | State of delivery | Customer age group | Product type | Product description | Product line |\n",
    "|-|-|-|-|-|-|-|\n",
    "| Location | * | Choropleth | Cont. tab. or bar/col/pie | Cont. tab. or bar/col/pie | Cont. tab. or bar/col/pie | Cont. tab. or bar/col/pie |\n",
    "| State of delivery | <> | * | Choropleth | Choropleth | Choropleth | Choropleth |\n",
    "| Customer age group | <> | <> | * | Cont. tab. or bar/col/pie | Cont. tab. or bar/col/pie | Cont. tab. or bar/col/pie |\n",
    "| Product type | <> | <> | <> | * | Cont. tab. or bar/col/pie | Cont. tab. or bar/col/pie |\n",
    "| Product description | <> | <> | <> | <> | * | Cont. tab. or bar/col/pie |\n",
    "| Product line | <> | <> | <> | <> | <> | * |\n",
    "\n",
    "The choice between column, bar, or pie chart depends a lot on aesthetics, ease of interpretation, and purpose. As we mentioned earlier, pie charts are good when you want to represent relative proportions of a few key categories. However, they are not recommended if you have many categories, or if you care about the absolute level of some quantity."
   ]
  },
  {
   "cell_type": "markdown",
   "metadata": {
    "tags": [
     "2_min"
    ]
   },
   "source": [
    "### Exercise 3\n",
    "\n",
    "Let's say we want to plot revenue, profit, and sales over time. What would be an appropriate visualization?"
   ]
  },
  {
   "cell_type": "markdown",
   "metadata": {
    "tags": [
     "ans_st"
    ]
   },
   "source": [
    "**Answer**. Since we're dealing with dates, the best choice would be line plots. You can apply filters to the line plots so that the data only includes what you need. For instance, you could filter by a given age group (e.g. 50 - 60 years) and state of delivery (\"Michigan\"), and the plotted data would be updated accordingly. However, the filters wouldn't change the plot type itself."
   ]
  },
  {
   "cell_type": "markdown",
   "metadata": {
    "tags": [
     "20_min"
    ]
   },
   "source": [
    "## Planning out the layout of our dashboard\n",
    "\n",
    "The table above was just a list of pairwise combinations of variables, but having a bunch of visualizations with no logical order whatsoever won't be pleasing to the eye and, most importantly, won't convey any useful information.\n",
    "\n",
    "When the end user opens the dashboard, they should see a clear, self-descriptive roadmap of what it has to offer. A good dashboard is like a restaurant menu that categorizes the meals, arranges them in hierarchies according to what the customer wants to read first, and provides only the information needed to make a decision. If the customer wants to learn more about a dish (e.g. the specific ingredients used or the name of the chef) they would have to ask the waiter or waitress. So, your dashboard should present the most relevant information first and show more detailed information only if the user asks for it.\n",
    "\n",
    "Keep the following image in mind, it will help us as we move forward:\n",
    "\n",
    "<img src=\"data/img/menu.jpg\" width=\"500\"/>\n",
    "\n",
    "A good way to organise our dashboard is by creating **pages**. These are screens that show different aspects of your data, and the end user can switch between them by using a menu bar. Let's start with a basic set of pages - a \"Bird's-Eye View\" page (with an overview of the metrics) and a \"Detailed View\" page (which has more information and more filters).\n",
    "\n",
    "Our dashboard will have three main layout components - a sidebar, a banner, and a body:\n",
    "\n",
    "<img src=\"data/img/main_layout.jpg\" width=\"500\"/>\n",
    "\n",
    "The sidebar will contain links to the pages. The banner will have the title of the page and optionally notes, date filters and scorecards. The page body will contain the visualizations."
   ]
  },
  {
   "cell_type": "markdown",
   "metadata": {
    "tags": [
     "3_min"
    ]
   },
   "source": [
    "### The \"Bird's-Eye View\" page layout\n",
    "\n",
    "Recall the original business problem. The managers want to know:\n",
    "\n",
    "1. How have our sales, revenue and profits evolved over time?\n",
    "2. What are the locations with the highest numbers of sales and profit?\n",
    "3. What are the items with the highest numbers of sales, profit and revenue across: product description, product type, product line, location, customer age group and state of delivery?\n",
    "\n",
    "The third question has lots of dimensions, so we can put it in the \"Detailed View\" page. Let's put the first two questions in the \"Bird's-Eye View\" page.\n",
    "\n",
    "We know that question 1 can be answered using line plots. Since revenue and profits are both measured in dollars, we will show both of them in a single line plot using colored series, like this:\n",
    "\n",
    "![A line plot](data/img/first_question_line_plot.png \"A line plot\")\n",
    "\n",
    "Sales are measured in number of items, so they should have a line plot of their own. But what about the second question?"
   ]
  },
  {
   "cell_type": "markdown",
   "metadata": {
    "tags": [
     "3_min"
    ]
   },
   "source": [
    "### Exercise 4\n",
    "\n",
    "What visualizations would be appropriate to answer the second question?\n",
    "\n",
    "> 2. What are the locations with the highest numbers of sales and profit?"
   ]
  },
  {
   "cell_type": "markdown",
   "metadata": {
    "tags": [
     "ans_st"
    ]
   },
   "source": [
    "**Answer.**. We can use bar plots. And again, since profit and revenue are measured in a common unit, they can be displayed in the same chart, grouped. Because the number of bars would be small (there are only four locations), this shoudn't be too difficult to interpret."
   ]
  },
  {
   "cell_type": "markdown",
   "metadata": {},
   "source": [
    "It would also be nice to give our users a summary of the whole page in a small set of aggregations. We can use scorecards for that. Let's create a scorecard for \"Total revenue\", one for \"Total profit\" and one for \"Total sales\", since these are the main metrics the managers are interested in.\n",
    "\n",
    "So, the layout of this page could be sketched like this:\n",
    "\n",
    "<img src=\"data/img/birds_eye_layout.jpg\" width=\"500\"/>\n",
    "\n",
    "As we said before, we are trying to make sure that the visualizations that are more important to the users appear first; that is, closer to the left-upper quadrant of the screen."
   ]
  },
  {
   "cell_type": "markdown",
   "metadata": {
    "tags": [
     "5_min"
    ]
   },
   "source": [
    "### The \"Detailed View\" page layout\n",
    "\n",
    "Let's now move onto the third question. Since we want to know sales and total profit for each item, it makes sense to have a chart for sales (measured in number of items) and a chart for profit (measured in dollars). Items and dollars are both numeric (the former is integer, the latter is float). As items are categoical, bar charts would be fine. (Pie charts might not be easy to interpret because there are many products.)\n",
    "\n",
    "If you recall the `products` table, you'll remember that each product has a line (\"Musical instruments\"), a type (\"Guitars\"), and a description (\"Fender American Stratocaster\"). To avoid having to create a page-level filter for each one of these variables, we can add them to a single \"Items\" chart as **drill-down** variables. Drill-down allows you to select one element of a chart and move to a lower level in the hierarchy. This GIF might be helpful to understand this concept than a mere description in words (this is a bar chart of sales by item, with drill-down by line, type and description):\n",
    "\n",
    "![Drill down](data/img/drill_down.gif \"Drill down\")\n",
    "\n",
    "So, we can have a bar chart like this and next to it another bar chart (with no drill-down this time) that shows total profit for each *item*. We want our drill-down in the first chart to filter the second chart, so that when someone drills down by \"Guitars\", the second chart only shows guitars. This can be done easily in Google Data Studio."
   ]
  },
  {
   "cell_type": "markdown",
   "metadata": {
    "tags": [
     "3_min"
    ]
   },
   "source": [
    "### Exercise 5\n",
    "\n",
    "Now we have the two main charts of the \"Detailed View\" page. Let's add some secondary charts (which will be smaller in size to represent their auxiliary status) for the dimensions that our management wants to filter the data across. These include location (items sold in each location), customer age group (number of customers in each age bracket) and state of delivery (items delivered). Which three plots would go well with these dimensions?"
   ]
  },
  {
   "cell_type": "markdown",
   "metadata": {
    "tags": [
     "ans_st"
    ]
   },
   "source": [
    "**Answer.** One possible answer is:\n",
    "\n",
    "* Location - pie chart. It would have only 4 slices (4 locations), so it will be easy to interpret\n",
    "* Customer age group - bar chart\n",
    "* State of delivery - choropleth (or geographic map with bubbles)"
   ]
  },
  {
   "cell_type": "markdown",
   "metadata": {},
   "source": [
    "If we add some scorecards to display summaries and a date picker, our layout could be like this:\n",
    "\n",
    "<img src=\"data/img/detailed_view_layout.jpg\" width=\"500\"/>"
   ]
  },
  {
   "cell_type": "markdown",
   "metadata": {},
   "source": [
    "**Important:** It is key that each visualization is linked to the question it is trying to answer. For each visualization, there will be a little text box stating the question and some other information that the user might find crucial to understand the chart."
   ]
  },
  {
   "cell_type": "markdown",
   "metadata": {},
   "source": [
    "Now we're all set. Let's move on to builiding our dashboard."
   ]
  },
  {
   "cell_type": "markdown",
   "metadata": {
    "tags": [
     "40_min"
    ]
   },
   "source": [
    "## Creating our dashboard in Google Data Studio"
   ]
  },
  {
   "cell_type": "markdown",
   "metadata": {
    "tags": [
     "5_min"
    ]
   },
   "source": [
    "### Loading our data\n",
    "\n",
    "Let's open [Google Data Studio](https://datastudio.google.com). The first thing we have to do is upload our data. Go to \"Create -> Data source\":\n",
    "\n",
    "![Create source](data/img/create_source.png \"Create source\")\n",
    "\n",
    "Click \"File Upload\" and then \"Click to Upload Files\". Upload the `simply_music.csv` table:\n",
    "\n",
    "![CSV upload](data/img/file_upload.png \"CSV upload\")\n",
    "\n",
    "![Drag files](data/img/drag_files.png \"Drag files\")\n",
    "\n",
    "After you have uploaded the table from your computer, edit the name of the connection (I used \"Simply Music\") in the upper right-hand corner of the screen, and then hit \"Connect\". Click on \"Create Report\":\n",
    "\n",
    "![Create report](data/img/create_report.png \"Create report\")\n",
    "\n",
    "A new tab will be created and in it you'll see a pop-up asking if you want to add this data to the report. Hit \"Add to Report\". You can name your report now if you like (I used \"Simply Music 2018-2019 Report\")."
   ]
  },
  {
   "cell_type": "markdown",
   "metadata": {
    "tags": [
     "3_min"
    ]
   },
   "source": [
    "### Creating the pages\n",
    "\n",
    "Before creating our pages, we first need to create the sidebar where they will live. Click on any blank space on the canvas, and then click on \"Layout\" in the \"Theme and Layout\" sidebar. Select \"Left\" under \"Navigation Position\":\n",
    "\n",
    "![Navigation Left](data/img/navigation_left.png \"Navigation Left\")\n",
    "\n",
    "Now go to \"Page -> New Page\". Remember that we have two pages - Bird's-Eye View and Detailed View. Now, if you click on \"View\" (the blue button on the top), you'll see your blank report with a sidebar and the pages there. You can rename your pages (while in Edit mode) by clicking on the page counter and then the three dots beside the page name:\n",
    "\n",
    "![Rename Page](data/img/rename_page.png \"Rename Page\")"
   ]
  },
  {
   "cell_type": "markdown",
   "metadata": {
    "tags": [
     "10_min"
    ]
   },
   "source": [
    "### The Bird's-Eye View page\n",
    "\n",
    "If you check the data carefully, you'll see that there is no `PROFIT` column. Since this will be one of the main metrics of our dashboard, we need to create it. This is our definition of profit:\n",
    "\n",
    "> PROFIT = DOLLARS_SOLD - TOTAL_COST\n",
    "\n",
    "`TOTAL_COST` doesn't exist either, so we'll create it. The formula for this variable is:\n",
    "\n",
    "> TOTAL_COST = UNITS_SOLD * COST\n",
    "\n",
    "To create these variables, we add a new chart first. Click on \"Add a chart\" in the tools bar and select \"Bar chart\". This or something similar will appear on the canvas:\n",
    "\n",
    "<img src=\"data/img/first_chart.png\" width=\"500\"/>\n",
    "\n",
    "Then select the chart and go to \"Data\" in the right sidebar. At the bottom, you'll see the option to add a field - click on that. Name it `TOTAL_COST` and write the following in the formula box:\n",
    "\n",
    "```\n",
    "UNITS_SOLD*COST\n",
    "```\n",
    "\n",
    "Save. Now repeat the process, only this time name the new field `PROFIT` and put this in the formula box:\n",
    "\n",
    "```\n",
    "DOLLARS_SOLD - TOTAL_COST\n",
    "```\n",
    "\n",
    "Now we have our `PROFIT` column and are ready to create the first chart. This will be a line chart, according to the layout we planned.\n",
    "\n",
    "So now let's select our chart, go to the top of the right sidebar and click on \"Chart\" and select a line chart from the palette. If the first chart you created was already a line chart, you can just keep working with it.\n",
    "\n",
    "Charts in Google Data Studio have several important inputs:\n",
    "\n",
    "* **Dimension**: The dimension that will be plotted (the categories)\n",
    "* **Date range dimension**: The dimension that will be used as the time dimension. Google Data Studio will find it automatically for us, so we won't modify it. It is the `TIME_KEY` from our data\n",
    "* **Metric**: The number that will be computed and plotted\n",
    "* **Drill-down**: Whether the plot will have drill-down or not\n",
    "* **Interactions (apply filter)**: This checkbox will be checked only if we want our plot to double both as a plot and as a page-level filter"
   ]
  },
  {
   "cell_type": "markdown",
   "metadata": {
    "tags": [
     "1_min"
    ]
   },
   "source": [
    "### Exercise 6\n",
    "\n",
    "Take a minute to find these options in the DATA panel."
   ]
  },
  {
   "cell_type": "markdown",
   "metadata": {},
   "source": [
    "--------\n",
    "\n",
    "Let's now create our line chart. The dimension will be the date (since it is a time series plot) and the metrics will be revenue and profit. Drag and drop the `TIME_KEY` column into the \"Dimension\" box, and the `DOLLARS_SOLD` and the `PROFIT` columns into the \"Metrics\" box (note that `DOLLARS_SOLD` is the same as revenue).\n",
    "\n",
    "Let's change the date granularity to \"Month\". Click on the small box to the left of `TIME_KEY` in the \"Dimension\" box and pick the granularity. You can change the name of the dimension as well if you like.\n",
    "\n",
    "Make sure that the metrics are all set to \"Sum\" (remember Exercise 1) and change their names if needed.\n",
    "\n",
    "Since we want our users to be able to filter the page by just clicking on the chart, we also check the \"Apply filter\" checkbox. Now add a text box above the chart with the question and some useful information, and your chart should be looking something like this:\n",
    "\n",
    "![Line chart of Bird's-eye View](data/img/line_chart_birdseye.png \"Line chart of Bird's-eye View\")"
   ]
  },
  {
   "cell_type": "markdown",
   "metadata": {
    "tags": [
     "3_min"
    ]
   },
   "source": [
    "### Exercise 7\n",
    "\n",
    "Do the same for your sales line chart."
   ]
  },
  {
   "cell_type": "markdown",
   "metadata": {
    "tags": [
     "ans_st"
    ]
   },
   "source": [
    "**Answer.** Your chart should look like this:\n",
    "\n",
    "![Line chart 2 of Bird's-eye View](data/img/line_chart_sales_birdseye.png \"Line chart 2 of Bird's-eye View\")"
   ]
  },
  {
   "cell_type": "markdown",
   "metadata": {
    "tags": [
     "20_min"
    ]
   },
   "source": [
    "### Adding the rest of the charts to the Bird's-Eye View page\n",
    "\n",
    "Let's do the same for the rest of our charts (including the scorecards) and let's add the company logo as well (it is in the `data/img` folder as `logo.png`). To insert an image, go to \"Insert -> Image\" and then upload it from the button in the right sidebar.\n",
    "\n",
    "The colors that go best with our logo are salmon and grey. Luckily, there's a theme preset in Google Data Studio with exactly those colors. Click anywhere in the canvas (though not on a chart) and select \"Theme\" in the right sidebar. The \"Insight\" theme looks nice, so click on it.\n",
    "\n",
    "Finally, let's add the date picker. For the date picker, you go to \"Add a Control\" (in the toolbar) and then \"Date Range Control\". With it, the user will be able to pick a date range and all the charts in the page will be updated accordingly.\n",
    "\n",
    "We add some more explanatory text, and our first page is done:\n",
    "\n",
    "![First page](data/img/first_page.png \"The first page\")"
   ]
  },
  {
   "cell_type": "markdown",
   "metadata": {
    "tags": [
     "15_min"
    ]
   },
   "source": [
    "### Exercise 8\n",
    "\n",
    "Now do the same with the second page, the \"Detailed View\".\n",
    "\n",
    "**Note 1:** We said we wanted to add drill-down to the first bar chart on this page. To achieve that, simply check the \"Drill-down\" checkbox under the \"DATA\" tab in the right sidebar while having the chart selected (don't forget to check \"Apply filter\" as well, because we want this chart to be a filter). Then add the drill-down dimensions, like this:\n",
    "\n",
    "![How to drill down](data/img/how_to_drill_down.png \"How to drill down\")\n",
    "\n",
    "**Note 2:** If you would also like to be able to filter the whole page by clicking on any of the bars/slices/bubbles on the chart, simply check \"Apply filter\" in each of the charts.\n",
    "\n",
    "**Note 3:** For the geographic map, we recommend you use \"Google Maps\" (bubble map) as the chart type and not a choropleth (\"Geomap\"), since it is easier to set up. The settings for this chart should look like this:\n",
    "\n",
    "![Google maps options](data/img/google_map_options.png \"Google maps options\")"
   ]
  },
  {
   "cell_type": "markdown",
   "metadata": {
    "tags": [
     "ans_st"
    ]
   },
   "source": [
    "**Answer**. Your second page should be similar to the below (we've tweaked the aesthetics just a bit, so don't worry if the look isn't exactly the same):\n",
    "\n",
    "![Second page](data/img/second_page.png \"The second page\")"
   ]
  },
  {
   "cell_type": "markdown",
   "metadata": {
    "tags": [
     "3_min"
    ]
   },
   "source": [
    "## The end result\n",
    "\n",
    "Here's a GIF of what our dashboard looks like:\n",
    "\n",
    "![The end result](data/img/end_result.gif \"The end result\")\n",
    "\n",
    "Don't forget to share your report (the share link can be generated by clicking on the \"Share\" button). You can download your report in PDF format as well (\"File -> Download as\").\n",
    "\n",
    "Your report is now ready to be presented to users. It will hopefully receive approval and be deployed using the live database. We won't cover how to replace the data source, but you can read about that [here](https://support.google.com/datastudio/answer/6350638?hl=en). It is usually a very straighforward process."
   ]
  },
  {
   "cell_type": "markdown",
   "metadata": {
    "tags": [
     "3_min"
    ]
   },
   "source": [
    "## Conclusions\n",
    "\n",
    "In this case, we looked at different types of visualizations and studied what kinds of data they are best suited to. But we also saw that creating an analytical dashboard goes beyond this and involves thinking about the concrete business questions that the end users want to answer with the help of the dashboard. That is why we started by getting a grasp of the business process and the relevant dimensions and metrics, which in turn allowed us to move forward to the design of the layout and the choice of visualizations. Finally, we used Google Data Studio to build and publish the dashboard using advanced options like drill-downs and charts that doubled as page-level filters."
   ]
  },
  {
   "cell_type": "markdown",
   "metadata": {
    "tags": [
     "7_min"
    ]
   },
   "source": [
    "## Takeaways\n",
    "\n",
    "Dashboard creation should always start with a sound understanding of the business process and the business questions. You also need to be familiar with the different types of visualizations and their strengths and weaknesses, and keep some basic design principles in mind as well. This allows you to build a dashboard that is functional but also not cluttered. Some key ideas you might want to keep in mind for the future are:\n",
    "\n",
    "* Dashboards are like restaurant menus. They must be clear, straightforward and avoid overwhelming the user with too much information\n",
    "* Your visualizations must always be organized hierarchically. The most important questions come first. Secondary questions can be placed more to the right or bottom, and be presented in a smaller size\n",
    "* Each visualization must answer a business question, so it is always a good practice to label the chart or table with the question. You should also add explanatory text when you feel your users would appreciate it. However, if you find yourself adding too much text, then perhaps it is because your dashboard is not clear enough by itself and you should re-evaluate your layout or visualizations\n",
    "* Drill-down and charts that double as page-level filters can save you a lot of space because you don't need to add more controls (like drop-down lists) to act as filters in the page. Not everything should be drillable, though, because the dashboard should be kept as simple and intuitive as possible\n",
    "\n",
    "Google Data Studio is an excellent dashboarding tool, and its graphical user interface makes it one of the easiest to use. We encourage you to explore the many possibilities that it offers. This will help you expand your data visualization vocabulary and hone your dashboarding skills at the same time."
   ]
  },
  {
   "cell_type": "markdown",
   "metadata": {},
   "source": [
    "## Attribution\n",
    "\n",
    "\"American restaurant menu\", Eric Fischer, April 14th, 2018, [Creative Commons Attribution 2.0 generic license](https://creativecommons.org/licenses/by/2.0/deed.en), https://commons.wikimedia.org/wiki/File:American_restaurant_menu_(30085586928).jpg#file\n",
    "\n"
   ]
  }
 ],
 "metadata": {
  "c1_recart": "6.10.0-57c20131aabc1dc2a8c675852d80a7da"
 },
 "nbformat": 4,
 "nbformat_minor": 1
}
