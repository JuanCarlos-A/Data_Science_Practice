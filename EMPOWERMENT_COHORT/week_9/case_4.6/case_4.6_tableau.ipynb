{
 "cells": [
  {
   "cell_type": "markdown",
   "metadata": {
    "tags": [
     "126_min",
     "170_min"
    ]
   },
   "source": [
    "# Creating a sales dashboard in Tableau Desktop"
   ]
  },
  {
   "cell_type": "markdown",
   "metadata": {
    "tags": [
     "1_min"
    ]
   },
   "source": [
    "## Goals\n",
    "\n",
    "In this case, you will learn how to plan and build a visual dashboard in Tableau Desktop. You will expand upon the skills you learned about choosing visualizations and presenting them in a clear and compelling way."
   ]
  },
  {
   "cell_type": "markdown",
   "metadata": {
    "tags": [
     "5_min"
    ]
   },
   "source": [
    "## Introduction\n",
    "\n",
    "**Business Context.** You are a member of the business analytics team of *Simply Music*, a Florida-based musical instrument store that has been growing at a fast pace over the last few years. Management is keen to find out what the most popular items are and which locations are the most profitable, in order to adjust their marketing strategies and their stock logistics to increase sales and revenue. They also want to learn about the number of deliveries made outside Florida, since they are contemplating opening a new branch in another state.\n",
    "\n",
    "**Business Problem.** You are tasked with creating a sales dashboard for management to use. This dashboard must display sales, revenue, and profit over time, and allow for queries across product, location, and customer age. From your previous meetings with the management, you know that they are interested in having these three broad questions answered:\n",
    "\n",
    "1. How have our sales, revenue and profits evolved over time?\n",
    "2. What are the locations with the highest numbers of sales and profit?\n",
    "3. What are the items with the highest numbers of sales, profit and revenue across: product description, product type, product line, location, customer age group and state of delivery?\n",
    "\n",
    "**Analytical Context.** We have been given a sample dataset of 5000 sales records from Simply Music, corresponding to the years 2018 and 2019. They ask you to create the dashboard with this sample data, and after this is done and your dashboard receives the management's approval, your team will have to connect it to an online database to feed it the real time data that comes from the company's sales tracking software. The sample table and the database share the same structure, so you don't have to worry about database management or creation. You will plan your dashboard and deploy it using [Tableau Desktop](https://www.tableau.com/products/desktop).\n",
    "\n",
    "The case is structured as follows: you will 1) understand the business process that the dashboard has to represent; 2) plan the dashboard layout and visualizations; and 3) create your dashboard using Tableau."
   ]
  },
  {
   "cell_type": "code",
   "execution_count": null,
   "metadata": {},
   "outputs": [],
   "source": [
    "# We will use pandas to explore our data before uploading it to Tableau (we won't modify the data)\n",
    "import pandas as pd"
   ]
  },
  {
   "cell_type": "markdown",
   "metadata": {
    "tags": [
     "4_min"
    ]
   },
   "source": [
    "## Understanding the business process\n",
    "\n",
    "Data professionals are often required to extract valuable information from datasets without being given specific questions to answer. We usually address these cases with exploratory data analysis combined with domain knowledge. Other times, we can get the clients to articulate a limited set of questions. There is a third scenario, where the clients want to explore the data themselves in such a way that they can easily answer *ad-hoc* queries that can't possibly be known in advance. This is much more open-ended and requires us to intimately understand the natural structure of the data and likely queries.\n",
    "\n",
    "One way to address this need is to create dashboards that organize and display all relevant business information, as well as various filters that users might want to have, while being fully extensible if required in the future. When you create dashboards, you define a set of relevant variables and feed them into interactive visualizations that the users can then filter at will to explore relationships between the variables.\n",
    "\n",
    "Dashboards work best when they mirror the business processes that underlie the data. It is always advised that you study the greater business context so that you can put yourself into the shoes of your end users (in this case, management) and deliver a product that is user-friendly and pertinent."
   ]
  },
  {
   "cell_type": "markdown",
   "metadata": {
    "tags": [
     "5_min"
    ]
   },
   "source": [
    "### Specifics of <i>Simply Music</i>\n",
    "\n",
    "Simply Music is a retailer that sells mostly to individual buyers who buy in small quantities. The customers are not restricted to a single state, and in fact many of them buy online from all over the country. But they also have three physical shops located in the state of Florida. These are the product lines that the store serves:\n",
    "\n",
    "1. Musical instruments\n",
    "    1. Acoustic pianos\n",
    "    2. Digital pianos and keyboards\n",
    "    3. Guitars (electric and acoustic)\n",
    "    4. Woodwinds (flutes, oboes, bassoons, saxophones, etc.)\n",
    "    5. Brass (trumpets, horns)\n",
    "    6. Synthetics\n",
    "    7. Strings (everything bowed: violins, cellos, etc.)\n",
    "    8. Percussion (mostly drum kits)\n",
    "2. Accessories\n",
    "    1. Strings (for guitars, violins, etc.)\n",
    "    2. Pedals and amps (for electric guitars)\n",
    "    3. Sheet music\n",
    "\n",
    "Furthermore, these are the four selling channels that the company uses:\n",
    "\n",
    "1. Physical store in Fort Lauderdale\n",
    "2. Physical store in Tampa\n",
    "3. Physical store in West Palm Beach\n",
    "4. Online store\n",
    "\n",
    "Each transaction is recorded at the time of purchasing, whether the purchase happens online or at a physical location. Accepted means of payment include cash and credit card. If the customer is not happy with their product, they can file a complaint within 10 days of the purchase."
   ]
  },
  {
   "cell_type": "markdown",
   "metadata": {
    "tags": [
     "8_min"
    ]
   },
   "source": [
    "## Looking at the data\n",
    "\n",
    "The database team has given us access to a sample of 5,000 transactions and some other relevant data.\n",
    "\n",
    "The first table is called `transactions`. Let's look at it using `pandas` and the `.head()` method:"
   ]
  },
  {
   "cell_type": "code",
   "execution_count": null,
   "metadata": {},
   "outputs": [],
   "source": [
    "transactions = pd.read_csv('data/transactions.csv')\n",
    "transactions.head()"
   ]
  },
  {
   "cell_type": "markdown",
   "metadata": {},
   "source": [
    "There are several attributes in this table, namely:\n",
    "\n",
    "1. **TIME_KEY**: A key that refers to the year, month and day of the purchase, in YYMMDD format (e.g. `180122` means January 22, 2018)\n",
    "2. **PRODUCT_KEY**: A number that uniquely identifies the product\n",
    "3. **UNITS_SOLD**: The number of units sold\n",
    "4. **DOLLARS_SOLD**: The total amount of dollars sold of this product. This variable is equal to the units sold times the unit price\n",
    "5. **CHANNEL**: Either `Fort Lauderdale`, `Tampa`, `West Palm Beach` or `Website`\n",
    "6. **CUSTOMER_KEY**: A number that uniquely identifies the customer\n",
    "7. **DESTINATION_STATE**: The state to which the customer wants their products delivered. Available only for online transactions\n",
    "\n",
    "Additionally, we also have the `products` table:"
   ]
  },
  {
   "cell_type": "code",
   "execution_count": null,
   "metadata": {},
   "outputs": [],
   "source": [
    "products = pd.read_csv('data/products.csv')\n",
    "products.head()"
   ]
  },
  {
   "cell_type": "markdown",
   "metadata": {},
   "source": [
    "The attributes are:\n",
    "\n",
    "1. **PRODUCT_KEY**: The unique identifier of the product\n",
    "2. **PRODUCT_LINE**: The product line (either \"Musical instruments\" or \"Accessories\")\n",
    "3. **PRODUCT_TYPE**: The type of the product (e.g. \"Acoustic pianos\", \"Brass\")\n",
    "4. **DESCRIPTION**: The name of the product (e.g. \"Casio Digital Piano AP650\")\n",
    "5. **COST**: How much the company estimates the item cost them (includes fixed and variable costs) - this is also known as the unit cost\n",
    "6. **UNIT_PRICE**: The unit price"
   ]
  },
  {
   "cell_type": "markdown",
   "metadata": {},
   "source": [
    "Let's also load in the `time` and `customers` tables:"
   ]
  },
  {
   "cell_type": "code",
   "execution_count": null,
   "metadata": {},
   "outputs": [],
   "source": [
    "time = pd.read_csv('data/time.csv')\n",
    "time.head()"
   ]
  },
  {
   "cell_type": "markdown",
   "metadata": {},
   "source": [
    "The attributes of the `time` table are:\n",
    "\n",
    "1. **TIME_KEY**: The time key in YYYYMMDD format (e.g. `20180122` means January 22, 2018)\n",
    "2. **YEAR**: The year\n",
    "3. **MONTH**: The month in MM format (e.g. February means `02`)\n",
    "4. **DAY**: The day in DD format\n",
    "5. **WEEK_OF_YEAR**: The week of the year (the week of January 1st counts as week 1)\n",
    "6. **QUARTER**: The quarter to which the month belongs\n",
    "\n",
    "Notice that we don't have data for hours or minutes."
   ]
  },
  {
   "cell_type": "code",
   "execution_count": null,
   "metadata": {},
   "outputs": [],
   "source": [
    "customers = pd.read_csv('data/customers.csv')\n",
    "customers.head()"
   ]
  },
  {
   "cell_type": "markdown",
   "metadata": {},
   "source": [
    "The fields of the `customers` table are:\n",
    "\n",
    "1. **CUSTOMER_KEY**: The unique identifier of the customer (can be a social security number or any other number)\n",
    "2. **CUSTOMER_NAME**: The customer's full name\n",
    "3. **CUSTOMER_AGE**: The age of your customer\n",
    "4. **CUSTOMER_AGE_GROUP**: The customer's age group\n",
    "\n",
    "You might be wondering how we're going to pool all this data in order to create our dashboard. The good news is that Tableau offers a really easy way to merge tables, so in many scenarios you don't have to worry too much about that. The other good news is that in this particular case, we've already pre-merged the data for you in the `simply_music.csv` dataset (which you can explore using `pd.read_csv('data/simply_music.csv)` if you like)."
   ]
  },
  {
   "cell_type": "markdown",
   "metadata": {
    "tags": [
     "3_min"
    ]
   },
   "source": [
    "## Choosing the right visualizations\n",
    "\n",
    "Let's keep in mind our problem statement: \"The dashboard must display sales, revenue and profit across product type, location and customer age.\" What visualizations are most appropriate given this?\n",
    "\n",
    "Tableau offers a variety of visualizations, ranging from tables and plots to simple geographical maps. We'll review several options to help us decide which ones suit our needs best.\n",
    "\n",
    "You might recall that data can be *categorical* or *numerical*. In turn, numerical data can be of type *integer* or *float*. Data types are probably the key criterion to consider when it comes to choosing a visualization. Secondary criteria include ease of interpretation and the familiarity of your end user with a specific kind of plot."
   ]
  },
  {
   "cell_type": "markdown",
   "metadata": {
    "tags": [
     "4_min"
    ]
   },
   "source": [
    "### Categorical vs. numerical\n",
    "\n",
    "When you need to plot a categorical variable against a numerical variable, your most likely choices are bar charts and pie charts, which we have already discussed in previous cases. A third option is using **gauges**. If you have variables whose values happen to lie inside the same given range, then you can plot them as gauge meters:\n",
    "\n",
    "<img src=\"data/img/gauge.jpg\" width=\"500\"/>\n",
    "\n",
    "Finally, if your categorical variable is geographical (states, countries), you can create **choropleth maps** (the numerical variable is represented as a hue):\n",
    "\n",
    "<img src=\"data/img/choropleth.jpg\" width=\"500\"/>\n",
    "\n",
    "A useful variant is using bubbles instead of colors, where the size of the bubble (not the color) represents the magnitude of the value."
   ]
  },
  {
   "cell_type": "markdown",
   "metadata": {
    "tags": [
     "3_min"
    ]
   },
   "source": [
    "### Numerical vs. numerical\n",
    "\n",
    "Here, you can't go wrong with scatterplots. You can even add a third numerical variable and a categorical variable into the mix, and create a **bubble chart**, in which the third numerical variable is represented as the size of the bubble and the categorical variable maps to a color code."
   ]
  },
  {
   "cell_type": "markdown",
   "metadata": {
    "tags": [
     "2_min"
    ]
   },
   "source": [
    "### Numerical over time\n",
    "\n",
    "Here you might find line plots to be handy. You can add more series to the plot (i.e. more lines) to compare across different numerical variables over time. When we add more series, we usually differentiate them using a different color for each one. Here's an example:\n",
    "\n",
    "<img src=\"data/img/line_chart.jpg\" width=\"500\"/>"
   ]
  },
  {
   "cell_type": "markdown",
   "metadata": {
    "tags": [
     "5_min"
    ]
   },
   "source": [
    "### Tables and scorecards\n",
    "\n",
    "The last visualizations we'll cover aren't actually plots. You can always represent your data in tabular form, and that's sometimes more appropriate than a visual chart. The general principle is that you should keep tables simple and uncluttered. If that's not possible, then try some of the other visualizations explained above.\n",
    "\n",
    "A common use case of tables is when you need to do a **cross-tabulation (crosstab)** of two categorical variables. Crosstabs, or *contingency tables*, count the number of elements of category A that also belong to category B, and present the results in a table:\n",
    "\n",
    "| Type | Physical | Online |\n",
    "| --- | --- | --- |\n",
    "| Guitars | 40 | 60 |\n",
    "| Acc. Pianos | 30 | 50 |\n",
    "\n",
    "This table shows that there were 40 guitars sold in a physical location. To learn more about contingency tables, check [this](https://en.wikipedia.org/wiki/Contingency_table) out.\n",
    "\n",
    "You can display a crosstab as-is in your dashboard if you like, but you can also slice it with a filter and then plot the relevant slice as a bar chart or a pie chart. Let's say you use a filter to slice out \"online\" (i.e. you only want to see sales from physical locations), which means the resulting plot can be:\n",
    "\n",
    "<img src=\"data/img/physical_crosstab_plot.jpg\" width=\"500\"/>\n",
    "\n",
    "In addition to these alternatives, you can also display single values using **scorecards**, like this:\n",
    "\n",
    "<img src=\"data/img/scorecard.jpg\" width=\"100\"/>"
   ]
  },
  {
   "cell_type": "markdown",
   "metadata": {
    "tags": [
     "6_min"
    ]
   },
   "source": [
    "## Applying our knowledge\n",
    "\n",
    "Now that you know what kinds of visualizations go well with what kinds of data, it's time to choose which ones we'll use. Here's a table showing the variables that management requested to have in the dashboard, along with their data types:\n",
    "\n",
    "| Variable | Type |\n",
    "|-|-|\n",
    "| Location | Categorical |\n",
    "| State of delivery | Categorical |\n",
    "| Time | Date |\n",
    "| Customer age | Categorical (we'll use age group instead of simple ages) |\n",
    "| Product type | Categorical |\n",
    "| Product description | Categorical |\n",
    "| Product line | Categorical |\n",
    "\n",
    "These are the **dimensions** of our dashboards; i.e. the variables that we'll use to filter the data.\n",
    "\n",
    "The numerical variables that our report will calculate and display are:\n",
    "\n",
    "| Variable | Type |\n",
    "|-|-|\n",
    "| Revenue | Numeric (float) |\n",
    "| Profit | Numeric (float) |\n",
    "| Items sold | Numeric (integer) |\n",
    "| Number of customers | Numeric (integer) |\n",
    "\n",
    "These are called the **metrics** of our dashboard. You can say that metrics are numbers that are calculated and dimensions are filters that we use to determine which subsets of the data are used to compute those metrics.\n",
    "\n",
    "<img src=\"data/img/metrics_and_dimensions.jpg\" width=\"500\"/>\n",
    "\n",
    "The mathematical operations dashboards typically (but not exclusively) perform to create the metrics are:\n",
    "\n",
    "1. **Sum**: sums all the values of the rows of that column\n",
    "2. **Count**: counts how many rows there are in the selected column\n",
    "3. **Count Distinct**: counts how many non-duplicate rows there are in the selected column\n",
    "4. **Average**: finds the arithmetic mean of all the values of the rows of that column\n",
    "5. **Minimum**: finds the minimum of all the values of the rows of that column\n",
    "6. **Maximum**: finds the maximum of all the values of the rows of that column"
   ]
  },
  {
   "cell_type": "markdown",
   "metadata": {
    "tags": [
     "4_min"
    ]
   },
   "source": [
    "### Exercise 1\n",
    "\n",
    "What mathematical operations are most appropriate to:\n",
    "\n",
    "1. Calculate the total number of items sold\n",
    "2. Calculate the total number of customers\n",
    "3. Calculate total profit\n",
    "4. Calculate total revenue"
   ]
  },
  {
   "cell_type": "markdown",
   "metadata": {
    "tags": [
     "ans_st"
    ]
   },
   "source": [
    "**Answer**. Shown below:\n",
    "\n",
    "1. **Count**. You would count the number of rows in the `transactions` table.\n",
    "2. **Count Distinct**. You would count the number of unique customer identifiers in the `transactions` table. Since one single customer can make more than one purchase, you have to count distinct identifiers to avoid double-counting.\n",
    "3. **Sum**. You would sum the profit earned from each transaction.\n",
    "4. **Sum**. You would sum the revenue earned from each transaction in the `transactions` table."
   ]
  },
  {
   "cell_type": "markdown",
   "metadata": {
    "tags": [
     "7_min"
    ]
   },
   "source": [
    "### Exercise 2\n",
    "\n",
    "This is a table with all the possible pairwise combinations of dimensions. For each combination, it is possible to compute one or more metrics.  For instance, with \"Location\" and \"Customer age group\" we can report how many items were sold by location and age group, or how much profit each age bracket produces in each location, or even how many customers from each age group buy in that location.\n",
    "\n",
    "Please fill in this table with suitable visualization options (just filling the upper half is enough, as the bottom half is functionally equivalent).\n",
    "\n",
    "| var/var | Location | State of delivery | Customer age group | Product type | Product description | Product line |\n",
    "|-|-|-|-|-|-|-|\n",
    "| Location | * | <> | <> | <> | <> | <> |\n",
    "| State of delivery | <> | * | <> | <> | <> | <> |\n",
    "| Customer age group | <> | <> | * | <> | <> | <> |\n",
    "| Product type | <> | <> | <> | * | <> | <> |\n",
    "| Product description | <> | <> | <> | <> | * | <> |\n",
    "| Product line | <> | <> | <> | <> | <> | * |"
   ]
  },
  {
   "cell_type": "markdown",
   "metadata": {
    "tags": [
     "ans_st"
    ]
   },
   "source": [
    "**Answer**. One possible solution is shown below:\n",
    "\n",
    "| var/var | Location | State of delivery | Customer age group | Product type | Product description | Product line |\n",
    "|-|-|-|-|-|-|-|\n",
    "| Location | * | Choropleth | Crosstab or bar/col/pie | Crosstab or bar/col/pie | Crosstab or bar/col/pie | Crosstab or bar/col/pie |\n",
    "| State of delivery | <> | * | Choropleth | Choropleth | Choropleth | Choropleth |\n",
    "| Customer age group | <> | <> | * | Crosstab or bar/col/pie | Crosstab or bar/col/pie | Crosstab or bar/col/pie |\n",
    "| Product type | <> | <> | <> | * | Crosstab or bar/col/pie | Crosstab or bar/col/pie |\n",
    "| Product description | <> | <> | <> | <> | * | Crosstab or bar/col/pie |\n",
    "| Product line | <> | <> | <> | <> | <> | * |\n",
    "\n",
    "The choice between column, bar, or pie chart depends a lot on aesthetics, ease of interpretation, and purpose. As we mentioned earlier, pie charts are good when you want to represent relative proportions of a few key categories. However, they are not recommended if you have many categories, or if you care about the absolute level of some quantity."
   ]
  },
  {
   "cell_type": "markdown",
   "metadata": {
    "tags": [
     "3_min"
    ]
   },
   "source": [
    "### Exercise 3\n",
    "\n",
    "Let's say we want to plot revenue, profit, and sales over time. What would be an appropriate visualization?"
   ]
  },
  {
   "cell_type": "markdown",
   "metadata": {
    "tags": [
     "ans_st"
    ]
   },
   "source": [
    "**Answer.** Since we're dealing with dates, the best choice would be line plots. You can apply filters to the line plots so that the data only includes what you need. For instance, you could filter by a given age group (e.g. 50 - 60 years) and state of delivery (e.g. Michigan), and the plotted data would be updated accordingly. However, the filters wouldn't change the plot type itself."
   ]
  },
  {
   "cell_type": "markdown",
   "metadata": {
    "tags": [
     "8_min"
    ]
   },
   "source": [
    "## Planning out the layout of our dashboard\n",
    "\n",
    "The table above was just a list of pairwise combinations of variables, but having a bunch of visualizations with no logical order whatsoever won't be pleasing to the eye, and most importantly won't convey any useful information.\n",
    "\n",
    "When the end user opens the dashboard, they should see a clear, self-descriptive roadmap of what it has to offer. A good dashboard is like a restaurant menu that categorizes the meals, arranges them in hierarchies according to what the customer wants to read first, and provides only the information needed to make a decision. If the customer wants to learn more about a dish (e.g. the specific ingredients used or the name of the chef) they would have to ask the waiter or waitress. So, your dashboard should present the most relevant information first and show more detailed information only if the user asks for it.\n",
    "\n",
    "Keep the following image in mind, it will help us as we move forward:\n",
    "\n",
    "<img src=\"data/img/menu.jpg\" width=\"500\"/>\n",
    "\n",
    "A good way to organize our dashboard is by creating **pages**. These are screens that show different aspects of your data, and the end user can switch between them by using a menu bar. Let's start with a basic set of pages - a \"Bird's-Eye View\" page (with an overview of the metrics) and a \"Detailed View\" page (which has more information and more filters).\n",
    "\n",
    "Our dashboard will have three main layout components - a sidebar, a banner, and a body:\n",
    "\n",
    "<img src=\"data/img/main_layout.jpg\" width=\"500\"/>\n",
    "\n",
    "The sidebar will contain links to the pages. The banner will have the title of the page and optionally notes, date filters and scorecards. The page body will contain the visualizations."
   ]
  },
  {
   "cell_type": "markdown",
   "metadata": {
    "tags": [
     "5_min"
    ]
   },
   "source": [
    "### The \"Bird's-Eye View\" page layout\n",
    "\n",
    "Recall the original business problem. The managers want to know:\n",
    "\n",
    "1. How have our sales, revenue and profits evolved over time?\n",
    "2. What are the locations with the highest numbers of sales and profit?\n",
    "3. What are the items with the highest numbers of sales, profit and revenue across: product description, product type, product line, location, customer age group and state of delivery?\n",
    "\n",
    "The third question has lots of dimensions, so we can put it in the \"Detailed View\" page. Let's put the first two questions in the \"Bird's-Eye View\" page.\n",
    "\n",
    "We know that the first question can be answered using line plots. Since revenue and profits are both measured in dollars, we will show both of them in a single line plot using colored series, like this:\n",
    "\n",
    "![A line plot](data/img/first_question_line_plot.png \"A line plot\")\n",
    "\n",
    "Sales are measured in number of items, so they should have a line plot of their own. But what about the second question?"
   ]
  },
  {
   "cell_type": "markdown",
   "metadata": {
    "tags": [
     "4_min"
    ]
   },
   "source": [
    "### Exercise 4\n",
    "\n",
    "What visualization would be appropriate to answer the second question?\n",
    "\n",
    "> 2. What are the locations with the highest numbers of sales and profit?"
   ]
  },
  {
   "cell_type": "markdown",
   "metadata": {
    "tags": [
     "ans_st"
    ]
   },
   "source": [
    "**Answer.** We can use bar plots. And again, since profit and revenue are measured in a common unit, they can be displayed in the same chart, grouped. Because the number of bars would be small (there are only four locations), this shoudn't be too difficult to interpret."
   ]
  },
  {
   "cell_type": "markdown",
   "metadata": {
    "tags": [
     "3_min"
    ]
   },
   "source": [
    "It would also be nice to give our users a summary of the whole page in a small set of aggregations. We can use scorecards for that. Let's create a scorecard for \"Total revenue\", one for \"Total profit\" and one for \"Total sales\", since these are the main metrics the managers are interested in. The layout of this page could be sketched like this:\n",
    "\n",
    "<img src=\"data/img/birds_eye_layout.jpg\" width=\"500\"/>\n",
    "\n",
    "As we said before, we are trying to make sure that the visualizations that are more important to the users appear first; that is, closer to the left-upper quadrant of the screen."
   ]
  },
  {
   "cell_type": "markdown",
   "metadata": {
    "tags": [
     "4_min"
    ]
   },
   "source": [
    "### The \"Detailed View\" page layout\n",
    "\n",
    "Let's now move onto the third question. Since we want to know sales and total profit for each item, it makes sense to have a chart for sales (measured in number of items) and a chart for profit (measured in dollars). Items and dollars are both numeric (the former is an integer, the latter is a float). As items are categorical, bar charts would be fine. (Pie charts might not be easy to interpret because there are so many products and thus would get crowded.)\n",
    "\n",
    "If you recall the `products` table, you'll remember that each product has a line (\"Musical instruments\"), a type (\"Guitars\"), and a description (\"Fender American Stratocaster\"). To avoid having to create a page-level filter for each one of these variables, we can add them to a single \"Items\" chart as **drill-down** variables. Drill-down allows you to select one element of a chart and move to a lower level in the hierarchy. The following GIF may be helpful to understand this concept than a mere description in words (this is a bar chart of sales by item, with drill-down by line, type, and description):\n",
    "\n",
    "![Drill down](data/img/drill_down.gif \"Drill down\")\n",
    "\n",
    "We can have a bar chart like this and next to it another bar chart (with no drill-down this time) that shows total profit for each *item*. We want our drill-down in the first chart to filter the second chart, so that when someone drills down by \"Guitars\", the second chart only shows guitars. This can be done easily in Tableau."
   ]
  },
  {
   "cell_type": "markdown",
   "metadata": {
    "tags": [
     "4_min"
    ]
   },
   "source": [
    "### Exercise 5\n",
    "\n",
    "Now we have the two main charts of the \"Detailed View\" page, let's add some secondary charts (which will be smaller in size to represent their auxiliary status) for the dimensions that our management wants to filter the data by. These include location (number of items sold in each location), customer age group (number of customers in each age bracket) and state of delivery (number of items delivered). Which three plots would go well with these dimensions?"
   ]
  },
  {
   "cell_type": "markdown",
   "metadata": {
    "tags": [
     "ans_st"
    ]
   },
   "source": [
    "**Answer.** One possible answer is:\n",
    "\n",
    "* Location - pie chart, since it would have only 4 slices (4 locations) and therefore be easy to interpret\n",
    "* Customer age group - bar chart\n",
    "* State of delivery - choropleth map (or geographic map with bubbles)"
   ]
  },
  {
   "cell_type": "markdown",
   "metadata": {
    "tags": [
     "1_min"
    ]
   },
   "source": [
    "If we add some scorecards to display summaries, as well as a date picker, our layout could be like this:\n",
    "\n",
    "<img src=\"data/img/detailed_view_layout.jpg\" width=\"500\"/>\n",
    "\n",
    "**Note:** It is key that each visualization is linked to the question it is trying to answer. For each visualization, there should be a small text box stating the question and some other information that the user might find crucial to understand the chart.\n",
    "\n",
    "Now we're all set. Let's move on to building our dashboard."
   ]
  },
  {
   "cell_type": "markdown",
   "metadata": {
    "tags": [
     "5_min"
    ]
   },
   "source": [
    "## Creating our dashboard in Tableau Desktop\n",
    "\n",
    "### Loading our data\n",
    "\n",
    "Let's open Tableau Desktop. The first thing we have to do is upload our data. Go to \"Connect -> To a File -> Text File\":\n",
    "\n",
    "![Connect to CSV](data/img/t_connect_text_file.png \"Connect to CSV File\")\n",
    "\n",
    "Select the `simply_music.csv` file and click \"Upload\":\n",
    "\n",
    "![CSV upload](data/img/t_select_simplymusic.png \"CSV upload\")\n",
    "\n",
    "After you have uploaded the table from your computer, you will see the \"Data Source\" page, which has two panels. The left one displays information about the data you just imported and the right one is the canvas, which allows you to create relationships between tables."
   ]
  },
  {
   "cell_type": "markdown",
   "metadata": {
    "tags": [
     "3_min"
    ]
   },
   "source": [
    "### Modeling our data\n",
    "\n",
    "In our dataset, you will see the `simply_music.csv` file, including a preview of the columns and a few rows of data. A new tab will be created once the data is loaded. To start visualizing the data, click on \"Go to Worksheet\":\n",
    "\n",
    "![Click on Worksheet](data/img/t_simplymusic_model.png \"Click on Worksheet\")\n",
    "\n",
    "**Note:** This is where you would normally model your data - however, in our case we don't have any data that needs modeling because we are working with a single file that has been cleaned already, rather than multiple files from multiple sources.\n",
    "\n",
    "At this point, save your report and name it \"Simply Music 2018-2019 Report\"."
   ]
  },
  {
   "cell_type": "markdown",
   "metadata": {
    "tags": [
     "7_min"
    ]
   },
   "source": [
    "### Creating the visualizations\n",
    "\n",
    "Tableau uses a workbook and sheet file structure, similar to Microsoft Excel (a single workbook contains one or more sheets). A sheet can be a worksheet, a dashboard, or a story. A **worksheet** shows the dataset and its metadata, a **dashboard** shows different views from multiple worksheets, and a **story** is a collection of worksheets or dashboards that together form a narrative from the data.\n",
    "\n",
    "Before creating multiple worksheets, let's rename the worksheet from `Sheet 1` to `Location of Sales`, then add two dashboards and rename them from `Dashboard 1` to `Birds-Eye View`, and from `Dashboard 2` to `Detailed`:\n",
    "\n",
    "![Rename Sheets and Add Dashboards](data/img/t_rename_worksheet_add_dashboard.png \"Rename Sheets and Add Dashboards\")"
   ]
  },
  {
   "cell_type": "markdown",
   "metadata": {},
   "source": [
    "Remember that we have two pages - Bird's-Eye View and Detailed View. If you click on any of the worksheets or dashboards, they will be blank because we have not created any visualizations yet. Let's start populating the first dashboard \"Birds-Eye View\":\n",
    "\n",
    "![Rename Page](data/img/t_dashboard_blank.png \"Blank Dashboard\")"
   ]
  },
  {
   "cell_type": "markdown",
   "metadata": {
    "tags": [
     "7_min"
    ]
   },
   "source": [
    "## The Bird's-Eye View page\n",
    "\n",
    "### Creating calculated fields\n",
    "\n",
    "While on the \"Location of Sales\" worksheet, you'll see that there is no `PROFIT` column. Since this will be one of the main metrics of our dashboard, we need to create it. This is our definition of profit:\n",
    "\n",
    "> PROFIT = DOLLARS_SOLD - TOTAL_COST\n",
    "\n",
    "`TOTAL_COST` doesn't exist either, so we'll create it. The formula for this variable is:\n",
    "\n",
    "> TOTAL_COST = UNITS_SOLD * COST\n",
    "\n",
    "To create a calculated field, right-click in the whitespace of the data pane and click on \"Create Calculated Field...\". A box will appear with the name \"Calculation1\". Rename \"Calculation1\" to `TOTAL_COST` and write the following in the formula box:\n",
    "\n",
    "```\n",
    "[Units Sold] * [Cost]\n",
    "```\n",
    "![Total Cost](data/img/t_cost_calc.png \"Total Cost\")\n",
    "\n",
    "Click \"OK\". We did the `TOTAL COST` calculation first because we need to reference the measure in the profit calculation. Now repeat the process, only this time name the new field `PROFIT` and put this in the formula box:\n",
    "\n",
    "```\n",
    "[Dollars Sold] - [Total Cost]\n",
    "```\n",
    "![Profit](data/img/t_profit_calc.png \"Profit\")"
   ]
  },
  {
   "cell_type": "markdown",
   "metadata": {
    "tags": [
     "4_min"
    ]
   },
   "source": [
    "### Creating visualizations\n",
    "\n",
    "When you build a view, you add fields from the Data pane. You can do this in [different ways](https://help.tableau.com/current/pro/desktop/en-us/buildmanual_dragging.htm) - for example by dragging data fields from the Data pane to the worksheet, double clicking them, selecting them and then clicking on \"Show Me\" to choose a chart type, or dropping them on the \"Drop field here\" grid, where you can then create the view."
   ]
  },
  {
   "cell_type": "markdown",
   "metadata": {
    "tags": [
     "2_min"
    ]
   },
   "source": [
    "### Exercise 6\n",
    "\n",
    "Take a minute to find these options in the \"Data\" panel."
   ]
  },
  {
   "cell_type": "markdown",
   "metadata": {
    "tags": [
     "5_min"
    ]
   },
   "source": [
    "### Creating line charts\n",
    "\n",
    "Now we have our `PROFIT` column and are ready to create the first chart. This will be a line chart according to the layout we planned. The dimension will be the date (since it is a time series plot) and the measures will be revenue and profit. Follow the steps below to build it:\n",
    "\n",
    "1. Select both `PROFIT` and `Dollars Sold` by holding down \"CTRL\" on your keyboard, selecting both measures, and dragging them to the \"Rows\" shelf. Make sure that the measures are all set to \"Sum\" (remember Exercise 1) and change their names if needed (`Dollars Sold` -> `Revenue`).\n",
    "2. Select the `Time Key` dimension and drag it to the \"Columns\" shelf.\n",
    "3. Click the \"Show Me\" button and select \"Lines (Dual)\". If you select Lines (Continuous) you will need to create the Dual Axis by right-clicking on either `PROFIT` or `Dollars Sold` and selecting \"Dual Axis\".\n",
    "4. Let's change the date granularity to monthly. Click the plus (+) symbol on the `Time Key` dimension twice until you see `MONTH`.\n",
    "\n",
    "![Line Chart](data/img/t_line_chart.gif \"Line Chart\")\n",
    "\n",
    "Once you finish creating your line chart, you can right click your Axis and click \"Edit Axis\" then update \"Axis Titles\" to \"Month\". Your chart should look something like this:\n",
    "\n",
    "![Line Chart Final](data/img/t_line_chart_profit.png \"Line Chart Final\")"
   ]
  },
  {
   "cell_type": "markdown",
   "metadata": {
    "tags": [
     "5_min"
    ]
   },
   "source": [
    "### Exercise 7\n",
    "\n",
    "Carry out the above process for your `Sales` line chart."
   ]
  },
  {
   "cell_type": "markdown",
   "metadata": {
    "tags": [
     "ans_st"
    ]
   },
   "source": [
    "**Answer.** Your chart should look like this:\n",
    "\n",
    "![Line Chart Final](data/img/t_line_chart_sales.png \"Line Chart Final\")"
   ]
  },
  {
   "cell_type": "markdown",
   "metadata": {
    "tags": [
     "3_min"
    ]
   },
   "source": [
    "### Creating bar charts\n",
    "\n",
    "Now we have our `PROFIT` column and are ready to create the first chart. This will be a line chart, according to the layout we planned.\n",
    "\n",
    "Now let's create the bar chart, according to the layout we planned. The dimensions will be Channel and the measures will be revenue and dollars sold. To build the bar chart follow the steps below:\n",
    "\n",
    "* Select both `PROFIT` and `Dollars Sold` by holding down CTRL on your keyboard and selecting both measures and drag them to the \"Rows\" shelf. Make sure that the measures are all set to \"Sum\" (remember Exercise 1) and change their names if needed (`Dollars Sold` > `Revenue`)\n",
    "* Select `Channel` dimension and drag them to the \"Columns\" shelf\n",
    "* Click the \"Show Me\" button and select \"Side by Side Bars\". Next select \"Swap Rows and Columns\"\n",
    "\n",
    "![Bar Chart](data/img/t_bar_chart.gif \"Bar Chart\")"
   ]
  },
  {
   "cell_type": "markdown",
   "metadata": {
    "tags": [
     "5_min"
    ]
   },
   "source": [
    "### Exercise 8\n",
    "\n",
    "Carry out the above process for your `Sales` bar chart."
   ]
  },
  {
   "cell_type": "markdown",
   "metadata": {
    "tags": [
     "ans_st"
    ]
   },
   "source": [
    "**Answer.** Your chart should look like this:\n",
    "![Bar Chart Final](data/img/t_bar_chart.png \"Bar Chart Final\")"
   ]
  },
  {
   "cell_type": "markdown",
   "metadata": {
    "tags": [
     "10_min"
    ]
   },
   "source": [
    "### Creating the rest of the charts on the Bird's-Eye View page\n",
    "\n",
    "Let's create the rest of our charts (including the scorecards) and add a new dashboard page. First we will add a visualization to the dashboard - in the \"Sheets\" pane, click on the sheet you would like to add and drag it onto the canvas. If you have setup containers, drag the visual within the container:\n",
    "\n",
    "![Add Sheet](data/img/t_birdseye_linechart.gif \"Add Sheet\")"
   ]
  },
  {
   "cell_type": "markdown",
   "metadata": {},
   "source": [
    "Second, we'll add the company logo (it is in the `data/img` folder as `logo.png`). To insert an image, go to the \"Object\" pane, then click on \"Image\" and drag it onto the dashboard canvas. Select the image by clicking \"Choose\", then find it and click \"Fit Image -> OK\":\n",
    "\n",
    "![Add Logo](data/img/t_birdseye_logo.gif \"Add Logo\")"
   ]
  },
  {
   "cell_type": "markdown",
   "metadata": {},
   "source": [
    "You'll notice the visualization colors don't align with the logo colors. Go to the sheet and adjust the colors to red and gray. To do so, go to the sheet and in the \"Marks\" section click on \"Color\" then select the red and gold palette. Click on `Dollars Sold` and select a shade of \"Red\". Select `PROFIT`, then select the grey palette and choose a shade, and finally select `PROFIT` again to assign the color:\n",
    "\n",
    "![Change Colors](data/img/t_mark_color.gif \"Change Colors\")"
   ]
  },
  {
   "cell_type": "markdown",
   "metadata": {},
   "source": [
    "Finally, we need to add a filter for our user to select a date range and update the charts in the dashboard accordingly. We are using a **data source** filter (which filters the data source directly), and we apply this filter by adding the `Time Key` to the \"Filters\" shelf. To do this, we need to go back to one of the sheets and drag the `Time Key` dimension to the \"Filters\" shelf. Then we will select \"Range -> Next\". We will not be changing the filter here, so leave the dates as the default (which is the earliest date in the dataset and the latest date in the dataset). Next, we right-click on the `Time Key` in the \"Filters\" shelf, then click \"Apply to Worksheets -> All Using This Data Source\". This applies the filter to any visualization from this dataset:\n",
    "\n",
    "![Add Filters](data/img/t_filters.gif \"Add Filters\")\n",
    "\n",
    "To learn more about filters, you can check [the documentation](https://help.tableau.com/current/pro/desktop/en-us/filtering.htm)."
   ]
  },
  {
   "cell_type": "markdown",
   "metadata": {},
   "source": [
    "To add the filter to the dashboard, we return to the dashboard and select the visual. A down arrow will show up which leads to more available options. Select \"Filters -> Time Key\":\n",
    "\n",
    "![Dashboard Filters](data/img/t_dashboard_filter.png \"Dashboard Filter\")"
   ]
  },
  {
   "cell_type": "markdown",
   "metadata": {},
   "source": [
    "Now we can start editing the dashboard. To edit the name of a visual, double-click the title. To format the size or color of visuals, right click on the graphic and click \"Format\":\n",
    "\n",
    "![Format](data/img/t_format.png \"Format\")"
   ]
  },
  {
   "cell_type": "markdown",
   "metadata": {
    "tags": [
     "3_min"
    ]
   },
   "source": [
    "### Helpful design notes\n",
    "\n",
    "When you start to master Tableau, you'll add containers so that you can control the design better. You [can](https://help.tableau.com/current/pro/desktop/en-us/dashboards_organize_floatingandtiled.htm) add horizontal or vertical containers to align your dashboard layout with the design we were provided earlier to organize the layout."
   ]
  },
  {
   "cell_type": "markdown",
   "metadata": {},
   "source": [
    "To align the content of your visuals to fit the full size of the container, go to the drop-down menu and click \"Fit -> Entire View\":\n",
    "\n",
    "![Fit View](data/img/t_fitview.png \"Fit View\")\n",
    "\n",
    "We add some more explanatory text, and our first page is done:\n",
    "\n",
    "![Birds Eye View](data/img/t_birdseyeview.png \"Birds Eye View\")\n",
    "\n"
   ]
  },
  {
   "cell_type": "markdown",
   "metadata": {
    "tags": [
     "10_min"
    ]
   },
   "source": [
    "### Exercise 9\n",
    "\n",
    "Now do the same with the second page, the \"Detailed View\".\n",
    "\n",
    "**Note 1:** We said we wanted to add drill-down to the dashboards. To achieve that, we must select each visual, click into its drop-down, and select \"Use as Filter\":\n",
    "\n",
    "![How to drill down](data/img/t_visual_as_filter.png \"How to drill down\")\n",
    "\n",
    "Once you apply this to all filters your dashboard will update dynamically.\n",
    "\n",
    "**Note 2:** To add more context to a visual, drag a measure or dimension onto the \"Tooltip\" in the \"Marks\" section. This allows users to see more context when they hover over.\n",
    "\n",
    "![Tooltip](data/img/t_tooltips.png \"Tooltip\")\n",
    "\n",
    "**Note 3:** Make sure you update the `Number Format` of your measures to accurately reflect amounts that should be currency. To do this you need to go to a sheet and right-click on the measure, then go to \"Default Properties -> Number Format\":\n",
    "\n",
    "![Number Format](data/img/t_number_format.png \"Number Format\")\n",
    "\n",
    "To update multiple measures at once hold down \"CTRL\" while following the steps above:\n",
    "\n",
    "![Currency Update](data/img/t_multiple_format.png \"Currency Update\")\n",
    "\n",
    "**Note 4:** For the geographic map, we recommend you use a bubble map as the chart type but you will need to perform a cleaning step on the `Destination State` field to split the country and state fields so the map populates. Your map will be blank before you split the chart and when you click the indicator you will see these errors:\n",
    "\n",
    "![Missing Locations](data/img/t_locations.png \"Missing Locations\")\n",
    "\n",
    "Next, you will need to right-click the `Destination State` dimension and click \"Split\". Tableau will auto-detect how to split the field (there is a dash delimiter). You can now use your new field in your visual. (Ideally, you would do this before even loading your data into Tableau to prevent duplicative fields.)\n",
    "\n",
    "![Splitting Dimensions](data/img/t_split_dimension.gif \"Splitting Dimensions\")\n",
    "\n",
    "Now perform one final check of your map's locations, update accordingly if needed, and format colors to align to the Simply Music red and gray themes:\n",
    "\n",
    "![Final Map](data/img/t_update_map.gif \"Final Map\")"
   ]
  },
  {
   "cell_type": "markdown",
   "metadata": {
    "tags": [
     "ans_st"
    ]
   },
   "source": [
    "**Answer**. Your second page should be similar to the below (we've tweaked the aesthetics just a bit, so don't worry if the look isn't exactly the same):\n",
    "\n",
    "![Detailed](data/img/t_detailed.png \"The end result\")"
   ]
  },
  {
   "cell_type": "markdown",
   "metadata": {
    "tags": [
     "2_min"
    ]
   },
   "source": [
    "## The end result\n",
    "\n",
    "Here's a GIF of what our dashboard looks like now:\n",
    "\n",
    "![Final Story](data/img/t_final_story.gif \"Final Story\")\n",
    "\n",
    "Don't forget to publish your report to Tableau Public so you can share with anyone! You can download your report in PDF format as well (\"File -> Print to PDF\").\n",
    "\n",
    "Your report is now ready to be presented to users. It will hopefully receive approval and be deployed using the live database."
   ]
  },
  {
   "cell_type": "markdown",
   "metadata": {
    "tags": [
     "3_min"
    ]
   },
   "source": [
    "## Conclusions\n",
    "\n",
    "In this case, we looked at different types of visualizations and studied what kinds of data they are best suited to presenting. But we also saw that creating an analytical dashboard goes beyond this, and involves thinking about the concrete business questions that end users want to answer with the help of the dashboard. That is why we started by getting a grasp of the business process and the relevant dimensions and metrics, which informed the layout design and the choice of visualizations. Finally, we used Tableau to build and publish the dashboard using advanced options."
   ]
  },
  {
   "cell_type": "markdown",
   "metadata": {
    "tags": [
     "7_min"
    ]
   },
   "source": [
    "## Takeaways\n",
    "\n",
    "Dashboard creation should always start with a sound understanding of the business process and the business questions. You also need to be familiar with the different types of visualizations and their strengths and weaknesses, and keep some basic design principles in mind as well. This allows you to build a dashboard that is functional but also not cluttered. Some key ideas you might want to keep in mind for the future are:\n",
    "\n",
    "* *Dashboards are like restaurant menus.* They must be clear, straightforward and avoid overwhelming the user with too much information.\n",
    "* *Your visualizations should be organized hierarchically.* The most important questions come first. Secondary questions can be placed more to the right or bottom, and be presented in a smaller size\n",
    "* *Each visualization must answer a business question*, so it is always a good practice to label the chart or table with the question. You should also add explanatory text when you feel your users would appreciate it. However, if you find yourself adding too much text, then perhaps it is because your dashboard is not clear enough by itself and you should re-evaluate your layout or visualizations\n",
    "\n",
    "Additionally, drill-down and charts that double as page-level filters can save you a lot of space because you don't need to add more controls (like drop-down lists) to act as filters in the page. Not everything should be drillable though, because the dashboard should be kept as simple as possible.\n",
    "\n",
    "Tableau is an excellent dashboarding tool, and its graphical user interface makes it one of the easiest to use. We encourage you to explore the many possibilities that it offers. This will help you expand your data visualization vocabulary and hone your dashboarding skills at the same time."
   ]
  },
  {
   "cell_type": "markdown",
   "metadata": {},
   "source": [
    "## Attribution\n",
    "\n",
    "\"American restaurant menu\", Eric Fischer, April 14th, 2018, [Creative Commons Attribution 2.0 generic license](https://creativecommons.org/licenses/by/2.0/deed.en), https://commons.wikimedia.org/wiki/File:American_restaurant_menu_(30085586928).jpg#file\n",
    "\n"
   ]
  }
 ],
 "metadata": {
  "c1_recart": "6.10.0-57c20131aabc1dc2a8c675852d80a7da"
 },
 "nbformat": 4,
 "nbformat_minor": 1
}
