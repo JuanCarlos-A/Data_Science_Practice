{
 "cells": [
  {
   "cell_type": "markdown",
   "metadata": {
    "tags": [
     "3_min"
    ]
   },
   "source": [
    "# A/B Testing\n",
    "\n",
    "Although well-chosen data visualizations can help uncover interesting *correlations* in our data, they cannot demonstrate *causality*. Fortunately, we can set up **randomized experiments** in order to do this. We'll look at one of the simplest versions, the **A/B test**.\n",
    "\n",
    "We'll be working with data from an experiment conducted by Scott W. H. Young from Montana State University in 2013. We won't be replicating the entire research project, but focus on the parts which help us develop better intuition about how A/B tests can be useful to us in general.\n",
    "\n",
    "You can find the dataset [here](https://scholarworks.montana.edu/xmlui/handle/1/3507), and the article [here](https://quod.lib.umich.edu/w/weave/12535642.0001.101?view=text;rgn=main) if you want to learn more (note that our results won't necessarily match those of the authors due to differences in how we define the response variables).\n",
    "\n",
    "The experiment wished to test how implementing slight modifications to the University's library homepage would affect user engagement with the \"Interact\" category, which offered person-to-person assistance and support on topics related to the library. This category had been neglected by users in the past, and management's main goal was to increase clicks and user retention.\n",
    "\n",
    "\n",
    "**Note:** For this case you will need to use Chrome as your browser."
   ]
  },
  {
   "cell_type": "markdown",
   "metadata": {
    "tags": [
     "6_min"
    ]
   },
   "source": [
    "## Exploring our options\n",
    "\n",
    "This was the original homepage:\n",
    "\n",
    "![alt](data/images/interact_original.png \"Interact, original\")\n",
    "\n",
    "Management decided that they wanted to test several variants of the name of the category, to see which one would attract the most users. The alternatives they considered were:\n",
    "\n",
    "* **Interact** (the default category, hence the \"control\"), indexed as `/index.php`\n",
    "* **Connect** (variant 1), indexed as `/index2.php`\n",
    "* **Learn** (variant 2), indexed as `/index3.php`\n",
    "* **Help** (variant 3), indexed as `/index4.php`\n",
    "* **Services** (variant 4), indexed as `/index5.php`\n",
    "\n",
    "They asked the web design team to come up with alternative homepages. This is the relevant part of the homepage for variant 1:\n",
    "\n",
    "![alt](data/images/connect_original.png \"Connect, original\")\n",
    "\n",
    "For variant 2:\n",
    "\n",
    "![alt](data/images/learn_original.png \"Learn, original\")\n",
    "\n",
    "For variant 3:\n",
    "\n",
    "![alt](data/images/help_original.png \"Help, original\")\n",
    "\n",
    "For variant 4:\n",
    "\n",
    "![alt](data/images/services_original.png \"Services, original\")"
   ]
  },
  {
   "cell_type": "markdown",
   "metadata": {
    "tags": [
     "3_min"
    ]
   },
   "source": [
    "As you can see, this test is a **multi-branched** experiment. A/B tests is a term usually reserved for one-branched tests (one control and one treatment) - when there are several treatment groups, they are called multi-branched tests. However, the logic is exactly the same, only with more than one variant to try.\n",
    "\n",
    "We've just defined our variants. To keep things simple, our response variable will be the **click-through rate**. This rate tells you the clicks a link received as a percentage of the total number of clicks on the page. So if the homepage received, say, 500 clicks in a given time period, and the link got 20 clicks, then that link's click-through rate (CTR) was 20/500 = 4%.\n",
    "\n",
    "There are tools that make running an A/B test on a webpage very streamlined and efficient, like [Google Optimize](https://support.google.com/optimize/answer/6211930?hl=en), [CrazyEgg](https://www.crazyegg.com/ab-testing) and [Matomo](https://matomo.org/docs/ab-testing/). The data we are using in this case was collected with Crazy Egg."
   ]
  },
  {
   "cell_type": "markdown",
   "metadata": {
    "tags": [
     "4_min"
    ]
   },
   "source": [
    "## The control group\n",
    "\n",
    "The team collected data between May 29, 2013 and June 18, 2013 (a three-week period) with CrazyEgg. Users were randomly assigned to one of the five alternatives (either control or one of the four variants) when they visited the webpage.\n",
    "\n",
    "Let's see how the users interacted with each link in the homepage. The number of clicks was 3714, and the \"Interact\" link got 1.8% of them. That is our baseline click-through rate.\n",
    "\n",
    "![Interact pie](data/images/interact_pie.png)"
   ]
  },
  {
   "cell_type": "markdown",
   "metadata": {},
   "source": [
    "Let's have a look at a heatmap of click actions, which allows us to visualize exactly where and how frequently users interacted with various parts of a webpage:\n",
    "\n",
    "![alt](data/images/interact_heatmap.jpg \"Interact, heatmap\")"
   ]
  },
  {
   "cell_type": "markdown",
   "metadata": {
    "tags": [
     "3_min"
    ]
   },
   "source": [
    "## Variant 1 (Connect)\n",
    "\n",
    "The total number of clicks in this variant was 1587 and the click-through rate was 3.6%.\n",
    "\n",
    "![Connect pie](data/images/connect_pie.png)"
   ]
  },
  {
   "cell_type": "markdown",
   "metadata": {},
   "source": [
    "\"Connect\" drives our click-through rate up. The heatmap is:\n",
    "\n",
    "![alt](data/images/connect_heatmap.jpg \"Connect, heatmap\")\n",
    "\n",
    "Let's see if the other variants have good results as well."
   ]
  },
  {
   "cell_type": "markdown",
   "metadata": {
    "tags": [
     "3_min"
    ]
   },
   "source": [
    "## Variant 2 (Learn)\n",
    "\n",
    "The click-through rate this time was lower, only 1.4% of 1652 clicks.\n",
    "\n",
    "![Learn pie](data/images/learn_pie.png)"
   ]
  },
  {
   "cell_type": "markdown",
   "metadata": {},
   "source": [
    "Now the heatmap:\n",
    "    \n",
    "![alt](data/images/learn_heatmap.jpg \"Learn, heatmap\")\n"
   ]
  },
  {
   "cell_type": "markdown",
   "metadata": {
    "tags": [
     "3_min"
    ]
   },
   "source": [
    "## Variant 3 (Help)\n",
    "\n",
    "For the third variant, the total clicks was 1717 and the click-through rate was 2.4%.\n",
    "\n",
    "![Help pie](data/images/help_pie.png)"
   ]
  },
  {
   "cell_type": "markdown",
   "metadata": {},
   "source": [
    "This is larger than the control group but lower than variant 1 (Connect):\n",
    "\n",
    "![alt](data/images/help_heatmap.jpg \"Help, heatmap\")"
   ]
  },
  {
   "cell_type": "markdown",
   "metadata": {
    "tags": [
     "3_min"
    ]
   },
   "source": [
    "## Variant 4 (Services)\n",
    "\n",
    "Our final variant got 1348 clicks and a click-through rate of 3.5%.\n",
    "\n",
    "![Services pie](data/images/services_pie.png)"
   ]
  },
  {
   "cell_type": "markdown",
   "metadata": {},
   "source": [
    "This is the heatmap:\n",
    "\n",
    "![alt](data/images/services_heatmap.jpg \"Services, heatmap\")"
   ]
  },
  {
   "cell_type": "markdown",
   "metadata": {},
   "source": [
    "This performs at the same level as Connect. The final results are:\n",
    "\n",
    "| Variant       | Text     | Click-through rate |\n",
    "|---------------|----------|--------------------|\n",
    "| Control group | Interact | 1.8                |\n",
    "| Variant 1     | Connect  | 3.6                |\n",
    "| Variant 2     | Learn    | 1.4                |\n",
    "| Variant 3     | Help     | 2.4                |\n",
    "| Variant 4     | Services | 3.5                |\n",
    "\n",
    "From what we see in this table, the best options, in order, are Connect, Services, Help, Interact and Learn. It could be argued that the difference between Services and Connect isn't really so big so as to prefer one over the other. What is more clear is that either of those two are better options than the control group and should therefore be adopted in the website."
   ]
  },
  {
   "cell_type": "markdown",
   "metadata": {},
   "source": [
    "## Setting up an A/B test with Google Optimize\n"
   ]
  },
  {
   "cell_type": "markdown",
   "metadata": {
    "tags": [
     "12_min"
    ]
   },
   "source": [
    "### Creating a web page\n",
    "\n",
    "Let's first create a web page to run the A/B test on. For the purposes of this case, we will be using [Blogger](http://www.blogger.com/), Google's free blogging service.\n",
    "\n",
    "\n",
    "Head to www.blogger.com (while logged in to your Google account) and click on \"New Blog\". Give it a descriptive name:\n",
    "\n",
    "![Choose a name](data/images/choose_name.png)\n",
    "\n",
    "Then choose a descriptive URL:\n",
    "\n",
    "![Choose a URL](data/images/choose_url.png)\n",
    "\n",
    "You will see an empty page. That is because you don't have any posts yet. Let's create a post to run our A/B test. Go to \"New Post\". You will see this screen:\n",
    "\n",
    "![New post](data/images/new_post.png)\n",
    "\n",
    "Let's give our post a title and add a short text. Here is the title and text I will use:\n",
    "\n",
    "> # Hello world!\n",
    "> If you don't see anything interesting below, please close the tab. If you do, stay and enjoy!\n",
    "\n",
    "I will finally add a YouTube video. Our base variant will have the video, while the alternative variant will not. Click on the pencil icon at the top left and select `HTML view`. Then copy and paste this code:\n",
    "\n",
    "~~~html\n",
    "<iframe allowfullscreen=\"\" class=\"BLOG_video_class\" height=\"266\" src=\"https://www.youtube.com/embed/s50vvwTystA\" width=\"320\" youtube-src-id=\"s50vvwTystA\"></iframe>\n",
    "~~~\n",
    "\n",
    "This HTML code embeds a YouTube video in your post.\n",
    "\n",
    "Hit \"Publish\" and see your post online! Mine looks like this:\n",
    "\n",
    "![Blog post final](data/images/blogpost_final.png)"
   ]
  },
  {
   "cell_type": "markdown",
   "metadata": {
    "tags": [
     "15_min"
    ]
   },
   "source": [
    "### Adding your Google Analytics token\n",
    "\n",
    "Now that we have our page live on the Internet, we need to set it up for our experiment. The first step is to add a Google Analytics tracker to our blog. Go to https://analytics.google.com/analytics/web/. If you don't have a Google Analytics account, follow the screen prompts to create one. After you've created it, look for the \"Admin\" button that looks like this:\n",
    "\n",
    "![Admin button](data/images/admin.png)\n",
    "\n",
    "Now click on \"Create Property\" and give it a name:\n",
    "\n",
    "![Property name](data/images/property_name.png)\n",
    "\n",
    "The next step is very important. Click on \"Show advanced options\" and turn on \"Create a Universal Analytics property\". If you don't do this, you won't be able to connect your Google Analytics to your blog.\n",
    "\n",
    "Now add your blog's URL to the box that appears and hit \"Next\":\n",
    "\n",
    "![Universal property](data/images/universal_property.png)\n",
    "\n",
    "Then click on \"Create\". Now go to the property picker in your Google Analytics home and select the property you have just created (it is possible that you don't have to take this step if you haven't used Google Analytics before).\n",
    "\n",
    "![Property picker](data/images/property_picker.png)\n",
    "\n",
    "Under \"Property\", go to \"Property settings\". A code starting with \"UA\" will show. Copy it.\n",
    "\n",
    "![Google Analytics ID](data/images/ga_id.png)\n",
    "\n",
    "Now head to Blogger again and go to Settings. Then click on \"Google Analytics Property ID\" and paste the Measurement ID that you saw in the Google Analytics screen:\n",
    "\n",
    "![Google Analytics ID Blogger](data/images/ga_id_blogger.png)\n",
    "\n",
    "You're all set!"
   ]
  },
  {
   "cell_type": "markdown",
   "metadata": {
    "tags": [
     "20_min"
    ]
   },
   "source": [
    "### Creating the variants\n",
    "\n",
    "For this step we will use [Google Optimize](https://marketingplatform.google.com/about/optimize/), which is Google's tool to run A/B tests.\n",
    "\n",
    "Go to https://optimize.google.com/optimize/home/ and sign up. Then click on \"Settings\" and under \"Measurement\", select the Google Analytics property you created in the previous section. Now copy the code that appears under \"Install the Optimize snippet\":\n",
    "\n",
    "\n",
    "![Install snippet](data/images/install_snippet.png)\n",
    "\n",
    "Now go to your blog post and open the editor. In HTML view, add that bit of code right at the beginning. This code activates Google Optimize in your blog. The whole thing should look like this:\n",
    "\n",
    "![Google Optimize snippet](data/images/go_snippet.png)\n",
    "\n",
    "Now go back to Google Optimize, click on \"Create experience\", and give your test a name. In the field *What is the URL of the page you'd like to use? This is called your editor page* you should paste the URL to your post:\n",
    "\n",
    "![Create experience](data/images/create_experience.png)\n",
    "\n",
    "Click on \"Create\". Then, click on \"Add variant\".\n",
    "\n",
    "![Add variant](data/images/add_variant.png)\n",
    "\n",
    "\n",
    "Now you will be redirected to the variants home. Click on \"Edit\" in the variant you have just created:\n",
    "\n",
    "![Variants home](data/images/variants_home.png)\n",
    "\n",
    "You will be asked to install the Google Optimize extension, which only works on Chrome. Install it.\n",
    "\n",
    "![GO extension](data/images/extension.png)\n",
    "\n",
    "After you have installed the extension, reload the variants home and click \"Edit\" again. Now you'll see something like this:\n",
    "\n",
    "![Edit variant](data/images/edit_variant.png)\n",
    "\n",
    "Click on the frame that contains the video and hit \"Edit element\". Then select \"Remove\" and \"Save\". You've successfully created your variant! Now the people who visit your blog will see one of two pages: Either the one with the video, or the one without it. People will be randomly assigned to one of them.\n",
    "\n",
    "Now scroll down in the variants home to the \"Objectives\" section:\n",
    "\n",
    "![Objectives](data/images/objectives.png)\n",
    "\n",
    "Select \"Choose from list\" and then \"Session duration\". We want to see if people who see the video stay on the page longer than those who don't.\n",
    "\n",
    "Finally, head to the top of the Google Optimize page and click on \"Start\":\n",
    "\n",
    "![Start AB test](data/images/start_ab_test.png)\n",
    "\n",
    "Now your AB test is running! Every computer that visits your post will be automatically directed by Google either to the variant with the video or the variant without the video.\n",
    "\n",
    "For instance, when I visit the page from my computer, I see variant 1:\n",
    "\n",
    "![Variant 1 blog](data/images/variant1_blog.png)\n",
    "\n",
    "But when my friend visits the same page from her phone, she sees the original. Isn't that cool?\n",
    "\n",
    "![Original blog](data/images/original_blog.png)"
   ]
  },
  {
   "cell_type": "markdown",
   "metadata": {
    "tags": [
     "8_min"
    ]
   },
   "source": [
    "### Analyzing your results\n",
    "\n",
    "Once you have received a lot of traffic, you can go back to your experiment in Google Optimize and see the results of the experiment in Google Analytics (the option is under \"Measurement and Objectives\"):\n",
    "\n",
    "![View report in Analytics](data/images/view_report_analytics.png)\n",
    "\n",
    "If you click on that link, a Google Analytics report will open and you will see the results of your experiment right there! My report doesn't have any data yet, but it will as more and more people read my blog:\n",
    "\n",
    "\n",
    "![Google Analytics Report](data/images/ga_report.png)\n",
    "\n",
    "\n",
    "#### Heat maps\n",
    "\n",
    "Unfortunately, Google Optimize does not support heat maps out-of-the-box. You can however connect the Hotjar third-party extension, which allows you to see your results as heatmaps or even as session recordings (when you record a user's screen as they navigate through your website). Read [this article](https://support.google.com/optimize/answer/10012516?hl=en) for more details."
   ]
  },
  {
   "cell_type": "markdown",
   "metadata": {},
   "source": [
    "## Attribution\n",
    "\n",
    "All the heat maps and screenshots of the library website were taken from \"Improving Library User Experience with A/B Testing: Principles and Process\", Scott W. H. Young, Montana State University, 2014, Creative Commons BY License, https://quod.lib.umich.edu/w/weave/12535642.0001.101?view=text;rgn=main"
   ]
  }
 ],
 "metadata": {
  "c1_recart": "6.10.0-57c20131aabc1dc2a8c675852d80a7da"
 },
 "nbformat": 4,
 "nbformat_minor": 1
}
